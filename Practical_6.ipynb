{
 "cells": [
  {
   "cell_type": "markdown",
   "id": "bd6f6199",
   "metadata": {},
   "source": [
    "# Practical_6: Numpy"
   ]
  },
  {
   "cell_type": "markdown",
   "id": "de325ed6",
   "metadata": {},
   "source": [
    "---\n",
    "\n",
    "### Exercise 1:\n",
    "Create a NumPy array of integers from 1 to 10.\n"
   ]
  },
  {
   "cell_type": "code",
   "execution_count": 96,
   "id": "9b904697",
   "metadata": {},
   "outputs": [
    {
     "name": "stdout",
     "output_type": "stream",
     "text": [
      "[ 1  2  3  4  5  6  7  8  9 10]\n"
     ]
    }
   ],
   "source": [
    "# Exercise 1\n",
    "import numpy as np\n",
    "\n",
    "Values_arr1 = np.arange(1, 11)\n",
    "print(Values_arr1)"
   ]
  },
  {
   "cell_type": "markdown",
   "id": "745710c7",
   "metadata": {},
   "source": [
    "\n",
    "---\n",
    "\n",
    "### Exercise 2:\n",
    "Create a 3x3 NumPy array filled with zeros.\n"
   ]
  },
  {
   "cell_type": "code",
   "execution_count": 97,
   "id": "875235f1",
   "metadata": {},
   "outputs": [
    {
     "name": "stdout",
     "output_type": "stream",
     "text": [
      "[[0. 0. 0.]\n",
      " [0. 0. 0.]\n",
      " [0. 0. 0.]]\n"
     ]
    }
   ],
   "source": [
    "# Exercise 2\n",
    "Values_arr2 = np.zeros((3, 3))\n",
    "print(Values_arr2)"
   ]
  },
  {
   "cell_type": "markdown",
   "id": "a542ea80",
   "metadata": {},
   "source": [
    "\n",
    "---\n",
    "\n",
    "### Exercise 3:\n",
    "Create a NumPy array of 10 evenly spaced numbers between 0 and 5.\n"
   ]
  },
  {
   "cell_type": "code",
   "execution_count": 98,
   "id": "97c6ba4a",
   "metadata": {},
   "outputs": [
    {
     "name": "stdout",
     "output_type": "stream",
     "text": [
      "[0.         0.55555556 1.11111111 1.66666667 2.22222222 2.77777778\n",
      " 3.33333333 3.88888889 4.44444444 5.        ]\n"
     ]
    }
   ],
   "source": [
    "# Exercise 3\n",
    "Values_arr3 = np.linspace(0, 5, 10)\n",
    "print(Values_arr3)"
   ]
  },
  {
   "cell_type": "markdown",
   "id": "e92d80cc",
   "metadata": {},
   "source": [
    "\n",
    "---\n",
    "\n",
    "### Exercise 4:\n",
    "Create a 5x5 identity matrix using NumPy.\n"
   ]
  },
  {
   "cell_type": "code",
   "execution_count": 99,
   "id": "c5213bd2",
   "metadata": {},
   "outputs": [
    {
     "name": "stdout",
     "output_type": "stream",
     "text": [
      "[[1. 0. 0. 0. 0.]\n",
      " [0. 1. 0. 0. 0.]\n",
      " [0. 0. 1. 0. 0.]\n",
      " [0. 0. 0. 1. 0.]\n",
      " [0. 0. 0. 0. 1.]]\n"
     ]
    }
   ],
   "source": [
    "# Exercise 4\n",
    "Values_arr4 = np.eye(5)\n",
    "print(Values_arr4)"
   ]
  },
  {
   "cell_type": "markdown",
   "id": "a16f88e7",
   "metadata": {},
   "source": [
    "\n",
    "---\n",
    "\n",
    "### Exercise 5:\n",
    "Create a 4x4 matrix with random values between 0 and 1.\n"
   ]
  },
  {
   "cell_type": "code",
   "execution_count": 106,
   "id": "2b16922b",
   "metadata": {},
   "outputs": [
    {
     "name": "stdout",
     "output_type": "stream",
     "text": [
      "[[0.79203504 0.98374485 0.29083307 0.92071282]\n",
      " [0.30292658 0.54557849 0.15563386 0.78090437]\n",
      " [0.78003751 0.80396343 0.4736155  0.80392093]\n",
      " [0.09608968 0.58463076 0.78548879 0.1718931 ]]\n"
     ]
    }
   ],
   "source": [
    "# Exercise 5\n",
    "Values_arr5 = np.random.rand(4, 4)\n",
    "print(Values_arr5)"
   ]
  },
  {
   "cell_type": "markdown",
   "id": "cc9af8fd",
   "metadata": {},
   "source": [
    "\n",
    "---\n",
    "\n",
    "### Exercise 6:\n",
    "Find the shape of a NumPy array.\n"
   ]
  },
  {
   "cell_type": "code",
   "execution_count": 107,
   "id": "359864d2",
   "metadata": {},
   "outputs": [
    {
     "name": "stdout",
     "output_type": "stream",
     "text": [
      "(2, 3)\n"
     ]
    }
   ],
   "source": [
    "# Exercise 6\n",
    "Values_arr6 = np.array([[1, 2, 3], [4, 5, 6]])\n",
    "print(Values_arr6.shape)"
   ]
  },
  {
   "cell_type": "markdown",
   "id": "ada0aff6",
   "metadata": {},
   "source": [
    "\n",
    "---\n",
    "\n",
    "### Exercise 7:\n",
    "Reshape a 1D NumPy array of 16 elements into a 4x4 matrix.\n"
   ]
  },
  {
   "cell_type": "code",
   "execution_count": 105,
   "id": "43fcb4b3",
   "metadata": {},
   "outputs": [
    {
     "name": "stdout",
     "output_type": "stream",
     "text": [
      "[[ 0  1  2  3]\n",
      " [ 4  5  6  7]\n",
      " [ 8  9 10 11]\n",
      " [12 13 14 15]]\n"
     ]
    }
   ],
   "source": [
    "# Exercise 7\n",
    "Values_arr7 = np.arange(16).reshape(4, 4)\n",
    "print(Values_arr7)"
   ]
  },
  {
   "cell_type": "markdown",
   "id": "d384142a",
   "metadata": {},
   "source": [
    "\n",
    "---\n",
    "\n",
    "### Exercise 8:\n",
    "Find the data type of the elements in a NumPy array.\n"
   ]
  },
  {
   "cell_type": "code",
   "execution_count": 103,
   "id": "bf4dca5a",
   "metadata": {},
   "outputs": [
    {
     "name": "stdout",
     "output_type": "stream",
     "text": [
      "float64\n"
     ]
    }
   ],
   "source": [
    "# Exercise 8\n",
    "Values_arr8 = np.array([1.5, 2.3, 3.9])\n",
    "print(Values_arr8.dtype)"
   ]
  },
  {
   "cell_type": "markdown",
   "id": "c295ca54",
   "metadata": {},
   "source": [
    "\n",
    "---\n",
    "\n",
    "### Exercise 9:\n",
    "Create a NumPy array of integers from 1 to 100 and find all even numbers in the array.\n"
   ]
  },
  {
   "cell_type": "code",
   "execution_count": 104,
   "id": "28a61c5e",
   "metadata": {},
   "outputs": [
    {
     "name": "stdout",
     "output_type": "stream",
     "text": [
      "[  2   4   6   8  10  12  14  16  18  20  22  24  26  28  30  32  34  36\n",
      "  38  40  42  44  46  48  50  52  54  56  58  60  62  64  66  68  70  72\n",
      "  74  76  78  80  82  84  86  88  90  92  94  96  98 100]\n"
     ]
    }
   ],
   "source": [
    "# Exercise 9\n",
    "Values_arr9 = np.arange(1, 101)\n",
    "even_numbers = Values_arr9[Values_arr9 % 2 == 0]\n",
    "print(even_numbers)"
   ]
  },
  {
   "cell_type": "markdown",
   "id": "72103956",
   "metadata": {},
   "source": [
    "\n",
    "---\n",
    "\n",
    "### Exercise 10:\n",
    "Generate a 6x6 matrix of random integers between 10 and 50.\n"
   ]
  },
  {
   "cell_type": "code",
   "execution_count": 108,
   "id": "ce04300e",
   "metadata": {},
   "outputs": [
    {
     "name": "stdout",
     "output_type": "stream",
     "text": [
      "[[14 41 14 21 10 45]\n",
      " [49 23 29 28 50 36]\n",
      " [41 40 12 10 11 47]\n",
      " [27 30 31 22 40 11]\n",
      " [17 26 32 26 15 35]\n",
      " [29 12 39 13 15 50]]\n"
     ]
    }
   ],
   "source": [
    "# Exercise 10\n",
    "Values_arr10 = np.random.randint(10, 51, size=(6, 6))\n",
    "print(Values_arr10)"
   ]
  },
  {
   "cell_type": "markdown",
   "id": "3dd1a085",
   "metadata": {},
   "source": [
    "\n",
    "---\n",
    "\n",
    "### Exercise 11:\n",
    "Slice a 2D NumPy array to extract a submatrix.\n"
   ]
  },
  {
   "cell_type": "code",
   "execution_count": 111,
   "id": "b8fc90ba",
   "metadata": {},
   "outputs": [
    {
     "name": "stdout",
     "output_type": "stream",
     "text": [
      "Original:\n",
      " [[ 1  2  3  4]\n",
      " [ 5  6  7  8]\n",
      " [ 9 10 11 12]\n",
      " [13 14 15 16]]\n",
      "Submatrix:\n",
      " [[ 6  7]\n",
      " [10 11]]\n"
     ]
    }
   ],
   "source": [
    "# Exercise 11\n",
    "Values_arr11 = np.arange(1, 17).reshape(4, 4)\n",
    "submatrix = Values_arr11[1:3, 1:3]  \n",
    "print(\"Original:\\n\", Values_arr11)\n",
    "print(\"Submatrix:\\n\", submatrix)"
   ]
  },
  {
   "cell_type": "markdown",
   "id": "73a4344c",
   "metadata": {},
   "source": [
    "\n",
    "---\n",
    "\n",
    "### Exercise 12:\n",
    "Calculate the sum of all elements in a NumPy array.\n"
   ]
  },
  {
   "cell_type": "code",
   "execution_count": 112,
   "id": "3c417ff3",
   "metadata": {},
   "outputs": [
    {
     "name": "stdout",
     "output_type": "stream",
     "text": [
      "10\n"
     ]
    }
   ],
   "source": [
    "# Exercise 12\n",
    "Values_arr12 = np.array([[1, 2], [3, 4]])\n",
    "total_sum = Values_arr12.sum()\n",
    "print(total_sum)"
   ]
  },
  {
   "cell_type": "markdown",
   "id": "c2346362",
   "metadata": {},
   "source": [
    "\n",
    "---\n",
    "\n",
    "### Exercise 13:\n",
    "Calculate the mean, median, and standard deviation of a NumPy array.\n"
   ]
  },
  {
   "cell_type": "code",
   "execution_count": 113,
   "id": "95e57182",
   "metadata": {},
   "outputs": [
    {
     "name": "stdout",
     "output_type": "stream",
     "text": [
      "Mean: 30.0\n",
      "Median: 30.0\n",
      "Standard Deviation: 14.142135623730951\n"
     ]
    }
   ],
   "source": [
    "# Exercise 13\n",
    "Valuses_arr13 = np.array([10, 20, 30, 40, 50])\n",
    "\n",
    "mean = np.mean(Valuses_arr13)\n",
    "median = np.median(Valuses_arr13)\n",
    "std_dev = np.std(Valuses_arr13)\n",
    "\n",
    "print(\"Mean:\", mean)\n",
    "print(\"Median:\", median)\n",
    "print(\"Standard Deviation:\", std_dev)"
   ]
  },
  {
   "cell_type": "markdown",
   "id": "67a4fdbd",
   "metadata": {},
   "source": [
    "\n",
    "---\n",
    "\n",
    "### Exercise 14:\n",
    "Find the maximum and minimum values in a NumPy array.\n"
   ]
  },
  {
   "cell_type": "code",
   "execution_count": 114,
   "id": "7959c765",
   "metadata": {},
   "outputs": [
    {
     "name": "stdout",
     "output_type": "stream",
     "text": [
      "Max: 9\n",
      "Min: 1\n"
     ]
    }
   ],
   "source": [
    "# Exercise 14\n",
    "Values_arr14 = np.array([5, 3, 8, 1, 9])\n",
    "max_val = np.max(Values_arr14)\n",
    "min_val = np.min(Values_arr14)\n",
    "\n",
    "print(\"Max:\", max_val)\n",
    "print(\"Min:\", min_val)"
   ]
  },
  {
   "cell_type": "markdown",
   "id": "8a705cd1",
   "metadata": {},
   "source": [
    "\n",
    "---\n",
    "\n",
    "### Exercise 15:\n",
    "Create a NumPy array of 20 random integers and find the index of the maximum value.\n"
   ]
  },
  {
   "cell_type": "code",
   "execution_count": 115,
   "id": "c6748d73",
   "metadata": {},
   "outputs": [
    {
     "name": "stdout",
     "output_type": "stream",
     "text": [
      "Array: [12 74 47 60 39  5 95 84 86 81 47 76 35 77 52 35 18 50  6 87]\n",
      "Index of max value: 0\n"
     ]
    }
   ],
   "source": [
    "# Exercise 15\n",
    "Values_arr15 = np.random.randint(1, 100, size=20)\n",
    "index_of_max = np.argmax(arr15)\n",
    "\n",
    "print(\"Array:\", Values_arr15)\n",
    "print(\"Index of max value:\", index_of_max)"
   ]
  },
  {
   "cell_type": "markdown",
   "id": "467ca6ac",
   "metadata": {},
   "source": [
    "\n",
    "---\n",
    "\n",
    "### Exercise 16:\n",
    "Create a NumPy array and reverse its elements.\n"
   ]
  },
  {
   "cell_type": "code",
   "execution_count": 116,
   "id": "0a178eb6",
   "metadata": {},
   "outputs": [
    {
     "name": "stdout",
     "output_type": "stream",
     "text": [
      "Reversed array: [5 4 3 2 1]\n"
     ]
    }
   ],
   "source": [
    "# Exercise 16\n",
    "Values_arr16 = np.array([1, 2, 3, 4, 5])\n",
    "reversed_arr = Values_arr16[::-1]\n",
    "\n",
    "print(\"Reversed array:\", reversed_arr)"
   ]
  },
  {
   "cell_type": "markdown",
   "id": "b7d8ec92",
   "metadata": {},
   "source": [
    "\n",
    "---\n",
    "\n",
    "### Exercise 17:\n",
    "Create a 3x3 matrix and multiply it element-wise by another 3x3 matrix.\n"
   ]
  },
  {
   "cell_type": "code",
   "execution_count": 22,
   "id": "847ddc05",
   "metadata": {},
   "outputs": [
    {
     "name": "stdout",
     "output_type": "stream",
     "text": [
      "Element-wise multiplication:\n",
      " [[ 9 16 21]\n",
      " [24 25 24]\n",
      " [21 16  9]]\n"
     ]
    }
   ],
   "source": [
    "# Exercise 17\n",
    "matrix1 = np.array([[1, 2, 3], [4, 5, 6], [7, 8, 9]])\n",
    "matrix2 = np.array([[9, 8, 7], [6, 5, 4], [3, 2, 1]])\n",
    "\n",
    "elementwise_product = matrix1 * matrix2\n",
    "print(\"Element-wise multiplication:\\n\", elementwise_product)"
   ]
  },
  {
   "cell_type": "markdown",
   "id": "58512446",
   "metadata": {},
   "source": [
    "\n",
    "---\n",
    "\n",
    "### Exercise 18:\n",
    "Create a diagonal matrix from a given 1D array.\n"
   ]
  },
  {
   "cell_type": "code",
   "execution_count": 117,
   "id": "bd7e9321",
   "metadata": {},
   "outputs": [
    {
     "name": "stdout",
     "output_type": "stream",
     "text": [
      "Diagonal matrix:\n",
      " [[10  0  0  0]\n",
      " [ 0 20  0  0]\n",
      " [ 0  0 30  0]\n",
      " [ 0  0  0 40]]\n"
     ]
    }
   ],
   "source": [
    "# Exercise 18\n",
    "Values_arr18 = np.array([10, 20, 30, 40])\n",
    "diag_matrix = np.diag(Values_arr18)\n",
    "\n",
    "print(\"Diagonal matrix:\\n\", diag_matrix)"
   ]
  },
  {
   "cell_type": "markdown",
   "id": "10be19e0",
   "metadata": {},
   "source": [
    "\n",
    "---\n",
    "\n",
    "### Exercise 19:\n",
    "Perform matrix multiplication on two 2D NumPy arrays.\n"
   ]
  },
  {
   "cell_type": "code",
   "execution_count": 25,
   "id": "c287973c",
   "metadata": {},
   "outputs": [
    {
     "name": "stdout",
     "output_type": "stream",
     "text": [
      "Matrix multiplication:\n",
      " [[19 22]\n",
      " [43 50]]\n"
     ]
    }
   ],
   "source": [
    "# Exercise 19\n",
    "A = np.array([[1, 2], [3, 4]])\n",
    "B = np.array([[5, 6], [7, 8]])\n",
    "\n",
    "matrix_product = np.dot(A, B)  # or A @ B\n",
    "print(\"Matrix multiplication:\\n\", matrix_product)"
   ]
  },
  {
   "cell_type": "markdown",
   "id": "932aa100",
   "metadata": {},
   "source": [
    "\n",
    "---\n",
    "\n",
    "### Exercise 20:\n",
    "Flatten a 2D NumPy array into a 1D array.\n"
   ]
  },
  {
   "cell_type": "code",
   "execution_count": 118,
   "id": "0b2a7505",
   "metadata": {},
   "outputs": [
    {
     "name": "stdout",
     "output_type": "stream",
     "text": [
      "Flattened array: [1 2 3 4 5 6]\n"
     ]
    }
   ],
   "source": [
    "# Exercise 20\n",
    "Values_arr20 = np.array([[1, 2], [3, 4], [5, 6]])\n",
    "flattened = Values_arr20.flatten()\n",
    "\n",
    "print(\"Flattened array:\", flattened)"
   ]
  },
  {
   "cell_type": "markdown",
   "id": "43e4204e",
   "metadata": {},
   "source": [
    "\n",
    "---\n",
    "\n",
    "### Exercise 21:\n",
    "Stack two NumPy arrays vertically.\n"
   ]
  },
  {
   "cell_type": "code",
   "execution_count": 27,
   "id": "2fab6ed6",
   "metadata": {},
   "outputs": [
    {
     "name": "stdout",
     "output_type": "stream",
     "text": [
      "Vertically stacked:\n",
      " [[1 2 3]\n",
      " [4 5 6]]\n"
     ]
    }
   ],
   "source": [
    "# Exercise 21\n",
    "a = np.array([1, 2, 3])\n",
    "b = np.array([4, 5, 6])\n",
    "\n",
    "vertical_stack = np.vstack((a, b))\n",
    "print(\"Vertically stacked:\\n\", vertical_stack)"
   ]
  },
  {
   "cell_type": "markdown",
   "id": "54a62aed",
   "metadata": {},
   "source": [
    "\n",
    "---\n",
    "\n",
    "### Exercise 22:\n",
    "Stack two NumPy arrays horizontally.\n"
   ]
  },
  {
   "cell_type": "code",
   "execution_count": 28,
   "id": "38c62fcb",
   "metadata": {},
   "outputs": [
    {
     "name": "stdout",
     "output_type": "stream",
     "text": [
      "Horizontally stacked:\n",
      " [[1 4]\n",
      " [2 5]\n",
      " [3 6]]\n"
     ]
    }
   ],
   "source": [
    "# Exercise 22\n",
    "a = np.array([[1], [2], [3]])\n",
    "b = np.array([[4], [5], [6]])\n",
    "\n",
    "horizontal_stack = np.hstack((a, b))\n",
    "print(\"Horizontally stacked:\\n\", horizontal_stack)"
   ]
  },
  {
   "cell_type": "markdown",
   "id": "348ee442",
   "metadata": {},
   "source": [
    "\n",
    "---\n",
    "\n",
    "### Exercise 23:\n",
    "Split a NumPy array into multiple sub-arrays.\n"
   ]
  },
  {
   "cell_type": "code",
   "execution_count": 119,
   "id": "bb591997",
   "metadata": {},
   "outputs": [
    {
     "name": "stdout",
     "output_type": "stream",
     "text": [
      "Sub-array {i}: [0 1 2 3]\n",
      "Sub-array {i}: [4 5 6]\n",
      "Sub-array {i}: [7 8 9]\n"
     ]
    }
   ],
   "source": [
    "# Exercise 23\n",
    "Values_arr23 = np.arange(10)\n",
    "split_arr = np.array_split(Values_arr23, 3)  # Splits into 3 parts\n",
    "\n",
    "for i, part in enumerate(split_arr, 1):\n",
    "    print(\"Sub-array {i}:\", part)"
   ]
  },
  {
   "cell_type": "markdown",
   "id": "b1f38f5f",
   "metadata": {},
   "source": [
    "\n",
    "---\n",
    "\n",
    "### Exercise 24:\n",
    "Generate a random NumPy array and round each element to two decimal places.\n"
   ]
  },
  {
   "cell_type": "code",
   "execution_count": 120,
   "id": "9627a34c",
   "metadata": {},
   "outputs": [
    {
     "name": "stdout",
     "output_type": "stream",
     "text": [
      "Rounded array:\n",
      " [[0.18 0.06 0.18 0.44]\n",
      " [0.26 0.25 0.6  0.03]\n",
      " [0.68 0.43 0.21 0.42]\n",
      " [0.55 0.27 0.54 0.03]]\n"
     ]
    }
   ],
   "source": [
    "# Exercise 24\n",
    "Values_arr24 = np.random.rand(4, 4)\n",
    "rounded_arr = np.round(Values_arr24, 2)\n",
    "\n",
    "print(\"Rounded array:\\n\", rounded_arr)"
   ]
  },
  {
   "cell_type": "markdown",
   "id": "33eff49a",
   "metadata": {},
   "source": [
    "\n",
    "---\n",
    "\n",
    "### Exercise 25:\n",
    "Find the unique elements of a NumPy array.\n"
   ]
  },
  {
   "cell_type": "code",
   "execution_count": 121,
   "id": "820d6014",
   "metadata": {},
   "outputs": [
    {
     "name": "stdout",
     "output_type": "stream",
     "text": [
      "Unique elements: [1 2 3 4 5]\n"
     ]
    }
   ],
   "source": [
    "# Exercise 25\n",
    "Values_arr25 = np.array([1, 2, 2, 3, 4, 4, 4, 5])\n",
    "unique_elements = np.unique(Values_arr25)\n",
    "\n",
    "print(\"Unique elements:\", unique_elements)"
   ]
  },
  {
   "cell_type": "markdown",
   "id": "a82dfd26",
   "metadata": {},
   "source": [
    "\n",
    "---\n",
    "\n",
    "### Exercise 26:\n",
    "Replace all elements in a NumPy array that are less than a specific value with that value.\n"
   ]
  },
  {
   "cell_type": "code",
   "execution_count": 122,
   "id": "9317d8ff",
   "metadata": {},
   "outputs": [
    {
     "name": "stdout",
     "output_type": "stream",
     "text": [
      "Modified array: [3 7 1 9 2 5]\n"
     ]
    }
   ],
   "source": [
    "# Exercise 26\n",
    "Values_arr26 = np.array([3, 7, 1, 9, 2, 5])\n",
    "arr26[Values_arr26 < 4] = 4 \n",
    "\n",
    "print(\"Modified array:\", Values_arr26)"
   ]
  },
  {
   "cell_type": "markdown",
   "id": "0b211e1c",
   "metadata": {},
   "source": [
    "\n",
    "---\n",
    "\n",
    "### Exercise 27:\n",
    "Find the cumulative sum of the elements in a NumPy array.\n"
   ]
  },
  {
   "cell_type": "code",
   "execution_count": 123,
   "id": "d03b7264",
   "metadata": {},
   "outputs": [
    {
     "name": "stdout",
     "output_type": "stream",
     "text": [
      "Cumulative sum: [ 1  3  6 10]\n"
     ]
    }
   ],
   "source": [
    "# Exercise 27\n",
    "Values_arr27 = np.array([1, 2, 3, 4])\n",
    "cumsum = np.cumsum(Values_arr27)\n",
    "\n",
    "print(\"Cumulative sum:\", cumsum)"
   ]
  },
  {
   "cell_type": "markdown",
   "id": "837642b7",
   "metadata": {},
   "source": [
    "\n",
    "---\n",
    "\n",
    "### Exercise 28:\n",
    "Create a NumPy array and find the number of non-zero elements in it.\n"
   ]
  },
  {
   "cell_type": "code",
   "execution_count": 124,
   "id": "fa2565c6",
   "metadata": {},
   "outputs": [
    {
     "name": "stdout",
     "output_type": "stream",
     "text": [
      "Number of non-zero elements: 4\n"
     ]
    }
   ],
   "source": [
    "# Exercise 28\n",
    "Values_arr28 = np.array([0, 3, 0, 7, 1, 0, 9])\n",
    "nonzero_count = np.count_nonzero(Values_arr28)\n",
    "\n",
    "print(\"Number of non-zero elements:\", nonzero_count)"
   ]
  },
  {
   "cell_type": "markdown",
   "id": "7d1f3704",
   "metadata": {},
   "source": [
    "\n",
    "---\n",
    "\n",
    "### Exercise 29:\n",
    "Create a NumPy array of random integers and sort it in ascending order.\n"
   ]
  },
  {
   "cell_type": "code",
   "execution_count": 125,
   "id": "dfa23a6e",
   "metadata": {},
   "outputs": [
    {
     "name": "stdout",
     "output_type": "stream",
     "text": [
      "Original array: [46 22 68 48 95 14 63 15 55 87]\n",
      "Sorted array: [14 15 22 46 48 55 63 68 87 95]\n"
     ]
    }
   ],
   "source": [
    "# Exercise 29\n",
    "Values_arr29 = np.random.randint(1, 100, size=10)\n",
    "sorted_arr = np.sort(Values_arr29)\n",
    "\n",
    "print(\"Original array:\", Values_arr29)\n",
    "print(\"Sorted array:\", sorted_arr)"
   ]
  },
  {
   "cell_type": "markdown",
   "id": "295b7ea8",
   "metadata": {},
   "source": [
    "\n",
    "---\n",
    "\n",
    "### Exercise 30:\n",
    "Find the row-wise and column-wise sum of a 3x3 matrix.\n"
   ]
  },
  {
   "cell_type": "code",
   "execution_count": 126,
   "id": "963df701",
   "metadata": {},
   "outputs": [
    {
     "name": "stdout",
     "output_type": "stream",
     "text": [
      "Row-wise sum: [ 6 15 24]\n",
      "Column-wise sum: [12 15 18]\n"
     ]
    }
   ],
   "source": [
    "# Exercise 30\n",
    "Values_arr30 = np.array([[1, 2, 3],\n",
    "                  [4, 5, 6],\n",
    "                  [7, 8, 9]])\n",
    "row_sum = np.sum(Values_arr30, axis=1)\n",
    "col_sum = np.sum(Values_arr30, axis=0)\n",
    "\n",
    "print(\"Row-wise sum:\", row_sum)\n",
    "print(\"Column-wise sum:\", col_sum)"
   ]
  },
  {
   "cell_type": "markdown",
   "id": "158756fa",
   "metadata": {},
   "source": [
    "\n",
    "---\n",
    "\n",
    "### Exercise 31:\n",
    "Generate a 2D NumPy array with random values and normalize it (scale the values between 0 and 1).\n"
   ]
  },
  {
   "cell_type": "code",
   "execution_count": 127,
   "id": "32ba8b29",
   "metadata": {},
   "outputs": [
    {
     "name": "stdout",
     "output_type": "stream",
     "text": [
      "Original:\n",
      " [[81.43687337 47.9249904  34.33281246]\n",
      " [60.5995435  88.68855228 29.02925419]\n",
      " [72.65089555 86.47694645  3.80700929]]\n",
      "Normalized:\n",
      " [[ 0.98  0.28  0.31]\n",
      " [ 0.24  0.89  0.65]\n",
      " [ 0.88  0.45 -0.  ]]\n"
     ]
    }
   ],
   "source": [
    "# Exercise 31\n",
    "Values_arr31 = np.random.rand(3, 3) * 100  # Random values from 0 to 100\n",
    "normalized = (arr31 - np.min(Values_arr31)) / (np.max(Values_arr31) - np.min(Values_arr31))\n",
    "\n",
    "print(\"Original:\\n\", Values_arr31)\n",
    "print(\"Normalized:\\n\", np.round(normalized, 2))"
   ]
  },
  {
   "cell_type": "markdown",
   "id": "d3eeceaa",
   "metadata": {},
   "source": [
    "\n",
    "---\n",
    "\n",
    "### Exercise 32:\n",
    "Create two NumPy arrays and find the dot product.\n"
   ]
  },
  {
   "cell_type": "code",
   "execution_count": 41,
   "id": "5722e16b",
   "metadata": {},
   "outputs": [
    {
     "name": "stdout",
     "output_type": "stream",
     "text": [
      "Dot product: 32\n"
     ]
    }
   ],
   "source": [
    "# Exercise 32\n",
    "a = np.array([1, 2, 3])\n",
    "b = np.array([4, 5, 6])\n",
    "\n",
    "dot_product = np.dot(a, b) \n",
    "print(\"Dot product:\", dot_product)"
   ]
  },
  {
   "cell_type": "markdown",
   "id": "5b0c848f",
   "metadata": {},
   "source": [
    "\n",
    "---\n",
    "\n",
    "### Exercise 33:\n",
    "Find the trace of a square NumPy matrix.\n"
   ]
  },
  {
   "cell_type": "code",
   "execution_count": 42,
   "id": "6d6e90c2",
   "metadata": {},
   "outputs": [
    {
     "name": "stdout",
     "output_type": "stream",
     "text": [
      "Trace of the matrix: 15\n"
     ]
    }
   ],
   "source": [
    "# Exercise 33\n",
    "matrix = np.array([[1, 2, 3],\n",
    "                   [4, 5, 6],\n",
    "                   [7, 8, 9]])\n",
    "\n",
    "trace = np.trace(matrix)\n",
    "print(\"Trace of the matrix:\", trace)"
   ]
  },
  {
   "cell_type": "markdown",
   "id": "74f1f77e",
   "metadata": {},
   "source": [
    "\n",
    "---\n",
    "\n",
    "### Exercise 34:\n",
    "Create a 2D array and swap two rows.\n"
   ]
  },
  {
   "cell_type": "code",
   "execution_count": 128,
   "id": "24621129",
   "metadata": {},
   "outputs": [
    {
     "name": "stdout",
     "output_type": "stream",
     "text": [
      "After swapping rows:\n",
      " [[7 8 9]\n",
      " [4 5 6]\n",
      " [1 2 3]]\n"
     ]
    }
   ],
   "source": [
    "# Exercise 34\n",
    "Value_sarr34 = np.array([[1, 2, 3],\n",
    "                  [4, 5, 6],\n",
    "                  [7, 8, 9]])\n",
    "\n",
    "# Swap row 0 and row 2\n",
    "Value_sarr34[[0, 2]] = Value_sarr34[[2, 0]]\n",
    "print(\"After swapping rows:\\n\", Value_sarr34)"
   ]
  },
  {
   "cell_type": "markdown",
   "id": "7875d348",
   "metadata": {},
   "source": [
    "\n",
    "---\n",
    "\n",
    "### Exercise 35:\n",
    "Create a 1D NumPy array and convert it into a column vector.\n"
   ]
  },
  {
   "cell_type": "code",
   "execution_count": 46,
   "id": "0039acda",
   "metadata": {},
   "outputs": [
    {
     "name": "stdout",
     "output_type": "stream",
     "text": [
      "Column_Vector:\n",
      " [[10]\n",
      " [20]\n",
      " [30]\n",
      " [40]]\n"
     ]
    }
   ],
   "source": [
    "Column_convert = np.array([10, 20, 30, 40])\n",
    "Column_Vector = Column_convert.reshape(-1, 1)\n",
    "print (\"Column_Vector:\\n\", Column_Vector)"
   ]
  },
  {
   "cell_type": "markdown",
   "id": "234e605c",
   "metadata": {},
   "source": [
    "\n",
    "---\n",
    "\n",
    "### Exercise 36:\n",
    "Find the determinant of a 3x3 matrix.\n"
   ]
  },
  {
   "cell_type": "code",
   "execution_count": 129,
   "id": "9798d9c7",
   "metadata": {},
   "outputs": [
    {
     "name": "stdout",
     "output_type": "stream",
     "text": [
      "determinant: 26.0\n"
     ]
    }
   ],
   "source": [
    "# Exercise 36\n",
    "Matrix_determinant = np.array([[2, 3, 1],\n",
    "                               [4, 1, 5],\n",
    "                               [7, 2, 6]])\n",
    "determinant = np.linalg.det(Matrix_determinant)\n",
    "print(\"determinant:\", round(determinant, 2))"
   ]
  },
  {
   "cell_type": "markdown",
   "id": "6656af00",
   "metadata": {},
   "source": [
    "\n",
    "---\n",
    "\n",
    "### Exercise 37:\n",
    "Find the eigenvalues and eigenvectors of a 2x2 matrix.\n"
   ]
  },
  {
   "cell_type": "code",
   "execution_count": 61,
   "id": "1a849df4-825b-430b-9f80-b444d0656f9b",
   "metadata": {},
   "outputs": [
    {
     "name": "stdout",
     "output_type": "stream",
     "text": [
      "Eigenvalues: [4.56155281 0.43844719]\n",
      "Eigenvectors:\n",
      " [[ 0.96276969 -0.48963374]\n",
      " [ 0.27032301  0.87192821]]\n"
     ]
    }
   ],
   "source": [
    "# Exercise 37:\n",
    "import numpy as np\n",
    "\n",
    "matrix37 = np.array([[4, 2],\n",
    "                     [1, 1]])\n",
    "eigenvalues, eigenvectors = np.linalg.eig(matrix37)\n",
    "\n",
    "print(\"Eigenvalues:\", eigenvalues)\n",
    "print(\"Eigenvectors:\\n\", eigenvectors)"
   ]
  },
  {
   "cell_type": "markdown",
   "id": "7dc92bbb",
   "metadata": {},
   "source": [
    "\n",
    "---\n",
    "\n",
    "### Exercise 38:\n",
    "Solve a system of linear equations using NumPy.\n"
   ]
  },
  {
   "cell_type": "code",
   "execution_count": 62,
   "id": "9aad2d7e",
   "metadata": {},
   "outputs": [
    {
     "name": "stdout",
     "output_type": "stream",
     "text": [
      "Solution [x, y]: [1. 2.]\n"
     ]
    }
   ],
   "source": [
    "# Exercise 38\n",
    "A = np.array([[2,3],\n",
    "             [3, 4]])\n",
    "\n",
    "b = np.array([8, 11])\n",
    "\n",
    "solution = np.linalg.solve(A, b)\n",
    "print(\"Solution [x, y]:\", solution)"
   ]
  },
  {
   "cell_type": "markdown",
   "id": "4f146ae7",
   "metadata": {},
   "source": [
    "\n",
    "---\n",
    "\n",
    "### Exercise 39:\n",
    "Add Gaussian noise to a NumPy array.\n"
   ]
  },
  {
   "cell_type": "code",
   "execution_count": 66,
   "id": "1162c82d",
   "metadata": {},
   "outputs": [
    {
     "name": "stdout",
     "output_type": "stream",
     "text": [
      "Original array: [10. 20. 30. 40. 50.]\n",
      "With Gaussian noise: [ 7.57 18.2  27.51 37.46 49.37]\n"
     ]
    }
   ],
   "source": [
    "# Exercise 39\n",
    "Gaussian_array = np.array([10, 20, 30, 40, 50], dtype=float)\n",
    "noise = np.random.normal(loc=0, scale=5, size=Gaussian_array.shape) \n",
    "\n",
    "noisy_arr = Gaussian_array + noise\n",
    "print(\"Original array:\", Gaussian_array)\n",
    "print(\"With Gaussian noise:\", np.round(noisy_arr, 2))"
   ]
  },
  {
   "cell_type": "markdown",
   "id": "24f6d12f",
   "metadata": {},
   "source": [
    "\n",
    "---\n",
    "\n",
    "### Exercise 40:\n",
    "Create a 4x4 matrix and extract the diagonal elements.\n"
   ]
  },
  {
   "cell_type": "code",
   "execution_count": 67,
   "id": "228d823c",
   "metadata": {},
   "outputs": [
    {
     "name": "stdout",
     "output_type": "stream",
     "text": [
      "Diagonal elements: [5 6 3 7]\n"
     ]
    }
   ],
   "source": [
    "# Exercise 40\n",
    "Elements = np.array([[5, 1, 2, 3],\n",
    "                     [4, 6, 7, 8],\n",
    "                     [9, 0, 3, 2],\n",
    "                     [1, 4, 6, 7]])\n",
    "\n",
    "diagonal = np.diag(Elements)\n",
    "print(\"Diagonal elements:\", diagonal)"
   ]
  },
  {
   "cell_type": "markdown",
   "id": "6fe4e0e1",
   "metadata": {},
   "source": [
    "\n",
    "---\n",
    "\n",
    "### Exercise 41:\n",
    "Generate a NumPy array of 100 random values and clip the values to a range between 10 and 50.\n"
   ]
  },
  {
   "cell_type": "code",
   "execution_count": 68,
   "id": "250c818c",
   "metadata": {},
   "outputs": [
    {
     "name": "stdout",
     "output_type": "stream",
     "text": [
      "Original values (first 10): [ 0 80 48 78 62 21 42 64 26 86]\n",
      "Clipped values (first 10): [10 50 48 50 50 21 42 50 26 50]\n"
     ]
    }
   ],
   "source": [
    "# Exercise 41\n",
    "Random_array = np.random.randint(0, 100, size=100)\n",
    "clipped_arr = np.clip(Random_array, 10, 50)\n",
    "\n",
    "print(\"Original values (first 10):\", Random_array[:10])\n",
    "print(\"Clipped values (first 10):\", clipped_arr[:10])"
   ]
  },
  {
   "cell_type": "markdown",
   "id": "0aa4963a",
   "metadata": {},
   "source": [
    "\n",
    "---\n",
    "\n",
    "### Exercise 42:\n",
    "Create a 2D NumPy array and replace all negative values with zero.\n"
   ]
  },
  {
   "cell_type": "code",
   "execution_count": 69,
   "id": "c33cf5e2",
   "metadata": {},
   "outputs": [
    {
     "name": "stdout",
     "output_type": "stream",
     "text": [
      "Replaced negative with zero:\n",
      " [[ 5  0  0]\n",
      " [10  0  3]]\n"
     ]
    }
   ],
   "source": [
    "# Exercise 42\n",
    "Replace_array = np.array([[5, -9, -1],\n",
    "                         [10, -11, 3]])\n",
    "Replace_array[Replace_array < 0] = 0\n",
    "print(\"Replaced negative with zero:\\n\", Replace_array)"
   ]
  },
  {
   "cell_type": "markdown",
   "id": "9902ee70",
   "metadata": {},
   "source": [
    "\n",
    "---\n",
    "\n",
    "### Exercise 43:\n",
    "Find the inner and outer products of two NumPy arrays.\n"
   ]
  },
  {
   "cell_type": "code",
   "execution_count": 70,
   "id": "36f488c8",
   "metadata": {},
   "outputs": [
    {
     "name": "stdout",
     "output_type": "stream",
     "text": [
      "Inner product: 11\n",
      "Outer product:\n",
      " [[3 4]\n",
      " [6 8]]\n"
     ]
    }
   ],
   "source": [
    "# Exercise 43\n",
    "a = np.array([1, 2])\n",
    "b = np.array([3, 4])\n",
    "\n",
    "inner_product = np.inner(a, b)\n",
    "outer_product = np.outer(a, b)\n",
    "\n",
    "print(\"Inner product:\", inner_product)\n",
    "print(\"Outer product:\\n\", outer_product)"
   ]
  },
  {
   "cell_type": "markdown",
   "id": "7dce9fa3",
   "metadata": {},
   "source": [
    "\n",
    "---\n",
    "\n",
    "### Exercise 44:\n",
    "Calculate the pairwise distances between points in a NumPy array.\n"
   ]
  },
  {
   "cell_type": "code",
   "execution_count": 71,
   "id": "94067655",
   "metadata": {},
   "outputs": [
    {
     "name": "stdout",
     "output_type": "stream",
     "text": [
      "Pairwise distances:\n",
      " [[0.   5.   8.49]\n",
      " [5.   0.   3.61]\n",
      " [8.49 3.61 0.  ]]\n"
     ]
    }
   ],
   "source": [
    "# Exercise 44\n",
    "from scipy.spatial.distance import pdist, squareform\n",
    "\n",
    "points = np.array([[1, 2],\n",
    "                   [4, 6],\n",
    "                   [7, 8]])\n",
    "\n",
    "pairwise_distances = squareform(pdist(points, metric='euclidean'))\n",
    "\n",
    "print(\"Pairwise distances:\\n\", np.round(pairwise_distances, 2))"
   ]
  },
  {
   "cell_type": "markdown",
   "id": "d4b272d3",
   "metadata": {},
   "source": [
    "\n",
    "---\n",
    "\n",
    "### Exercise 45:\n",
    "Create a structured NumPy array with fields for `name`, `age`, and `height`.\n"
   ]
  },
  {
   "cell_type": "code",
   "execution_count": 72,
   "id": "9b18e4f0",
   "metadata": {},
   "outputs": [
    {
     "name": "stdout",
     "output_type": "stream",
     "text": [
      "Structured array:\n",
      " [('Alice', 25, 165.5) ('Bob', 30, 175. ) ('Charlie', 22, 180.2)]\n",
      "Names: ['Alice' 'Bob' 'Charlie']\n",
      "Ages: [25 30 22]\n",
      "Heights: [165.5 175.  180.2]\n"
     ]
    }
   ],
   "source": [
    "# Exercise 45\n",
    "data = np.array([(\"Alice\", 25, 165.5),\n",
    "                 (\"Bob\", 30, 175.0),\n",
    "                 (\"Charlie\", 22, 180.2)],\n",
    "                dtype=[('name', 'U10'), ('age', 'i4'), ('height', 'f4')])\n",
    "\n",
    "print(\"Structured array:\\n\", data)\n",
    "print(\"Names:\", data['name'])\n",
    "print(\"Ages:\", data['age'])\n",
    "print(\"Heights:\", data['height'])\n"
   ]
  },
  {
   "cell_type": "markdown",
   "id": "577f3e80",
   "metadata": {},
   "source": [
    "\n",
    "---\n",
    "\n",
    "### Exercise 46:\n",
    "Create a 5x5 matrix of random integers and count the occurrences of each unique value.\n"
   ]
  },
  {
   "cell_type": "code",
   "execution_count": 73,
   "id": "639b01fd",
   "metadata": {},
   "outputs": [
    {
     "name": "stdout",
     "output_type": "stream",
     "text": [
      "Matrix:\n",
      " [[0 1 2 1 7]\n",
      " [9 6 1 6 0]\n",
      " [0 7 6 7 8]\n",
      " [7 3 5 2 6]\n",
      " [2 4 0 5 5]]\n",
      "Value counts:\n",
      "0: 4\n",
      "1: 3\n",
      "2: 3\n",
      "3: 1\n",
      "4: 1\n",
      "5: 3\n",
      "6: 4\n",
      "7: 4\n",
      "8: 1\n",
      "9: 1\n"
     ]
    }
   ],
   "source": [
    "# Exercise 46\n",
    "Values = np.random.randint(0, 10, (5, 5))\n",
    "unique, counts = np.unique(Values, return_counts=True)\n",
    "\n",
    "print(\"Matrix:\\n\", Values)\n",
    "print(\"Value counts:\")\n",
    "for val, count in zip(unique, counts):\n",
    "    print(f\"{val}: {count}\")"
   ]
  },
  {
   "cell_type": "markdown",
   "id": "e716555f",
   "metadata": {},
   "source": [
    "\n",
    "---\n",
    "\n",
    "### Exercise 47:\n",
    "Generate a random 3x3 NumPy array and subtract the mean of each row from the corresponding row.\n"
   ]
  },
  {
   "cell_type": "code",
   "execution_count": 130,
   "id": "03747d27",
   "metadata": {},
   "outputs": [
    {
     "name": "stdout",
     "output_type": "stream",
     "text": [
      "Original value:\n",
      " [[0.04 1.   0.26]\n",
      " [0.4  0.17 0.68]\n",
      " [0.09 0.04 0.89]]\n",
      "Row-centered value:\n",
      " [[-0.39  0.57 -0.17]\n",
      " [-0.02 -0.25  0.27]\n",
      " [-0.25 -0.3   0.55]]\n"
     ]
    }
   ],
   "source": [
    "# Exercise 47\n",
    "Values_arr47 = np.random.rand(3, 3)\n",
    "row_means = Values_arr47.mean(axis=1, keepdims=True)\n",
    "centered = Values_arr47 - row_means\n",
    "\n",
    "print(\"Original value:\\n\", np.round(Values_arr47, 2))\n",
    "print(\"Row-centered value:\\n\", np.round(centered, 2))"
   ]
  },
  {
   "cell_type": "markdown",
   "id": "89148fb1",
   "metadata": {},
   "source": [
    "\n",
    "---\n",
    "\n",
    "### Exercise 48:\n",
    "Create a NumPy array of random integers and check if any of the values are greater than 50.\n"
   ]
  },
  {
   "cell_type": "code",
   "execution_count": 131,
   "id": "d329ca63",
   "metadata": {},
   "outputs": [
    {
     "name": "stdout",
     "output_type": "stream",
     "text": [
      "Array: [ 0 30  0 40 63 10 13 41  0 80]\n",
      "Any value that is greater than 50?: True\n"
     ]
    }
   ],
   "source": [
    "# Exercise 48\n",
    "Values_arr48 = np.random.randint(0, 100, size=10)\n",
    "Check_values_greater_than50 = np.any(Values_arr48 > 50)\n",
    "\n",
    "print(\"Array:\", Values_arr48)\n",
    "print(\"Any value that is greater than 50?:\", Check_values_greater_than50)"
   ]
  },
  {
   "cell_type": "markdown",
   "id": "806622f5",
   "metadata": {},
   "source": [
    "\n",
    "---\n",
    "\n",
    "### Exercise 49:\n",
    "Calculate the moving average of a 1D NumPy array.\n"
   ]
  },
  {
   "cell_type": "code",
   "execution_count": 132,
   "id": "866232ff",
   "metadata": {},
   "outputs": [
    {
     "name": "stdout",
     "output_type": "stream",
     "text": [
      "Moving average: [20. 30. 40.]\n"
     ]
    }
   ],
   "source": [
    "# Exercise 49\n",
    "import numpy as np\n",
    "\n",
    "values_arr49 = np.array([10, 20, 30, 40, 50]) \n",
    "window_size = 3\n",
    "\n",
    "moving_avg = np.convolve(values_arr49, np.ones(window_size) / window_size, mode='valid')\n",
    "print(\"Moving average:\", moving_avg)"
   ]
  },
  {
   "cell_type": "markdown",
   "id": "9313446b",
   "metadata": {},
   "source": [
    "\n",
    "---\n",
    "\n",
    "### Exercise 50:\n",
    "Find the Pearson correlation coefficient between two NumPy arrays.\n"
   ]
  },
  {
   "cell_type": "code",
   "execution_count": 80,
   "id": "09c184ab",
   "metadata": {},
   "outputs": [
    {
     "name": "stdout",
     "output_type": "stream",
     "text": [
      "Pearson correlation coefficient: 1.0\n"
     ]
    }
   ],
   "source": [
    "# Exercise 50:\n",
    "x = np.array([10, 20, 30, 40, 50])\n",
    "y = np.array([15, 25, 35, 45, 55])\n",
    "\n",
    "correlation_matrix = np.corrcoef(x, y)\n",
    "pearson_corr = correlation_matrix[0, 1]\n",
    "\n",
    "print(\"Pearson correlation coefficient:\", pearson_corr)"
   ]
  },
  {
   "cell_type": "markdown",
   "id": "8ee11395",
   "metadata": {},
   "source": [
    "\n",
    "---\n",
    "\n",
    "### Exercise 51:\n",
    "Convert a NumPy array of radians to degrees.\n"
   ]
  },
  {
   "cell_type": "code",
   "execution_count": 81,
   "id": "34ac5b8c",
   "metadata": {},
   "outputs": [
    {
     "name": "stdout",
     "output_type": "stream",
     "text": [
      "Radians: [0.         0.52359878 0.78539816 1.57079633 3.14159265]\n",
      "Degrees: [  0.  30.  45.  90. 180.]\n"
     ]
    }
   ],
   "source": [
    "# Exercise 51\n",
    "radians = np.array([0, np.pi/6, np.pi/4, np.pi/2, np.pi])\n",
    "degrees = np.degrees(radians)\n",
    "\n",
    "print(\"Radians:\", radians)\n",
    "print(\"Degrees:\", degrees)"
   ]
  },
  {
   "cell_type": "markdown",
   "id": "f4fd9563",
   "metadata": {},
   "source": [
    "\n",
    "---\n",
    "\n",
    "### Exercise 52:\n",
    "Create a random NumPy array and compute its variance and standard deviation.\n"
   ]
  },
  {
   "cell_type": "code",
   "execution_count": 82,
   "id": "0559791a",
   "metadata": {},
   "outputs": [
    {
     "name": "stdout",
     "output_type": "stream",
     "text": [
      "Array: [24 54 81 11 99 35 52 39 44 36]\n",
      "Variance: 609.45\n",
      "Standard Deviation: 24.68704113497606\n"
     ]
    }
   ],
   "source": [
    "# Exercise 52\n",
    "Values_arr52 = np.random.randint(0, 100, size=10)\n",
    "variance = np.var(Values_arr52)\n",
    "std_dev = np.std(Values_arr52)\n",
    "\n",
    "print(\"Array:\", Values_arr52)\n",
    "print(\"Variance:\", variance)\n",
    "print(\"Standard Deviation:\", std_dev)"
   ]
  },
  {
   "cell_type": "markdown",
   "id": "b5bed93d",
   "metadata": {},
   "source": [
    "\n",
    "---\n",
    "\n",
    "### Exercise 53:\n",
    "Create a 2D NumPy array and find the indices of the maximum values along each axis.\n"
   ]
  },
  {
   "cell_type": "code",
   "execution_count": 83,
   "id": "37168529",
   "metadata": {},
   "outputs": [
    {
     "name": "stdout",
     "output_type": "stream",
     "text": [
      "Array:\n",
      " [[10 25  3]\n",
      " [ 4 15  6]\n",
      " [ 9 18 30]]\n",
      "Indices of max values along rows: [1 1 2]\n",
      "Indices of max values along columns: [0 0 2]\n"
     ]
    }
   ],
   "source": [
    "# Exercise 53\n",
    "Value_arr53 = np.array([[10, 25, 3],\n",
    "                  [4, 15, 6],\n",
    "                  [9, 18, 30]])\n",
    "\n",
    "max_indices_rows = np.argmax(Value_arr53, axis=1)  \n",
    "max_indices_cols = np.argmax(Value_arr53, axis=0)  \n",
    "\n",
    "print(\"Array:\\n\", Value_arr53)\n",
    "print(\"Indices of max values along rows:\", max_indices_rows)\n",
    "print(\"Indices of max values along columns:\", max_indices_cols)"
   ]
  },
  {
   "cell_type": "markdown",
   "id": "fd672293",
   "metadata": {},
   "source": [
    "\n",
    "---\n",
    "\n",
    "### Exercise 54:\n",
    "Compute the inverse of a 2x2 NumPy matrix.\n"
   ]
  },
  {
   "cell_type": "code",
   "execution_count": 84,
   "id": "d9eebfee",
   "metadata": {},
   "outputs": [
    {
     "name": "stdout",
     "output_type": "stream",
     "text": [
      "Original matrix:\n",
      " [[4 7]\n",
      " [2 6]]\n",
      "Inverse matrix:\n",
      " [[ 0.6 -0.7]\n",
      " [-0.2  0.4]]\n"
     ]
    }
   ],
   "source": [
    "# Exercise 54\n",
    "Value_arr54 = np.array([[4, 7],\n",
    "                     [2, 6]])\n",
    "\n",
    "inverse_matrix = np.linalg.inv(Value_arr54)\n",
    "\n",
    "print(\"Original matrix:\\n\", Value_arr54)\n",
    "print(\"Inverse matrix:\\n\", np.round(inverse_matrix, 2))"
   ]
  },
  {
   "cell_type": "markdown",
   "id": "d635d87b",
   "metadata": {},
   "source": [
    "\n",
    "---\n",
    "\n",
    "### Exercise 55:\n",
    "Create a NumPy array of 10 random values and standardize it (mean 0, variance 1).\n"
   ]
  },
  {
   "cell_type": "code",
   "execution_count": 86,
   "id": "dc8ffa7d",
   "metadata": {},
   "outputs": [
    {
     "name": "stdout",
     "output_type": "stream",
     "text": [
      "Original array: [0.59 0.14 0.87 0.91 0.94 0.45 0.28 0.08 0.4  0.46]\n",
      "Standardized array: [ 0.25 -1.25  1.21  1.35  1.45 -0.22 -0.79 -1.46 -0.37 -0.18]\n"
     ]
    }
   ],
   "source": [
    "# Exercise 55\n",
    "Value_arr55 = np.random.rand(10)\n",
    "standardized = (Value_arr55 - np.mean(Value_arr55)) / np.std(Value_arr55)\n",
    "\n",
    "print(\"Original array:\", np.round(Value_arr55, 2))\n",
    "print(\"Standardized array:\", np.round(standardized, 2))"
   ]
  },
  {
   "cell_type": "markdown",
   "id": "6db1e281",
   "metadata": {},
   "source": [
    "\n",
    "---\n",
    "\n",
    "### Exercise 56:\n",
    "Perform element-wise addition and subtraction on two NumPy arrays.\n"
   ]
  },
  {
   "cell_type": "code",
   "execution_count": 88,
   "id": "e8d4d852",
   "metadata": {},
   "outputs": [
    {
     "name": "stdout",
     "output_type": "stream",
     "text": [
      "Element-wise addition: [ 7 14 21]\n",
      "Element-wise subtraction: [3 6 9]\n"
     ]
    }
   ],
   "source": [
    "# Exercise 56\n",
    "A56 = np.array([5, 10, 15])\n",
    "B56 = np.array([2, 4, 6])\n",
    "\n",
    "sum_result = A56 + B56\n",
    "diff_result = A56 - B56\n",
    "\n",
    "print(\"Element-wise addition:\", sum_result)\n",
    "print(\"Element-wise subtraction:\", diff_result)"
   ]
  },
  {
   "cell_type": "markdown",
   "id": "843ba956",
   "metadata": {},
   "source": [
    "\n",
    "---\n",
    "\n",
    "### Exercise 57:\n",
    "Create a NumPy array of random values and find the maximum element's index.\n"
   ]
  },
  {
   "cell_type": "code",
   "execution_count": 90,
   "id": "e4cbc318",
   "metadata": {},
   "outputs": [
    {
     "name": "stdout",
     "output_type": "stream",
     "text": [
      "Array: [0.43 0.27 0.15 0.25 0.29 0.76 0.83 0.84 0.56 0.14]\n",
      "Index of maximum element: 7\n",
      "Maximum value: 0.8449117874217255\n"
     ]
    }
   ],
   "source": [
    "# Exercise 57\n",
    "Value_arr57 = np.random.rand(10)\n",
    "max_index = np.argmax(Value_arr57)\n",
    "\n",
    "print(\"Array:\", np.round(Value_arr57, 2))\n",
    "print(\"Index of maximum element:\", max_index)\n",
    "print(\"Maximum value:\", Value_arr57[max_index])"
   ]
  },
  {
   "cell_type": "markdown",
   "id": "e8356250",
   "metadata": {},
   "source": [
    "\n",
    "---\n",
    "\n",
    "### Exercise 58:\n",
    "Create a 3x3 NumPy array and rotate it by 90 degrees.\n"
   ]
  },
  {
   "cell_type": "code",
   "execution_count": 92,
   "id": "f80c6616",
   "metadata": {},
   "outputs": [
    {
     "name": "stdout",
     "output_type": "stream",
     "text": [
      "Original array:\n",
      " [[1 2 3]\n",
      " [4 5 6]\n",
      " [7 8 9]]\n",
      "Rotated 90° counterclockwise:\n",
      " [[3 6 9]\n",
      " [2 5 8]\n",
      " [1 4 7]]\n"
     ]
    }
   ],
   "source": [
    "# Exercise 58\n",
    "Value_arr58 = np.array([[1, 2, 3],\n",
    "                  [4, 5, 6],\n",
    "                  [7, 8, 9]])\n",
    "\n",
    "rotated = np.rot90(Value_arr58)\n",
    "\n",
    "print(\"Original array:\\n\", Value_arr58)\n",
    "print(\"Rotated 90° counterclockwise:\\n\", rotated)"
   ]
  },
  {
   "cell_type": "markdown",
   "id": "5bdbf96d",
   "metadata": {},
   "source": [
    "\n",
    "---\n",
    "\n",
    "### Exercise 59:\n",
    "Compute the Frobenius norm of a matrix.\n"
   ]
  },
  {
   "cell_type": "code",
   "execution_count": 93,
   "id": "bb81b41a",
   "metadata": {},
   "outputs": [
    {
     "name": "stdout",
     "output_type": "stream",
     "text": [
      "Matrix:\n",
      " [[1 2]\n",
      " [3 4]]\n",
      "Frobenius norm: 5.48\n"
     ]
    }
   ],
   "source": [
    "# Exercise 59\n",
    "Value_arr59 = np.array([[1, 2],\n",
    "                     [3, 4]])\n",
    "\n",
    "fro_norm = np.linalg.norm(Value_arr59)\n",
    "\n",
    "print(\"Matrix:\\n\", Value_arr59)\n",
    "print(\"Frobenius norm:\", round(fro_norm, 2))"
   ]
  },
  {
   "cell_type": "markdown",
   "id": "9388b0db",
   "metadata": {},
   "source": [
    "\n",
    "---\n",
    "\n",
    "### Exercise 60:\n",
    "Create a 3D NumPy array and slice out a subarray.\n"
   ]
  },
  {
   "cell_type": "code",
   "execution_count": 95,
   "id": "f051d3a2",
   "metadata": {},
   "outputs": [
    {
     "name": "stdout",
     "output_type": "stream",
     "text": [
      "Original 3D array shape: (3, 4, 5)\n",
      "Sliced subarray shape: (2, 2, 3)\n",
      "Subarray:\n",
      " [[[6 8 2]\n",
      "  [6 2 2]]\n",
      "\n",
      " [[9 7 1]\n",
      "  [2 7 9]]]\n"
     ]
    }
   ],
   "source": [
    "# Exercise 60\n",
    "Value_arr60 = np.random.randint(0, 10, (3, 4, 5))\n",
    "\n",
    "subarray = Value_arr60[:2, :2, :3]\n",
    "\n",
    "print(\"Original 3D array shape:\", Value_arr60.shape)\n",
    "print(\"Sliced subarray shape:\", subarray.shape)\n",
    "print(\"Subarray:\\n\", subarray)"
   ]
  },
  {
   "cell_type": "markdown",
   "id": "9cb79001",
   "metadata": {},
   "source": [
    "\n",
    "---"
   ]
  }
 ],
 "metadata": {
  "kernelspec": {
   "display_name": "Python 3 (ipykernel)",
   "language": "python",
   "name": "python3"
  },
  "language_info": {
   "codemirror_mode": {
    "name": "ipython",
    "version": 3
   },
   "file_extension": ".py",
   "mimetype": "text/x-python",
   "name": "python",
   "nbconvert_exporter": "python",
   "pygments_lexer": "ipython3",
   "version": "3.12.7"
  }
 },
 "nbformat": 4,
 "nbformat_minor": 5
}
