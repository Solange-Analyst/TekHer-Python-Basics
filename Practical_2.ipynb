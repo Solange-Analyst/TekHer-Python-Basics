{
 "cells": [
  {
   "cell_type": "markdown",
   "id": "d68c1dee",
   "metadata": {},
   "source": [
    "# Practical_2: String and files"
   ]
  },
  {
   "cell_type": "markdown",
   "id": "bea983a3",
   "metadata": {},
   "source": [
    "---\n",
    "\n",
    "### Exercise 1:\n",
    "Create a string variable `text` and assign it the value `\"Python is amazing!\"`.\n",
    "```python\n",
    "# Exercise 1\n",
    "```\n",
    "\n",
    "---\n",
    "\n",
    "### Exercise 2:\n",
    "Find the length of the string `\"Hello, World!\"` and store it in a variable `length`.\n",
    "\n",
    "```python\n",
    "# Exercise 2\n",
    "```\n",
    "\n",
    "---\n",
    "\n",
    "### Exercise 3:\n",
    "Convert the string `\"python programming\"` to uppercase and store it in a variable `upper_text`.\n",
    "\n",
    "```python\n",
    "# Exercise 3\n",
    "```\n",
    "\n",
    "---\n",
    "\n",
    "### Exercise 4:\n",
    "Extract the first 5 characters from the string `\"Artificial Intelligence\"`.\n",
    "\n",
    "```python\n",
    "# Exercise 4\n",
    "\n",
    "### Exercise 5:\n",
    "Concatenate the strings `\"Hello\"` and `\"World\"` with a space in between.\n",
    "\n",
    "```python\n",
    "# Exercise 5\n",
    "```\n",
    "\n",
    "---\n",
    "\n",
    "### Exercise 6:\n",
    "Replace the word `\"dog\"` with `\"cat\"` in the string `\"The quick brown dog jumps over the lazy dog.\"`.\n",
    "\n",
    "```python\n",
    "# Exercise 6\n",
    "```\n",
    "\n",
    "---\n",
    "\n",
    "### Exercise 7:\n",
    "Split the string `\"apple,banana,orange\"` by commas and store the result in a list `fruits_list`.\n",
    "\n",
    "```python\n",
    "# Exercise 7\n",
    "```\n",
    "\n",
    "---\n",
    "\n",
    "### Exercise 8:\n",
    "Use string formatting to create the sentence `\"My name is Alice and I am 25 years old.\"`, where the name and age are variables.\n",
    "\n",
    "```python\n",
    "# Exercise 8\n",
    "```\n",
    "\n",
    "---\n",
    "\n",
    "### Exercise 9:\n",
    "Check if the string `\"python\"` is present in the sentence `\"I love python programming\"`.\n",
    "\n",
    "```python\n",
    "# Exercise 9\n",
    "```\n",
    "\n",
    "---\n",
    "\n",
    "### Exercise 10:\n",
    "Count the number of occurrences of the letter `\"e\"` in the string `\"Elephant is an elegant animal\"`.\n",
    "\n",
    "```python\n",
    "# Exercise 10\n",
    "```\n",
    "\n",
    "---\n",
    "\n",
    "### Exercise 11:\n",
    "Remove any leading and trailing spaces from the string `\"   Data Science   \"`.\n",
    "\n",
    "```python\n",
    "# Exercise 11\n",
    "```\n",
    "\n",
    "---\n",
    "\n",
    "### Exercise 12:\n",
    "Convert the string `\"100\"` into an integer and store it in a variable `int_value`.\n",
    "\n",
    "```python\n",
    "# Exercise 12\n",
    "```\n",
    "\n",
    "---\n",
    "\n",
    "### Exercise 13:\n",
    "Extract the substring `\"pro\"` from the string `\"programming\"`.\n",
    "\n",
    "```python\n",
    "# Exercise 13\n",
    "```\n",
    "\n",
    "---\n",
    "\n",
    "### Exercise 14:\n",
    "Check if the string `\"data\"` starts with `\"da\"` and ends with `\"ta\"`.\n",
    "\n",
    "```python\n",
    "# Exercise 14\n",
    "```\n",
    "\n",
    "---\n",
    "\n",
    "### Exercise 15:\n",
    "Reverse the string `\"machine learning\"` and store the result in `reversed_text`.\n",
    "\n",
    "```python\n",
    "# Exercise 15\n",
    "```\n",
    "\n",
    "---\n",
    "\n",
    "### Exercise 16:\n",
    "Convert the first letter of each word in the string `\"machine learning is fun\"` to uppercase.\n",
    "\n",
    "```python\n",
    "# Exercise 16\n",
    "```\n",
    "\n",
    "---\n",
    "\n",
    "### Exercise 17:\n",
    "Create a multiline string representing a poem and store it in a variable `poem`.\n",
    "\n",
    "```python\n",
    "# Exercise 17\n",
    "```\n",
    "\n",
    "---\n",
    "\n",
    "### Exercise 18:\n",
    "Write a string to a file named `\"output.txt\"`.\n",
    "\n",
    "```python\n",
    "# Exercise 18\n",
    "```\n",
    "\n",
    "---\n",
    "\n",
    "### Exercise 19:\n",
    "Read the contents of a file named `\"data.txt\"` and print it line by line.\n",
    "\n",
    "```python\n",
    "# Exercise 19\n",
    "```\n",
    "\n",
    "---\n",
    "\n",
    "### Exercise 20:\n",
    "Check if a file `\"example.txt\"` exists before opening it.\n",
    "\n",
    "```python\n",
    "# Exercise 20\n",
    "```\n",
    "\n",
    "---\n",
    "\n",
    "### Exercise 21:\n",
    "Append a new line `\"This is a new line\"` to an existing file `\"notes.txt\"`.\n",
    "\n",
    "```python\n",
    "# Exercise 21\n",
    "```\n",
    "\n",
    "---\n",
    "\n",
    "### Exercise 22:\n",
    "Read the contents of a file `\"log.txt\"` and store each line in a list `log_lines`.\n",
    "\n",
    "```python\n",
    "# Exercise 22\n",
    "```\n",
    "\n",
    "---\n",
    "\n",
    "### Exercise 23:\n",
    "Create a new file `\"report.txt\"` and write the string `\"Data analysis report\"` to it.\n",
    "\n",
    "```python\n",
    "# Exercise 23\n",
    "```\n",
    "\n",
    "---\n",
    "\n",
    "### Exercise 24:\n",
    "Replace the word `\"error\"` with `\"issue\"` in a file `\"log.txt\"`.\n",
    "\n",
    "```python\n",
    "# Exercise 24\n",
    "```\n",
    "\n",
    "---\n",
    "\n",
    "### Exercise 25:\n",
    "Count the number of words in a text file `\"document.txt\"`.\n",
    "\n",
    "```python\n",
    "# Exercise 25\n",
    "```\n",
    "\n",
    "---\n",
    "\n",
    "### Exercise 26:\n",
    "Write a Python script that reads a file `\"essay.txt\"` and prints the total number of lines, words, and characters.\n",
    "\n",
    "```python\n",
    "# Exercise 26\n",
    "```\n",
    "\n",
    "---\n",
    "\n",
    "### Exercise 27:\n",
    "Copy the contents of one file `\"source.txt\"` to another file `\"destination.txt\"`.\n",
    "\n",
    "```python\n",
    "# Exercise 27\n",
    "```\n",
    "\n",
    "---\n",
    "\n",
    "### Exercise 28:\n",
    "Write a Python function that takes a filename as input and returns the number of lines in the file.\n",
    "\n",
    "```python\n",
    "# Exercise 28\n",
    "```\n",
    "\n",
    "---\n",
    "\n",
    "### Exercise 29:\n",
    "Extract all the words from a text file `\"article.txt\"` that contain more than 5 characters.\n",
    "\n",
    "```python\n",
    "# Exercise 29\n",
    "```\n",
    "\n",
    "---\n",
    "\n",
    "### Exercise 30:\n",
    "Convert the contents of a file `\"notes.txt\"` to uppercase and save the result in another file `\"uppercase_notes.txt\"`.\n",
    "\n",
    "```python\n",
    "# Exercise 30\n",
    "```\n",
    "\n",
    "---\n",
    "\n",
    "### Exercise 31:\n",
    "Write a Python script that reads a file and removes all empty lines.\n",
    "\n",
    "```python\n",
    "# Exercise 31\n",
    "```\n",
    "\n",
    "---\n",
    "\n",
    "### Exercise 32:\n",
    "Open a file `\"config.txt\"` in both read and write mode.\n",
    "\n",
    "```python\n",
    "# Exercise 32\n",
    "```\n",
    "\n",
    "---\n",
    "\n",
    "### Exercise 33:\n",
    "Write a Python function that reads a file and prints the longest line in the file.\n",
    "\n",
    "```python\n",
    "# Exercise 33\n",
    "```\n",
    "\n",
    "---\n",
    "\n",
    "### Exercise 34:\n",
    "Write a Python script to count the frequency of each letter in a text file `\"message.txt\"`.\n",
    "\n",
    "```python\n",
    "# Exercise 34\n",
    "```\n",
    "\n",
    "---\n",
    "\n",
    "### Exercise 35:\n",
    "Write a Python script that reads a file and prints the total number of characters, excluding spaces.\n",
    "\n",
    "```python\n",
    "# Exercise 35\n",
    "```\n",
    "\n",
    "---\n",
    "\n",
    "### Exercise 36:\n",
    "Create a Python script to check whether a file is empty or not.\n",
    "\n",
    "```python\n",
    "# Exercise 36\n",
    "```\n",
    "\n",
    "---\n",
    "\n",
    "### Exercise 37:\n",
    "Write a Python function that reads a file and removes all punctuation marks from the text.\n",
    "\n",
    "```python\n",
    "# Exercise 37\n",
    "```\n",
    "\n",
    "---\n",
    "\n",
    "### Exercise 38:\n",
    "Create a Python function that writes a list of strings to a file, each string on a new line.\n",
    "\n",
    "```python\n",
    "# Exercise 38\n",
    "```\n",
    "\n",
    "---\n",
    "\n",
    "### Exercise 39:\n",
    "Write a Python script to count the number of lines that start with a specific letter (e.g., \"A\") in a text file.\n",
    "\n",
    "```python\n",
    "# Exercise 39\n",
    "```\n",
    "\n",
    "---\n",
    "\n",
    "### Exercise 40:\n",
    "Write a Python function that takes a string as input and writes it to a file `\"output.txt\"` in reverse order.\n",
    "\n",
    "```python\n",
    "# Exercise 40\n",
    "```\n",
    "\n",
    "---\n",
    "\n",
    "### Exercise 41:\n",
    "Write a Python script that reads a file and prints all the lines that contain the word `\"Python\"`.\n",
    "\n",
    "```python\n",
    "# Exercise 41\n",
    "```\n",
    "\n",
    "---\n",
    "\n",
    "### Exercise 42:\n",
    "Write a Python script that opens a file and removes all numeric digits from the file's content.\n",
    "\n",
    "```python\n",
    "# Exercise 42\n",
    "```\n",
    "\n",
    "---\n",
    "\n",
    "### Exercise 43:\n",
    "Write a Python script to find the most frequent word in a text file `\"book.txt\"`.\n",
    "\n",
    "```python\n",
    "# Exercise 43\n",
    "```\n",
    "\n",
    "---\n",
    "\n",
    "### Exercise 44:\n",
    "Write a Python script that reads a file and prints all the lines that contain exactly 5 words.\n",
    "\n",
    "```python\n",
    "# Exercise 44\n",
    "```\n",
    "\n",
    "---\n",
    "\n",
    "### Exercise 45:\n",
    "Write a Python script to read a file and print the first and last line of the file.\n",
    "\n",
    "```python\n",
    "# Exercise 45\n",
    "```\n",
    "\n",
    "---\n",
    "\n",
    "### Exercise 46:\n",
    "Write a Python script that checks if a file `\"students.txt\"` is writable.\n",
    "\n",
    "```python\n",
    "# Exercise 46\n",
    "```\n",
    "\n",
    "---\n",
    "\n",
    "### Exercise 47:\n",
    "Create a Python function that opens a file and returns the number of unique words in the file.\n",
    "\n",
    "```python\n",
    "# Exercise 47\n",
    "```\n",
    "\n",
    "---\n",
    "\n",
    "### Exercise 48:\n",
    "Write a Python script that reads a file and prints all lines in reverse order.\n",
    "\n",
    "```python\n",
    "# Exercise 48\n",
    "```\n",
    "\n",
    "---\n",
    "\n",
    "### Exercise 49:\n",
    "Write a Python function that reads a file and returns the most common letter in the text.\n",
    "\n",
    "```python\n",
    "# Exercise 49\n",
    "```\n",
    "\n",
    "---\n",
    "\n",
    "### Exercise 50:\n",
    "Write a Python script that reads a file and replaces every occurrence of `\"Python\"` with `\"Java\"`.\n",
    "\n",
    "```python\n",
    "# Exercise 50\n",
    "```\n",
    "\n",
    "---\n",
    "\n"
   ]
  },
  {
   "cell_type": "markdown",
   "id": "f137ce22-d3f0-4ff5-b08e-6ce4b2866387",
   "metadata": {},
   "source": [
    "# Exercise 1 "
   ]
  },
  {
   "cell_type": "code",
   "execution_count": 6,
   "id": "16268447-82cb-4143-b5cb-5c94b58a40b5",
   "metadata": {},
   "outputs": [
    {
     "name": "stdout",
     "output_type": "stream",
     "text": [
      "Python is amazing!\n"
     ]
    }
   ],
   "source": [
    "#Create a string variable text and assign it the value \"Python is amazing!\".\n",
    "text = \"Python is amazing!\"\n",
    "print(text)"
   ]
  },
  {
   "cell_type": "markdown",
   "id": "52e67ea1-64e5-48ac-8b08-5262af09122b",
   "metadata": {},
   "source": [
    "# Exercise 2"
   ]
  },
  {
   "cell_type": "code",
   "execution_count": 7,
   "id": "6efc5255-bdc3-4325-b2f1-f7b3154252ee",
   "metadata": {},
   "outputs": [
    {
     "name": "stdout",
     "output_type": "stream",
     "text": [
      "13\n"
     ]
    }
   ],
   "source": [
    "#Find the length of the string \"Hello, World!\" and store it in a variable length.\n",
    "length = len(\"Hello, World!\")\n",
    "print(length)"
   ]
  },
  {
   "cell_type": "markdown",
   "id": "e211b463-083a-4f58-a1a9-389dbdaac9ca",
   "metadata": {},
   "source": [
    "# Exercise 3"
   ]
  },
  {
   "cell_type": "code",
   "execution_count": 8,
   "id": "42c54dbf-37fb-40b0-ba67-7212b71f684b",
   "metadata": {},
   "outputs": [
    {
     "name": "stdout",
     "output_type": "stream",
     "text": [
      "PYTHON PROGRAMMING\n"
     ]
    }
   ],
   "source": [
    "#Convert the string \"python programming\" to uppercase and store it in a variable upper_text.\n",
    "upper_text = \"python programming\".upper()\n",
    "print(upper_text)"
   ]
  },
  {
   "cell_type": "markdown",
   "id": "87210955-286a-4efd-8b63-652dad7ba57e",
   "metadata": {},
   "source": [
    "# Exercise 4"
   ]
  },
  {
   "cell_type": "code",
   "execution_count": 9,
   "id": "900be6cf-6ba0-4acd-8b97-c5adb92e4391",
   "metadata": {},
   "outputs": [
    {
     "name": "stdout",
     "output_type": "stream",
     "text": [
      "Artif\n"
     ]
    }
   ],
   "source": [
    "#Extract the first 5 characters from the string \"Artificial Intelligence\".\n",
    "first_five = \"Artificial Intelligence\"[:5]\n",
    "print(first_five)"
   ]
  },
  {
   "cell_type": "markdown",
   "id": "5837d055-5b6f-4944-9763-5be0728cdcfa",
   "metadata": {},
   "source": [
    "# Exercise 5"
   ]
  },
  {
   "cell_type": "code",
   "execution_count": 10,
   "id": "6ffa1f74-c498-4eae-a176-5904d3c8439f",
   "metadata": {},
   "outputs": [
    {
     "name": "stdout",
     "output_type": "stream",
     "text": [
      "Hello World\n"
     ]
    }
   ],
   "source": [
    "#Concatenate the strings \"Hello\" and \"World\" with a space in between.\n",
    "Txt1 = \"Hello\"\n",
    "Txt2 = \"World\"\n",
    "full_sentence = Txt1 + \" \" + Txt2\n",
    "print(full_sentence)"
   ]
  },
  {
   "cell_type": "markdown",
   "id": "177535de-b1be-4a55-abe5-875600c1319e",
   "metadata": {},
   "source": [
    "# Exercise 6"
   ]
  },
  {
   "cell_type": "code",
   "execution_count": 11,
   "id": "3f3f1e64-8f72-42f2-8e46-94aafd881ddf",
   "metadata": {},
   "outputs": [
    {
     "name": "stdout",
     "output_type": "stream",
     "text": [
      "The quick brown cat jumps over the lazy cat.\n"
     ]
    }
   ],
   "source": [
    "#Replace the word `\"dog\"` with `\"cat\"` in the string `\"The quick brown dog jumps over the lazy dog.\"\n",
    "sentence = \"The quick brown dog jumps over the lazy dog.\"\n",
    "new_sentence = sentence.replace(\"dog\", \"cat\")\n",
    "print(new_sentence)"
   ]
  },
  {
   "cell_type": "markdown",
   "id": "fa0d91da-e8e4-4b0d-b045-25390fcc191a",
   "metadata": {},
   "source": [
    "# Exercise 7"
   ]
  },
  {
   "cell_type": "code",
   "execution_count": 12,
   "id": "2da319e0-f85c-4624-9696-2d9f0bce6e4f",
   "metadata": {},
   "outputs": [
    {
     "name": "stdout",
     "output_type": "stream",
     "text": [
      "['apple', 'banana', 'orange']\n"
     ]
    }
   ],
   "source": [
    "#Split the string \"apple,banana,orange\" by commas and store the result in a list fruits_list.\n",
    "fruits = \"apple,banana,orange\"\n",
    "List = fruits.split(\",\")\n",
    "print(List)"
   ]
  },
  {
   "cell_type": "markdown",
   "id": "3aa65b12-057a-4c8a-9c8c-3cd61d901067",
   "metadata": {},
   "source": [
    "# Exercise 8"
   ]
  },
  {
   "cell_type": "code",
   "execution_count": 13,
   "id": "8132a5e3-3de7-4527-9b59-ac28da0e70d8",
   "metadata": {},
   "outputs": [
    {
     "name": "stdout",
     "output_type": "stream",
     "text": [
      "My name is Alice and I am 25 years old.\n"
     ]
    }
   ],
   "source": [
    "#Use string formatting to create the sentence `\"My name is Alice and I am 25 years old.\"`, where the name and age are variables.\n",
    "name = \"Alice\"\n",
    "age = 25\n",
    "Sentence = f\"My name is {name} and I am {age} years old.\"\n",
    "print(Sentence)"
   ]
  },
  {
   "cell_type": "markdown",
   "id": "e9757945-359a-424a-9b3d-2cf2de0af1f9",
   "metadata": {},
   "source": [
    "# Exercise 9"
   ]
  },
  {
   "cell_type": "code",
   "execution_count": 14,
   "id": "6a790d83-1dd6-4e0a-b630-d55e4c21c3a5",
   "metadata": {},
   "outputs": [
    {
     "name": "stdout",
     "output_type": "stream",
     "text": [
      "True\n"
     ]
    }
   ],
   "source": [
    "#Check if the string `\"python\"` is present in the sentence `\"I love python programming\"`.\n",
    "sentence = \"I love python programming\"\n",
    "Check_python = \"python\" in sentence\n",
    "print(Check_python)"
   ]
  },
  {
   "cell_type": "markdown",
   "id": "1f4d8c34-1415-4c4c-b779-2b013ca71523",
   "metadata": {},
   "source": [
    "# Exercise 10"
   ]
  },
  {
   "cell_type": "code",
   "execution_count": 15,
   "id": "b8a7676d-c1a6-40b1-a870-d2bee244791e",
   "metadata": {},
   "outputs": [
    {
     "name": "stdout",
     "output_type": "stream",
     "text": [
      "3\n"
     ]
    }
   ],
   "source": [
    "#Count the number of occurrences of the letter `\"e\"` in the string `\"Elephant is an elegant animal\"`.\n",
    "text = \"Elephant is an elegant animal\"\n",
    "count_e = text.count(\"e\")\n",
    "print(count_e)"
   ]
  },
  {
   "cell_type": "markdown",
   "id": "f2059cc0-f931-4131-8c96-48129f3e128b",
   "metadata": {},
   "source": [
    "# Exercise 11"
   ]
  },
  {
   "cell_type": "code",
   "execution_count": 1,
   "id": "635a25a7-f763-46dd-8d25-2e2762c4b84b",
   "metadata": {},
   "outputs": [
    {
     "name": "stdout",
     "output_type": "stream",
     "text": [
      "   Data Science   \n"
     ]
    }
   ],
   "source": [
    "# Remove any leading and trailing spaces from the string \"   Data Science   \".\n",
    "raw_text = \"   Data Science   \"\n",
    "clean_text = raw_text.strip()\n",
    "print(raw_text)"
   ]
  },
  {
   "cell_type": "markdown",
   "id": "086b4793-fb2e-4ecd-8fa8-e80b3866a714",
   "metadata": {},
   "source": [
    "# Exercise 12"
   ]
  },
  {
   "cell_type": "code",
   "execution_count": 2,
   "id": "7be2e1d6-fd36-475b-ab71-8793d994be7b",
   "metadata": {},
   "outputs": [
    {
     "name": "stdout",
     "output_type": "stream",
     "text": [
      "100\n"
     ]
    }
   ],
   "source": [
    "#Convert the string `\"100\"` into an integer and store it in a variable `int_value`.\n",
    "int_value = int(\"100\")\n",
    "print(int_value)"
   ]
  },
  {
   "cell_type": "markdown",
   "id": "ccecc405-b8b9-4d93-b0e7-d3ee1d987dc8",
   "metadata": {},
   "source": [
    "# Exercise 13"
   ]
  },
  {
   "cell_type": "code",
   "execution_count": 3,
   "id": "791aa7de-f39b-4474-91e0-a5aedcf148b8",
   "metadata": {},
   "outputs": [
    {
     "name": "stdout",
     "output_type": "stream",
     "text": [
      "pro\n"
     ]
    }
   ],
   "source": [
    "#Extract the substring `\"pro\"` from the string `\"programming\"`.\n",
    "word = \"programming\"\n",
    "substring = word[0:3]\n",
    "print(substring)"
   ]
  },
  {
   "cell_type": "markdown",
   "id": "4be851cf-8743-42c6-91d8-c2d74eaa2171",
   "metadata": {},
   "source": [
    "# Exercise 14"
   ]
  },
  {
   "cell_type": "code",
   "execution_count": 4,
   "id": "141ac6cf-f775-4706-903c-d1a644160d9d",
   "metadata": {},
   "outputs": [
    {
     "name": "stdout",
     "output_type": "stream",
     "text": [
      "True True\n"
     ]
    }
   ],
   "source": [
    "#Check if the string `\"data\"` starts with `\"da\"` and ends with `\"ta\"`.\n",
    "word = \"data\"\n",
    "starts = word.startswith(\"da\")\n",
    "ends = word.endswith(\"ta\")\n",
    "print(starts, ends)\n"
   ]
  },
  {
   "cell_type": "markdown",
   "id": "7e37063d-9607-4d3b-9c19-9e636cb2e238",
   "metadata": {},
   "source": [
    "# Exercise 15"
   ]
  },
  {
   "cell_type": "code",
   "execution_count": 5,
   "id": "a63aed10-4874-4958-97b3-cba8c6fd7671",
   "metadata": {},
   "outputs": [
    {
     "name": "stdout",
     "output_type": "stream",
     "text": [
      "gninrael enihcam\n"
     ]
    }
   ],
   "source": [
    "#Reverse the string `\"machine learning\"` and store the result in `reversed_text`.\n",
    "text = \"machine learning\"\n",
    "reversed_text = text[::-1]\n",
    "print(reversed_text)"
   ]
  },
  {
   "cell_type": "markdown",
   "id": "92590f12-6826-4036-9685-712c834b8ea5",
   "metadata": {},
   "source": [
    "# Exercise 16"
   ]
  },
  {
   "cell_type": "code",
   "execution_count": 7,
   "id": "9779003a-2ed7-4a8e-b32d-f860692f2886",
   "metadata": {},
   "outputs": [
    {
     "name": "stdout",
     "output_type": "stream",
     "text": [
      "Machine Learning Is Fun\n"
     ]
    }
   ],
   "source": [
    "#Convert the first letter of each word in the string `\"machine learning is fun\"` to uppercase.\n",
    "sentence = \"machine learning is fun\"\n",
    "uppercase = sentence.title()\n",
    "print(uppercase)"
   ]
  },
  {
   "cell_type": "markdown",
   "id": "1a22799b-3b9c-4be6-a053-466b71d4eb50",
   "metadata": {},
   "source": [
    "# Exercise 17"
   ]
  },
  {
   "cell_type": "code",
   "execution_count": 8,
   "id": "77a863cd-3cdc-42ae-8a0a-fb0a84ad6b7d",
   "metadata": {},
   "outputs": [
    {
     "name": "stdout",
     "output_type": "stream",
     "text": [
      "Roses are red,\n",
      "Violets are blue,\n",
      "Python is fun,\n",
      "And so are you.\n"
     ]
    }
   ],
   "source": [
    "#Create a multiline string representing a poem and store it in a variable `poem`.\n",
    "poem = \"\"\"Roses are red,\n",
    "Violets are blue,\n",
    "Python is fun,\n",
    "And so are you.\"\"\"\n",
    "print(poem)"
   ]
  },
  {
   "cell_type": "markdown",
   "id": "25e1c45e-9770-404b-8aee-11d49285f3d5",
   "metadata": {},
   "source": [
    "# Exercise 18"
   ]
  },
  {
   "cell_type": "code",
   "execution_count": 9,
   "id": "7b46ec51-bd7a-4e35-8a71-bbf0556bb694",
   "metadata": {},
   "outputs": [
    {
     "name": "stdout",
     "output_type": "stream",
     "text": [
      "This is a sample text.\n"
     ]
    }
   ],
   "source": [
    "#Create a multiline string representing a poem and store it in a variable `poem`.\n",
    "Poem= \"This is a sample text.\"\n",
    "with open(\"output.txt\", \"w\") as file:\n",
    "    file.write(Poem)\n",
    "    print(Poem)"
   ]
  },
  {
   "cell_type": "markdown",
   "id": "a57f19d0-d249-409e-8851-47c6c5e3b1fb",
   "metadata": {},
   "source": [
    "# Exercise 19"
   ]
  },
  {
   "cell_type": "code",
   "execution_count": 15,
   "id": "c402ddeb-a673-4f48-86c7-49073ef69584",
   "metadata": {},
   "outputs": [
    {
     "name": "stdout",
     "output_type": "stream",
     "text": [
      "Name,Age,Score\n",
      "Alice,23,85\n",
      "Bob,30,90\n",
      "Charlie,25,88\n"
     ]
    }
   ],
   "source": [
    "#Read the contents of a file named `\"data.txt\"` and print it line by line.\n",
    "with open(\"C:\\\\GIT_Assignment1\\\\Solange\\\\TekHer-Python-Basics\\\\Data\\\\data.txt\", \"r\") as file:\n",
    "    for line in file:\n",
    "        print(line.strip())\n"
   ]
  },
  {
   "cell_type": "markdown",
   "id": "04cae897-d1ba-406c-ae72-1fe49b78255e",
   "metadata": {},
   "source": [
    "# Exercise 20"
   ]
  },
  {
   "cell_type": "code",
   "execution_count": 11,
   "id": "4f8d3a1c-7294-4923-8763-cde2b1b7c5a2",
   "metadata": {},
   "outputs": [
    {
     "name": "stdout",
     "output_type": "stream",
     "text": [
      "File does not exist.\n"
     ]
    }
   ],
   "source": [
    "#Check if a file `\"example.txt\"` exists before opening it.\n",
    "import os\n",
    "\n",
    "if os.path.exists(\"example.txt\"):\n",
    "    with open(\"example.txt\", \"r\") as file:\n",
    "        content = file.read()\n",
    "        print(content)\n",
    "else:\n",
    "    print(\"File does not exist.\")"
   ]
  },
  {
   "cell_type": "markdown",
   "id": "7f76a127-ecb6-40d9-9c9b-089ec137961c",
   "metadata": {},
   "source": [
    "# Exercise 21"
   ]
  },
  {
   "cell_type": "code",
   "execution_count": 22,
   "id": "43772249-fc29-46b1-b8c1-8a047270b659",
   "metadata": {},
   "outputs": [],
   "source": [
    "#Append a new line `\"This is a new line\"` to an existing file `\"notes.txt\"`.\n",
    "with open(r\"C:\\GIT_Assignment1\\Solange\\TekHer-Python-Basics\\Data\\notes.txt\", \"a\") as file:\n",
    "    file.write(\"\\nThis is a new line\")"
   ]
  },
  {
   "cell_type": "markdown",
   "id": "c4c11e3e-5792-47cd-a418-cdf3ddd5d169",
   "metadata": {},
   "source": [
    "# Exercise 22"
   ]
  },
  {
   "cell_type": "code",
   "execution_count": 24,
   "id": "1dc21d7c-9cc0-44b3-8bff-7ffe9a7b9edb",
   "metadata": {},
   "outputs": [
    {
     "name": "stdout",
     "output_type": "stream",
     "text": [
      "['2024-05-20 10:00:00 INFO Program started\\n', '2024-05-20 10:05:00 ERROR Invalid input\\n']\n"
     ]
    }
   ],
   "source": [
    "#Read the contents of a file `\"log.txt\"` and store each line in a list `log_lines`.\n",
    "with open(r\"C:\\GIT_Assignment1\\Solange\\TekHer-Python-Basics\\Data\\log.txt\", \"r\") as file:\n",
    "    log_lines = file.readlines()\n",
    "print(log_lines)"
   ]
  },
  {
   "cell_type": "markdown",
   "id": "21bca37e-e64c-45d5-b26f-5bd3f0af1faa",
   "metadata": {},
   "source": [
    "# Exercise 23"
   ]
  },
  {
   "cell_type": "code",
   "execution_count": 26,
   "id": "0135b219-28aa-4ff7-8421-c89d71039569",
   "metadata": {},
   "outputs": [],
   "source": [
    "#Create a new file `\"report.txt\"` and write the string `\"Data analysis report\"` to it.\n",
    "with open(r\"C:\\GIT_Assignment1\\Solange\\TekHer-Python-Basics\\Data\\report.txt\", \"w\") as file:\n",
    "    file.write(\"Data analysis report\")"
   ]
  },
  {
   "cell_type": "markdown",
   "id": "115e42d1-9ce1-47ab-8833-de9e7d105ef0",
   "metadata": {},
   "source": [
    "# Exercise 24"
   ]
  },
  {
   "cell_type": "code",
   "execution_count": 28,
   "id": "217c19e3-dd8a-44a4-8f2e-3c542a4a0804",
   "metadata": {},
   "outputs": [
    {
     "name": "stdout",
     "output_type": "stream",
     "text": [
      "2024-05-20 10:00:00 INFO Program started\n",
      "2024-05-20 10:05:00 ERROR Invalid input\n",
      "\n"
     ]
    }
   ],
   "source": [
    "#Replace the word `\"error\"` with `\"issue\"` in a file `\"log.txt\"`.\n",
    "with open(r\"C:\\GIT_Assignment1\\Solange\\TekHer-Python-Basics\\Data\\log.txt\", \"r\") as file:\n",
    "    content = file.read()\n",
    "\n",
    "updated_content = content.replace(\"error\", \"issue\")\n",
    "\n",
    "with open(\"log.txt\", \"w\") as file:\n",
    "    file.write(updated_content)\n",
    "    print(updated_content)"
   ]
  },
  {
   "cell_type": "markdown",
   "id": "63355582-3034-4805-b2e8-0746b58a0a80",
   "metadata": {},
   "source": [
    "# Exercise 25"
   ]
  },
  {
   "cell_type": "code",
   "execution_count": 29,
   "id": "b1f6dce4-e39e-4420-933f-210a0e2d599f",
   "metadata": {},
   "outputs": [
    {
     "name": "stdout",
     "output_type": "stream",
     "text": [
      "This document contains notes on data science.\n",
      "It is intended for beginners.\n",
      "\n",
      "12\n"
     ]
    }
   ],
   "source": [
    "#Count the number of words in a text file `\"document.txt\"`.\n",
    "with open(r\"C:\\GIT_Assignment1\\Solange\\TekHer-Python-Basics\\Data\\document.txt\", \"r\") as file:\n",
    "    content = file.read()\n",
    "    word_count = len(content.split())\n",
    "    print(content)\n",
    "    print(word_count)"
   ]
  },
  {
   "cell_type": "markdown",
   "id": "306dc551-99fd-4ed5-b62a-783901603913",
   "metadata": {},
   "source": [
    "# Exercise 26"
   ]
  },
  {
   "cell_type": "code",
   "execution_count": 31,
   "id": "67a26ad0-f63e-4682-9a1d-0a513669bec7",
   "metadata": {},
   "outputs": [
    {
     "name": "stdout",
     "output_type": "stream",
     "text": [
      "Total lines: 1\n",
      "Total words: 10\n",
      "Total characters: 66\n"
     ]
    }
   ],
   "source": [
    "#Write a Python script that reads a file `\"essay.txt\"` and prints the total number of lines, words, and characters.\n",
    "with open(r\"C:\\GIT_Assignment1\\Solange\\TekHer-Python-Basics\\Data\\essay.txt\", \"r\") as file:\n",
    "    content = file.read()\n",
    "    lines = content.splitlines()\n",
    "    words = content.split()\n",
    "    characters = len(content)\n",
    "\n",
    "    print(\"Total lines:\", len(lines))\n",
    "    print(\"Total words:\", len(words))\n",
    "    print(\"Total characters:\", characters)"
   ]
  },
  {
   "cell_type": "markdown",
   "id": "98fc46fa-dceb-4bb0-b500-5869948ea311",
   "metadata": {},
   "source": [
    "# Exercise 27"
   ]
  },
  {
   "cell_type": "code",
   "execution_count": 33,
   "id": "be316f1e-5264-4dfd-ac29-e9fb9c27b706",
   "metadata": {},
   "outputs": [
    {
     "name": "stdout",
     "output_type": "stream",
     "text": [
      "<_io.TextIOWrapper name='destination.txt' mode='w' encoding='cp1252'>\n"
     ]
    }
   ],
   "source": [
    "#Copy the contents of one file `\"source.txt\"` to another file `\"destination.txt\"`.\n",
    "with open(r\"C:\\GIT_Assignment1\\Solange\\TekHer-Python-Basics\\Data\\source.txt\", \"r\") as src_file:\n",
    "    content = src_file.read()\n",
    "\n",
    "with open(\"destination.txt\", \"w\") as dest_file:\n",
    "    dest_file.write(content)\n",
    "    print(dest_file)"
   ]
  },
  {
   "cell_type": "markdown",
   "id": "1546df0d-a082-47e4-a17b-0fc83b9da6ec",
   "metadata": {},
   "source": [
    "# Exercise 28"
   ]
  },
  {
   "cell_type": "code",
   "execution_count": 34,
   "id": "63ad5a90-1816-41df-97d4-689dfbb64cae",
   "metadata": {},
   "outputs": [],
   "source": [
    "#Write a Python function that takes a filename as input and returns the number of lines in the file.\n",
    "def count_lines(filename):\n",
    "    with open(filename, \"r\") as file:\n",
    "        return len(file.readlines())\n",
    "        print(count_lines)"
   ]
  },
  {
   "cell_type": "markdown",
   "id": "3a5b2896-c47e-4ffc-bb29-264d211377bc",
   "metadata": {},
   "source": [
    "# Exercise 29"
   ]
  },
  {
   "cell_type": "code",
   "execution_count": 35,
   "id": "5d0ed818-1f51-44a0-ba36-1811caaf62f9",
   "metadata": {},
   "outputs": [
    {
     "name": "stdout",
     "output_type": "stream",
     "text": [
      "This is a sample article about AI and its applications.\n",
      "It spans multiple lines.\n",
      "\n",
      "['This', 'is', 'a', 'sample', 'article', 'about', 'AI', 'and', 'its', 'applications.', 'It', 'spans', 'multiple', 'lines.']\n",
      "['sample', 'article', 'applications.', 'multiple', 'lines.']\n"
     ]
    }
   ],
   "source": [
    "#Extract all the words from a text file `\"article.txt\"` that contain more than 5 characters.\n",
    "with open(r\"C:\\GIT_Assignment1\\Solange\\TekHer-Python-Basics\\Data\\article.txt\", \"r\") as file:\n",
    "    content = file.read()\n",
    "    words = content.split()\n",
    "    long_words = [word for word in words if len(word) > 5]\n",
    "    print(content)\n",
    "    print(words)\n",
    "    print(long_words)"
   ]
  },
  {
   "cell_type": "markdown",
   "id": "741efb19-2179-456d-a12f-078fb04b24b2",
   "metadata": {},
   "source": [
    "# Exercise 30"
   ]
  },
  {
   "cell_type": "code",
   "execution_count": 36,
   "id": "564f8e17-28c0-45a0-ad55-71b44df9a49e",
   "metadata": {},
   "outputs": [
    {
     "name": "stdout",
     "output_type": "stream",
     "text": [
      "Python is a versatile language.\n",
      "Great for data analysis.\n",
      "\n",
      "This is a new line\n",
      "This is a new line\n"
     ]
    }
   ],
   "source": [
    "#Convert the contents of a file `\"notes.txt\"` to uppercase and save the result in another file `\"uppercase_notes.txt\"`.\n",
    "with open(r\"C:\\GIT_Assignment1\\Solange\\TekHer-Python-Basics\\Data\\notes.txt\", \"r\") as file:\n",
    "    content = file.read()\n",
    "\n",
    "with open(\"uppercase_notes.txt\", \"w\") as file:\n",
    "    file.write(content.upper())\n",
    "    print(content)"
   ]
  },
  {
   "cell_type": "markdown",
   "id": "9bfe9390-65c4-450d-be53-5cd56f8b5a90",
   "metadata": {},
   "source": [
    "#  Exercise 31"
   ]
  },
  {
   "cell_type": "code",
   "execution_count": 60,
   "id": "58ac1cb7-ef77-42b8-8a6d-6b84deaaf2af",
   "metadata": {},
   "outputs": [],
   "source": [
    "#Write a Python script that reads a file and removes all empty lines.\n",
    "input_path = r\"C:\\GIT_Assignment1\\Solange\\TekHer-Python-Basics\\Data\\destination.txt\"\n",
    "output_path = r\"C:\\GIT_Assignment1\\Solange\\TekHer-Python-Basics\\Data\\destination.txt\"\n",
    "\n",
    "with open(input_path, \"r\") as infile, open(output_path, \"w\") as outfile:\n",
    "    for line in infile:\n",
    "        if line.strip():\n",
    "            outfile.write(line)\n",
    "            print(input_path, output_path )"
   ]
  },
  {
   "cell_type": "markdown",
   "id": "823bef98-4117-4008-89f4-40f76f43e2f6",
   "metadata": {},
   "source": [
    "# Exercise 32"
   ]
  },
  {
   "cell_type": "code",
   "execution_count": 38,
   "id": "71f8b6ba-6b06-491d-b81e-1f3dc5e95b2d",
   "metadata": {},
   "outputs": [
    {
     "name": "stdout",
     "output_type": "stream",
     "text": [
      "File content:\n",
      "setting1=true\n",
      "setting2=false\n",
      "threshold=0.8\n",
      "\n"
     ]
    }
   ],
   "source": [
    "#Open a file `\"config.txt\"` in both read and write mode.\n",
    "with open(r\"C:\\GIT_Assignment1\\Solange\\TekHer-Python-Basics\\Data\\config.txt\", \"r+\") as file:\n",
    "    content = file.read()\n",
    "    print(\"File content:\")\n",
    "    print(content)"
   ]
  },
  {
   "cell_type": "markdown",
   "id": "7d662191-d5a2-41ba-9fff-ecc203f8e164",
   "metadata": {},
   "source": [
    "# Exercise 33"
   ]
  },
  {
   "cell_type": "code",
   "execution_count": 39,
   "id": "7389c90e-11bc-4219-8094-c8ea07da5b32",
   "metadata": {},
   "outputs": [],
   "source": [
    "#Write a Python function that reads a file and prints the longest line in the file.\n",
    "def print_longest_line(filename):\n",
    "    with open(filename, \"r\") as file:\n",
    "        lines = file.readlines()\n",
    "        longest = max(lines, key=len)\n",
    "        print(\"Longest line:\")\n",
    "        print(longest.strip())"
   ]
  },
  {
   "cell_type": "markdown",
   "id": "5b65b8c7-9142-4f3b-bf5b-f2a8d0772e39",
   "metadata": {},
   "source": [
    "# Exercise 34"
   ]
  },
  {
   "cell_type": "code",
   "execution_count": 41,
   "id": "3aae3168-a0a9-4e55-aaa7-a04ac6acc21f",
   "metadata": {},
   "outputs": [
    {
     "name": "stdout",
     "output_type": "stream",
     "text": [
      "Letter frequencies:\n",
      "h: 3\n",
      "e: 6\n",
      "l: 3\n",
      "o: 1\n",
      "t: 2\n",
      "r: 1\n",
      "i: 3\n",
      "s: 4\n",
      "a: 2\n",
      "m: 1\n",
      "g: 1\n",
      "f: 1\n"
     ]
    }
   ],
   "source": [
    "#Write a Python script to count the frequency of each letter in a text file `\"message.txt\"`.`\n",
    "from collections import Counter\n",
    "\n",
    "with open(r\"C:\\GIT_Assignment1\\Solange\\TekHer-Python-Basics\\Data\\message.txt\", \"r\") as file:\n",
    "    text = file.read().lower() \n",
    "    letters = [char for char in text if char.isalpha()]\n",
    "    frequency = Counter(letters)\n",
    "\n",
    "print(\"Letter frequencies:\")\n",
    "for letter, count in frequency.items():\n",
    "    print(f\"{letter}: {count}\")"
   ]
  },
  {
   "cell_type": "markdown",
   "id": "3332c9b0-4a7d-4f8d-8467-3aa40cbd2178",
   "metadata": {},
   "source": [
    "# Exercise 35"
   ]
  },
  {
   "cell_type": "code",
   "execution_count": 42,
   "id": "bfba79dc-ae5e-4356-a30d-b22187920570",
   "metadata": {},
   "outputs": [],
   "source": [
    "#Write a Python script that reads a file and prints the total number of characters, excluding spaces.\n",
    "def count_characters_excluding_spaces(filename):\n",
    "    with open(filename, 'r', encoding='utf-8') as file:\n",
    "        content = file.read()\n",
    "        count = len(content.replace(\" \", \"\").replace(\"\\n\", \"\"))\n",
    "        print(f\"Total number of characters (excluding spaces): {count}\")"
   ]
  },
  {
   "cell_type": "markdown",
   "id": "9d3b5410-2455-4511-90a6-1ff5d7427c47",
   "metadata": {},
   "source": [
    "# Exercise 36"
   ]
  },
  {
   "cell_type": "code",
   "execution_count": 43,
   "id": "10f64d8d-1dd5-4315-a663-dc21e27caf51",
   "metadata": {},
   "outputs": [],
   "source": [
    "#Create a Python script to check whether a file is empty or not.\n",
    "import os\n",
    "\n",
    "def is_file_empty(filename):\n",
    "    return os.path.getsize(filename) == 0"
   ]
  },
  {
   "cell_type": "markdown",
   "id": "b10e9545-2c72-4184-a0f8-03fdda44c9ce",
   "metadata": {},
   "source": [
    "# Exercise 37"
   ]
  },
  {
   "cell_type": "code",
   "execution_count": 44,
   "id": "85141410-9b4e-4f8c-bc79-95cfcef12dd6",
   "metadata": {
    "jupyter": {
     "source_hidden": true
    }
   },
   "outputs": [],
   "source": [
    "#Write a Python function that reads a file and removes all punctuation marks from the text.\n",
    "import string\n",
    "\n",
    "def remove_punctuation_from_file(filename):\n",
    "    with open(filename, 'r', encoding='utf-8') as file:\n",
    "        content = file.read()\n",
    "    \n",
    "    no_punctuation = ''.join(char for char in content if char not in string.punctuation)\n",
    "    return no_punctuation"
   ]
  },
  {
   "cell_type": "markdown",
   "id": "34516c25-d1ac-4072-b70a-b2420eee93c9",
   "metadata": {},
   "source": [
    "# Exercise 38"
   ]
  },
  {
   "cell_type": "code",
   "execution_count": 45,
   "id": "b3ae0805-4210-4282-834e-6d90aa884ac2",
   "metadata": {},
   "outputs": [],
   "source": [
    "#Create a Python function that writes a list of strings to a file, each string on a new line.\n",
    "def write_list_to_file(filename, lines):\n",
    "    with open(filename, 'w', encoding='utf-8') as file:\n",
    "        for line in lines:\n",
    "            file.write(line + '\\n')"
   ]
  },
  {
   "cell_type": "markdown",
   "id": "896760ad-f8fc-4e0e-b6ae-f76449bcefa3",
   "metadata": {},
   "source": [
    "# Exercise 39"
   ]
  },
  {
   "cell_type": "code",
   "execution_count": 46,
   "id": "6ba9a502-7da2-44c1-87f0-2a18ace6191f",
   "metadata": {},
   "outputs": [],
   "source": [
    "#Write a Python script to count the number of lines that start with a specific letter (e.g., \"A\") in a text file.\n",
    "def count_lines_starting_with_letter(filename, letter):\n",
    "    count = 0\n",
    "    with open(filename, 'r', encoding='utf-8') as file:\n",
    "        for line in file:\n",
    "            if line.strip().startswith(letter):\n",
    "                count += 1\n",
    "    print(f\"Number of lines starting with '{letter}': {count}\")"
   ]
  },
  {
   "cell_type": "markdown",
   "id": "82c66ae9-0821-419e-8bb4-c7050e687936",
   "metadata": {},
   "source": [
    "# Exercise 40"
   ]
  },
  {
   "cell_type": "code",
   "execution_count": 47,
   "id": "ffe1f39f-9e48-4d3c-bfa2-9166529c968b",
   "metadata": {},
   "outputs": [],
   "source": [
    "#Write a Python function that takes a string as input and writes it to a file `\"output.txt\"` in reverse order.\n",
    "def write_reversed_string_to_file(input_string):\n",
    "    with open(\"output.txt\", 'w', encoding='utf-8') as file:\n",
    "        file.write(input_string[::-1])"
   ]
  },
  {
   "cell_type": "markdown",
   "id": "4cdca053-be32-4a33-838b-2cbd0ca4cbce",
   "metadata": {},
   "source": [
    "# Exercise 41"
   ]
  },
  {
   "cell_type": "code",
   "execution_count": 48,
   "id": "c26f725c-982b-41f5-b7a0-616a049b7d6c",
   "metadata": {},
   "outputs": [],
   "source": [
    "#Write a Python script that reads a file and prints all the lines that contain the word `\"Python\"`.\n",
    "def print_lines_containing_python(filename):\n",
    "    with open(filename, 'r', encoding='utf-8') as file:\n",
    "        for line in file:\n",
    "            if \"Python\" in line:\n",
    "                print(line.strip())"
   ]
  },
  {
   "cell_type": "markdown",
   "id": "80dcb41e-71f1-4d90-a267-bbe42c6c7748",
   "metadata": {},
   "source": [
    "# Exercise 42"
   ]
  },
  {
   "cell_type": "code",
   "execution_count": 74,
   "id": "faf56d80-9ea6-4b46-82dc-b0940a898f3c",
   "metadata": {},
   "outputs": [],
   "source": [
    "#Write a Python script that opens a file and removes all numeric digits from the file's content.\n",
    "def print_first_and_last_line(filename=r\"C:\\GIT_Assignment1\\Solange\\TekHer-Python-Basics\\Data\\students.txt\"):\n",
    "    with open(filename, 'r', encoding='utf-8') as file:\n",
    "        lines = file.readlines()\n",
    "    if lines:\n",
    "        print(\"First line:\", lines[0].strip())\n",
    "        print(\"Last line:\", lines[-1].strip())\n",
    "    else:\n",
    "        print(\"The file is empty.\")\n",
    "\n",
    "def remove_digits_from_file(filename=r\"C:\\GIT_Assignment1\\Solange\\TekHer-Python-Basics\\Data\\students.txt\"):\n",
    "    with open(filename, 'r', encoding='utf-8') as file:\n",
    "        content = file.read()\n",
    "    \n",
    "    content_without_digits = ''.join(char for char in content if not char.isdigit())\n",
    "    with open(filename, 'w', encoding='utf-8') as file:\n",
    "        file.write(content_without_digits)"
   ]
  },
  {
   "cell_type": "markdown",
   "id": "5b333a31-7374-4643-b932-d88d173dbe3b",
   "metadata": {},
   "source": [
    "# Exercise 43"
   ]
  },
  {
   "cell_type": "code",
   "execution_count": 75,
   "id": "38e6efca-0b80-41d5-a3ce-95802e1250ea",
   "metadata": {},
   "outputs": [],
   "source": [
    "#Write a Python script to find the most frequent word in a text file `\"book.txt\"`.\n",
    "def print_first_and_last_line(filename=r\"C:\\GIT_Assignment1\\Solange\\TekHer-Python-Basics\\Data\\students.txt\"):\n",
    "    with open(filename, 'r', encoding='utf-8') as file:\n",
    "        lines = file.readlines()\n",
    "    if lines:\n",
    "        print(\"First line:\", lines[0].strip())\n",
    "        print(\"Last line:\", lines[-1].strip())\n",
    "    else:\n",
    "        print(\"The file is empty.\")\n",
    "\n",
    "def remove_digits_from_file(filename=r\"C:\\GIT_Assignment1\\Solange\\TekHer-Python-Basics\\Data\\students.txt\"):\n",
    "    with open(filename, 'r', encoding='utf-8') as file:\n",
    "        content = file.read()\n",
    "\n",
    "    content_without_digits = ''.join(char for char in content if not char.isdigit())\n",
    "\n",
    "    with open(filename, 'w', encoding='utf-8') as file:\n",
    "        file.write(content_without_digits)"
   ]
  },
  {
   "cell_type": "markdown",
   "id": "0391fc6b-7faa-41b7-9c67-14021a3664a8",
   "metadata": {},
   "source": [
    "# Exercise 44"
   ]
  },
  {
   "cell_type": "code",
   "execution_count": 52,
   "id": "87907c06-c663-48d4-8278-d061da4bb6da",
   "metadata": {},
   "outputs": [],
   "source": [
    "#Write a Python script that reads a file and prints all the lines that contain exactly 5 words.\n",
    "def print_lines_with_five_words(filename):\n",
    "    with open(filename, 'r', encoding='utf-8') as file:\n",
    "        for line in file:\n",
    "            if len(line.strip().split()) == 5:\n",
    "                print(line.strip())"
   ]
  },
  {
   "cell_type": "markdown",
   "id": "83c04a95-997b-4fd0-8e1e-86ae4cada0b6",
   "metadata": {},
   "source": [
    "# Exercise 45"
   ]
  },
  {
   "cell_type": "code",
   "execution_count": 72,
   "id": "d587c3c0-2f69-45c0-a9a2-7eac2e2efd1f",
   "metadata": {},
   "outputs": [],
   "source": [
    "#Write a Python script to read a file and print the first and last line of the file.\n",
    "def print_first_and_last_line(filename=r\"C:\\GIT_Assignment1\\Solange\\TekHer-Python-Basics\\Data\\students.txt\"):\n",
    "    with open(filename, 'r', encoding='utf-8') as file:\n",
    "        lines = file.readlines()\n",
    "    if lines:\n",
    "        print(\"First line:\", lines[0].strip())\n",
    "        print(\"Last line:\", lines[-1].strip())\n",
    "    else:\n",
    "        print(\"The file is empty.\")"
   ]
  },
  {
   "cell_type": "markdown",
   "id": "fc02d947-b3ea-4f9c-bfbc-8eec763a2b4a",
   "metadata": {},
   "source": [
    "# Exercise 46"
   ]
  },
  {
   "cell_type": "code",
   "execution_count": 76,
   "id": "4889c4a6-a72d-4e47-848f-98a48e2867bd",
   "metadata": {},
   "outputs": [
    {
     "name": "stdout",
     "output_type": "stream",
     "text": [
      "File is writable.\n"
     ]
    }
   ],
   "source": [
    "#Write a Python script that checks if a file `\"students.txt\"` is writable.\n",
    "import os\n",
    "\n",
    "def is_file_writable(file_path=r\"C:\\GIT_Assignment1\\Solange\\TekHer-Python-Basics\\Data\\students.txt\"):\n",
    "    return os.access(file_path, os.W_OK)\n",
    "\n",
    "# Example usage:\n",
    "if is_file_writable():\n",
    "    print(\"File is writable.\")\n",
    "else:\n",
    "    print(\"File is not writable.\")\n",
    "    "
   ]
  },
  {
   "cell_type": "markdown",
   "id": "7a3f3fe0-ae39-4d4c-911a-aa01afe12e2c",
   "metadata": {},
   "source": [
    "# Exercise 47"
   ]
  },
  {
   "cell_type": "code",
   "execution_count": 63,
   "id": "da1a741b-b424-4296-8766-b9c2151cc8c9",
   "metadata": {},
   "outputs": [],
   "source": [
    "#Create a Python function that opens a file and returns the number of unique words in the file.\n",
    "import string\n",
    "\n",
    "def count_unique_words( file_path = r\"C:\\GIT_Assignment1\\Solange\\TekHer-Python-Basics\\Data\\essay.txt\"):\n",
    "    with open( r\"C:\\GIT_Assignment1\\Solange\\TekHer-Python-Basics\\Data\\essay.txt\", 'r', encoding='utf-8') as file:\n",
    "        text = file.read().lower()\n",
    "        text = text.translate(str.maketrans('', '', string.punctuation))\n",
    "        words = text.split()\n",
    "        unique_words = set(words)\n",
    "    return len(unique_words)"
   ]
  },
  {
   "cell_type": "markdown",
   "id": "ab858c22-39b9-4765-b7fa-97760e7bb897",
   "metadata": {},
   "source": [
    "# Exercise 48"
   ]
  },
  {
   "cell_type": "code",
   "execution_count": 65,
   "id": "aef9fe33-b705-4651-9e71-9e2b82ddefb1",
   "metadata": {},
   "outputs": [],
   "source": [
    "#Write a Python script that reads a file and prints all lines in reverse order.\n",
    "def print_lines_in_reverse(file_path = r\"C:\\GIT_Assignment1\\Solange\\TekHer-Python-Basics\\Data\\essay.txt\"):\n",
    "    with open( r\"C:\\GIT_Assignment1\\Solange\\TekHer-Python-Basics\\Data\\essay.txt\", 'r', encoding='utf-8') as file:\n",
    "        lines = file.readlines()\n",
    "    \n",
    "    for line in reversed(lines):\n",
    "        print(line.strip())"
   ]
  },
  {
   "cell_type": "markdown",
   "id": "e2a9681f-3b4a-4cf6-96d0-95e97da3d177",
   "metadata": {},
   "source": [
    "# Exercise 49"
   ]
  },
  {
   "cell_type": "code",
   "execution_count": 78,
   "id": "31e653cd-1e12-4584-b459-7f82a5db1cd9",
   "metadata": {},
   "outputs": [],
   "source": [
    "#Write a Python function that reads a file and returns the most common letter in the text.\n",
    "from collections import Counter\n",
    "\n",
    "def most_common_letter(filename):\n",
    "    with open(r\"C:\\GIT_Assignment1\\Solange\\TekHer-Python-Basics\\Data\\essay.txt\", 'r', encoding='utf-8') as file:\n",
    "        text = file.read().lower()\n",
    "    \n",
    "    letters = [char for char in text if char.isalpha()]\n",
    "    letter_counts = Counter(letters)\n",
    "    most_common = letter_counts.most_common(1)\n",
    "    \n",
    "    if most_common:\n",
    "        return most_common[0][0]\n",
    "    return None"
   ]
  },
  {
   "cell_type": "markdown",
   "id": "d48be456-f64e-4c50-96fc-d8a2555b3989",
   "metadata": {},
   "source": [
    "# Exercise 50"
   ]
  },
  {
   "cell_type": "code",
   "execution_count": 77,
   "id": "54775786-a14d-442e-b64a-06ff3649a8ed",
   "metadata": {},
   "outputs": [],
   "source": [
    "#Write a Python script that reads a file and replaces every occurrence of `\"Python\"` with `\"Java\"`.\n",
    "def replace_python_with_java(file_path = r\"C:\\GIT_Assignment1\\Solange\\TekHer-Python-Basics\\Data\\essay.txt\"):\n",
    "    with open( r\"C:\\GIT_Assignment1\\Solange\\TekHer-Python-Basics\\Data\\essay.txt\", 'r', encoding='utf-8') as file:\n",
    "        content = file.read()\n",
    "    \n",
    "    updated_content = content.replace(\"Python\", \"Java\")\n",
    "    \n",
    "    with open(filename, 'w', encoding='utf-8') as file:\n",
    "        file.write(updated_content)"
   ]
  },
  {
   "cell_type": "code",
   "execution_count": null,
   "id": "da3f2c55-3018-4afc-976e-ea3b4f8b8c24",
   "metadata": {},
   "outputs": [],
   "source": []
  }
 ],
 "metadata": {
  "kernelspec": {
   "display_name": "Python 3 (ipykernel)",
   "language": "python",
   "name": "python3"
  },
  "language_info": {
   "codemirror_mode": {
    "name": "ipython",
    "version": 3
   },
   "file_extension": ".py",
   "mimetype": "text/x-python",
   "name": "python",
   "nbconvert_exporter": "python",
   "pygments_lexer": "ipython3",
   "version": "3.12.7"
  }
 },
 "nbformat": 4,
 "nbformat_minor": 5
}
