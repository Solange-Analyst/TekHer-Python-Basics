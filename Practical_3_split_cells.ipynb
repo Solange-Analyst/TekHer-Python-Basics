{
 "cells": [
  {
   "cell_type": "markdown",
   "id": "cb9ebacc",
   "metadata": {},
   "source": [
    "# Practical_3: Iterable objects or Containers"
   ]
  },
  {
   "cell_type": "markdown",
   "id": "95af436e",
   "metadata": {},
   "source": [
    "\n",
    "---\n",
    "\n",
    "### Exercise 1:\n",
    "Create a list of integers from 1 to 10.\n"
   ]
  },
  {
   "cell_type": "code",
   "execution_count": 3,
   "id": "c99db8f5",
   "metadata": {},
   "outputs": [
    {
     "name": "stdout",
     "output_type": "stream",
     "text": [
      "[1, 2, 3, 4, 5, 6, 7, 8, 9, 10]\n"
     ]
    }
   ],
   "source": [
    "# Exercise 1\n",
    "Number = list(range(1, 11))\n",
    "print(Number)"
   ]
  },
  {
   "cell_type": "markdown",
   "id": "03698ae8",
   "metadata": {},
   "source": [
    "\n",
    "---\n",
    "\n",
    "### Exercise 2:\n",
    "Create a tuple containing the elements `\"apple\"`, `\"banana\"`, and `\"cherry\"`.\n"
   ]
  },
  {
   "cell_type": "code",
   "execution_count": 9,
   "id": "e8bad276",
   "metadata": {},
   "outputs": [
    {
     "name": "stdout",
     "output_type": "stream",
     "text": [
      "('Apple', 'Banana', 'Cherry')\n"
     ]
    }
   ],
   "source": [
    "# Exercise 2\n",
    "Tuple = (\"Apple\", \"Banana\", \"Cherry\")\n",
    "print(Tuple)"
   ]
  },
  {
   "cell_type": "markdown",
   "id": "f966d443",
   "metadata": {},
   "source": [
    "\n",
    "---\n",
    "\n",
    "### Exercise 3:\n",
    "Convert the list `numbers = [10, 20, 30, 40]` into a tuple.\n"
   ]
  },
  {
   "cell_type": "code",
   "execution_count": 10,
   "id": "82f344f9",
   "metadata": {},
   "outputs": [
    {
     "name": "stdout",
     "output_type": "stream",
     "text": [
      "(10, 20, 30, 40)\n"
     ]
    }
   ],
   "source": [
    "# Exercise 3\n",
    "Numbers = [10, 20, 30, 40]\n",
    "Tuple = tuple(Numbers)\n",
    "print(Tuple)\n"
   ]
  },
  {
   "cell_type": "markdown",
   "id": "e7116820",
   "metadata": {},
   "source": [
    "\n",
    "---\n",
    "\n",
    "### Exercise 4:\n",
    "Create a set containing the elements `1, 2, 3, 4, 5`.\n"
   ]
  },
  {
   "cell_type": "code",
   "execution_count": 11,
   "id": "eeb3faad",
   "metadata": {},
   "outputs": [
    {
     "name": "stdout",
     "output_type": "stream",
     "text": [
      "{1, 2, 3, 4, 5}\n"
     ]
    }
   ],
   "source": [
    "# Exercise 4\n",
    "Set = {1, 2, 3, 4, 5}\n",
    "print(Set)"
   ]
  },
  {
   "cell_type": "markdown",
   "id": "6ff44a5e",
   "metadata": {},
   "source": [
    "\n",
    "---\n",
    "\n",
    "### Exercise 5:\n",
    "Create a dictionary `student` with the keys `\"name\"`, `\"age\"`, and `\"grade\"` and corresponding values `\"Alice\"`, `20`, and `\"A\"`.\n"
   ]
  },
  {
   "cell_type": "code",
   "execution_count": 12,
   "id": "4343c280",
   "metadata": {},
   "outputs": [
    {
     "name": "stdout",
     "output_type": "stream",
     "text": [
      "{'name': 'Alice', 'age': 20, 'grade': 'A'}\n"
     ]
    }
   ],
   "source": [
    "# Exercise 5\n",
    "Student = {\n",
    "    \"name\": \"Alice\",\n",
    "    \"age\": 20,\n",
    "    \"grade\": \"A\"\n",
    "}\n",
    "\n",
    "print(Student)"
   ]
  },
  {
   "cell_type": "markdown",
   "id": "e6133eec",
   "metadata": {},
   "source": [
    "\n",
    "---\n",
    "\n",
    "### Exercise 6:\n",
    "Access the second element of the list `[10, 20, 30, 40, 50]` using indexing.\n"
   ]
  },
  {
   "cell_type": "code",
   "execution_count": 14,
   "id": "98325501",
   "metadata": {},
   "outputs": [
    {
     "name": "stdout",
     "output_type": "stream",
     "text": [
      "20\n"
     ]
    }
   ],
   "source": [
    "# Exercise 6\n",
    "Numbers = [10, 20, 30, 40, 50]\n",
    "Second_element = Numbers[1]\n",
    "print(Second_element)"
   ]
  },
  {
   "cell_type": "markdown",
   "id": "6ad0cee3",
   "metadata": {},
   "source": [
    "\n",
    "---\n",
    "\n",
    "### Exercise 7:\n",
    "Change the third element of the list `fruits = [\"apple\", \"banana\", \"cherry\", \"orange\"]` to `\"mango\"`.\n"
   ]
  },
  {
   "cell_type": "code",
   "execution_count": 3,
   "id": "edf8e912",
   "metadata": {},
   "outputs": [
    {
     "name": "stdout",
     "output_type": "stream",
     "text": [
      "['Apple', 'Banana', 'Mango', 'Orange']\n"
     ]
    }
   ],
   "source": [
    "# Exercise 7\n",
    "Fruits = [\"Apple\", \"Banana\", \"Cherry\", \"Orange\"]\n",
    "Fruits[2] = \"Mango\"\n",
    "print(Fruits)"
   ]
  },
  {
   "cell_type": "markdown",
   "id": "113d5721",
   "metadata": {},
   "source": [
    "\n",
    "---\n",
    "\n",
    "### Exercise 8:\n",
    "Add the number `6` to the set `numbers = {1, 2, 3, 4, 5}`.\n"
   ]
  },
  {
   "cell_type": "code",
   "execution_count": 16,
   "id": "201e7dd8",
   "metadata": {},
   "outputs": [
    {
     "name": "stdout",
     "output_type": "stream",
     "text": [
      "{1, 2, 3, 4, 5, 6}\n"
     ]
    }
   ],
   "source": [
    "# Exercise 8\n",
    "Numbrs = {1, 2, 3, 4, 5}\n",
    "Numbrs.add(6)\n",
    "print(Numbrs)"
   ]
  },
  {
   "cell_type": "markdown",
   "id": "1fbe664f",
   "metadata": {},
   "source": [
    "\n",
    "---\n",
    "\n",
    "### Exercise 9:\n",
    "Remove the key `\"age\"` from the dictionary `person = {\"name\": \"John\", \"age\": 25, \"city\": \"New York\"}`.\n"
   ]
  },
  {
   "cell_type": "code",
   "execution_count": 20,
   "id": "9df67448",
   "metadata": {},
   "outputs": [
    {
     "name": "stdout",
     "output_type": "stream",
     "text": [
      "{'name': 'John', 'city': 'New York'}\n"
     ]
    }
   ],
   "source": [
    "# Exercise 9\n",
    "person = {\"name\": \"John\", \"age\": 25, \"city\": \"New York\"}\n",
    "person.pop(\"age\")\n",
    "print(person)"
   ]
  },
  {
   "cell_type": "markdown",
   "id": "7b3e4700",
   "metadata": {},
   "source": [
    "\n",
    "---\n",
    "\n",
    "### Exercise 10:\n",
    "Create a range object starting from 0 to 9.\n"
   ]
  },
  {
   "cell_type": "code",
   "execution_count": 22,
   "id": "5debcc0f",
   "metadata": {},
   "outputs": [
    {
     "name": "stdout",
     "output_type": "stream",
     "text": [
      "[0, 1, 2, 3, 4, 5, 6, 7, 8, 9]\n"
     ]
    }
   ],
   "source": [
    "# Exercise 10\n",
    "Range = range(10)\n",
    "print(list(Range)) "
   ]
  },
  {
   "cell_type": "markdown",
   "id": "c252718b",
   "metadata": {},
   "source": [
    "\n",
    "---\n",
    "\n",
    "### Exercise 11:\n",
    "Use a list comprehension to create a list of squares of numbers from 1 to 10.\n"
   ]
  },
  {
   "cell_type": "code",
   "execution_count": 24,
   "id": "05398773",
   "metadata": {},
   "outputs": [
    {
     "name": "stdout",
     "output_type": "stream",
     "text": [
      "[1, 4, 9, 16, 25, 36, 49, 64, 81, 100]\n"
     ]
    }
   ],
   "source": [
    "# Exercise 11\n",
    "SquareRoot = [x**2 for x in range(1, 11)]\n",
    "print(SquareRoot)"
   ]
  },
  {
   "cell_type": "markdown",
   "id": "3768839d",
   "metadata": {},
   "source": [
    "\n",
    "---\n",
    "\n",
    "### Exercise 12:\n",
    "Create a tuple of even numbers between 2 and 10 using a tuple comprehension.\n"
   ]
  },
  {
   "cell_type": "code",
   "execution_count": 25,
   "id": "b835355f",
   "metadata": {},
   "outputs": [
    {
     "name": "stdout",
     "output_type": "stream",
     "text": [
      "(2, 4, 6, 8, 10)\n"
     ]
    }
   ],
   "source": [
    "# Exercise 12\n",
    "Even_numbers = tuple(x for x in range(2, 11) if x % 2 == 0)\n",
    "print(Even_numbers)"
   ]
  },
  {
   "cell_type": "markdown",
   "id": "101d1b59",
   "metadata": {},
   "source": [
    "\n",
    "---\n",
    "\n",
    "### Exercise 13:\n",
    "Use a for loop to iterate through the list `fruits = [\"apple\", \"banana\", \"cherry\"]` and print each element.\n"
   ]
  },
  {
   "cell_type": "code",
   "execution_count": 27,
   "id": "27fccbc4",
   "metadata": {},
   "outputs": [
    {
     "name": "stdout",
     "output_type": "stream",
     "text": [
      "Apple\n",
      "Banana\n",
      "Cherry\n"
     ]
    }
   ],
   "source": [
    "# Exercise 13\n",
    "fruits = [\"Apple\", \"Banana\", \"Cherry\"]\n",
    "\n",
    "for fruit in fruits:\n",
    "    print(fruit)"
   ]
  },
  {
   "cell_type": "markdown",
   "id": "a44c67a3",
   "metadata": {},
   "source": [
    "\n",
    "---\n",
    "\n",
    "### Exercise 14:\n",
    "Check if the value `3` exists in the set `numbers = {1, 2, 3, 4, 5}`.\n"
   ]
  },
  {
   "cell_type": "code",
   "execution_count": 28,
   "id": "72e1068d",
   "metadata": {},
   "outputs": [
    {
     "name": "stdout",
     "output_type": "stream",
     "text": [
      "3 is in the set\n"
     ]
    }
   ],
   "source": [
    "# Exercise 14\n",
    "numbers = {1, 2, 3, 4, 5}\n",
    "\n",
    "if 3 in numbers:\n",
    "    print(\"3 is in the set\")\n",
    "else:\n",
    "    print(\"3 is not in the set\")"
   ]
  },
  {
   "cell_type": "markdown",
   "id": "c80a4ba4",
   "metadata": {},
   "source": [
    "\n",
    "---\n",
    "\n",
    "### Exercise 15:\n",
    "Use the `len()` function to find the length of the tuple `numbers = (10, 20, 30)`.\n"
   ]
  },
  {
   "cell_type": "code",
   "execution_count": 29,
   "id": "82d5bb30",
   "metadata": {},
   "outputs": [
    {
     "name": "stdout",
     "output_type": "stream",
     "text": [
      "3\n"
     ]
    }
   ],
   "source": [
    "# Exercise 15\n",
    "numbers = (10, 20, 30)\n",
    "Length = len(numbers)\n",
    "print(Length)"
   ]
  },
  {
   "cell_type": "markdown",
   "id": "5b491bb0",
   "metadata": {},
   "source": [
    "\n",
    "---\n",
    "\n",
    "### Exercise 16:\n",
    "Add the value `100` at the end of the list `scores = [80, 85, 90, 95]`.\n"
   ]
  },
  {
   "cell_type": "code",
   "execution_count": 34,
   "id": "3a6f2e42",
   "metadata": {},
   "outputs": [
    {
     "name": "stdout",
     "output_type": "stream",
     "text": [
      "[80, 85, 90, 95, 100]\n"
     ]
    }
   ],
   "source": [
    "# Exercise 16\n",
    "Scores = [80, 85, 90, 95]\n",
    "Scores.append(100)\n",
    "print(Scores)"
   ]
  },
  {
   "cell_type": "markdown",
   "id": "0ee5adfc",
   "metadata": {},
   "source": [
    "\n",
    "---\n",
    "\n",
    "### Exercise 17:\n",
    "Write a function that takes a list as input and returns the sum of all elements in the list.\n"
   ]
  },
  {
   "cell_type": "code",
   "execution_count": 37,
   "id": "c345753d",
   "metadata": {},
   "outputs": [
    {
     "name": "stdout",
     "output_type": "stream",
     "text": [
      "15\n"
     ]
    }
   ],
   "source": [
    "# Exercise 17\n",
    "def sum_list(numbers):\n",
    "     return sum(numbers)\n",
    "\n",
    "my_list = [1, 2, 3, 4, 5]\n",
    "result = sum_list(my_list)\n",
    "print(result)"
   ]
  },
  {
   "cell_type": "markdown",
   "id": "35d5d0b1",
   "metadata": {},
   "source": [
    "\n",
    "---\n",
    "\n",
    "### Exercise 18:\n",
    "Create a set containing the unique elements of the list `numbers = [1, 2, 2, 3, 4, 4, 5]`.\n"
   ]
  },
  {
   "cell_type": "code",
   "execution_count": 40,
   "id": "e2f801ad",
   "metadata": {},
   "outputs": [
    {
     "name": "stdout",
     "output_type": "stream",
     "text": [
      "{1, 2, 3, 4, 5}\n"
     ]
    }
   ],
   "source": [
    "# Exercise 18\n",
    "numbers = [1, 2, 2, 3, 4, 4, 5]\n",
    "unique_numbers = set(numbers)\n",
    "print(unique_numbers)"
   ]
  },
  {
   "cell_type": "markdown",
   "id": "6c102900",
   "metadata": {},
   "source": [
    "\n",
    "---\n",
    "\n",
    "### Exercise 19:\n",
    "Convert the string `\"hello\"` into a list of characters.\n"
   ]
  },
  {
   "cell_type": "code",
   "execution_count": 42,
   "id": "07c63fed",
   "metadata": {},
   "outputs": [
    {
     "name": "stdout",
     "output_type": "stream",
     "text": [
      "['H', 'e', 'l', 'l', 'o']\n"
     ]
    }
   ],
   "source": [
    "# Exercise 19\n",
    "Word = \"Hello\"\n",
    "char_word = list(Word)\n",
    "print(char_word)"
   ]
  },
  {
   "cell_type": "markdown",
   "id": "c22d6b97",
   "metadata": {},
   "source": [
    "\n",
    "---\n",
    "\n",
    "### Exercise 20:\n",
    "Write a Python function that reverses a tuple `(1, 2, 3, 4)`.\n"
   ]
  },
  {
   "cell_type": "code",
   "execution_count": 113,
   "id": "e2a7b1be",
   "metadata": {},
   "outputs": [
    {
     "name": "stdout",
     "output_type": "stream",
     "text": [
      "(4, 3, 2, 1)\n"
     ]
    }
   ],
   "source": [
    "# Exercise 20\n",
    "def reverses(all):\n",
    "    return all[::-1]\n",
    "Number = (1, 2, 3, 4)\n",
    "Reversed_Number = reverses(Number)\n",
    "print(Reversed_Number)"
   ]
  },
  {
   "cell_type": "markdown",
   "id": "4c12cf45",
   "metadata": {},
   "source": [
    "\n",
    "---\n",
    "\n",
    "### Exercise 21:\n",
    "Merge two dictionaries `dict1 = {\"a\": 1, \"b\": 2}` and `dict2 = {\"c\": 3, \"d\": 4}` into a single dictionary.\n"
   ]
  },
  {
   "cell_type": "code",
   "execution_count": 53,
   "id": "537c61a1",
   "metadata": {},
   "outputs": [
    {
     "name": "stdout",
     "output_type": "stream",
     "text": [
      "{'a': 1, 'b': 2, 'c': 3, 'd': 4}\n"
     ]
    }
   ],
   "source": [
    "# Exercise 21\n",
    "dict1 = {\"a\": 1, \"b\": 2}\n",
    "dict2 = {\"c\": 3, \"d\": 4}\n",
    "merged_dict = {**dict1, **dict2}\n",
    "print(merged_dict)"
   ]
  },
  {
   "cell_type": "markdown",
   "id": "752fc2f0",
   "metadata": {},
   "source": [
    "\n",
    "---\n",
    "\n",
    "### Exercise 22:\n",
    "Create a dictionary where keys are numbers from 1 to 5, and values are their squares.\n"
   ]
  },
  {
   "cell_type": "code",
   "execution_count": 55,
   "id": "f4b8b50a",
   "metadata": {},
   "outputs": [
    {
     "name": "stdout",
     "output_type": "stream",
     "text": [
      "{1, 4, 9, 16, 25}\n"
     ]
    }
   ],
   "source": [
    "# Exercise 22\n",
    "squares = {x**2 for x in range(1, 6)}\n",
    "print(squares)"
   ]
  },
  {
   "cell_type": "markdown",
   "id": "87925b31",
   "metadata": {},
   "source": [
    "\n",
    "---\n",
    "\n",
    "### Exercise 23:\n",
    "Write a Python program to iterate through a dictionary and print each key-value pair.\n"
   ]
  },
  {
   "cell_type": "code",
   "execution_count": 58,
   "id": "65c5827c",
   "metadata": {},
   "outputs": [
    {
     "name": "stdout",
     "output_type": "stream",
     "text": [
      "name: Solange\n",
      "age: 20\n",
      "grade: A\n"
     ]
    }
   ],
   "source": [
    "# Exercise 23\n",
    "my_dict = {\"name\": 'Solange', \"age\": 20, \"grade\": 'A'}\n",
    "\n",
    "for key, value in my_dict.items():\n",
    "    print(f\"{key}: {value}\")"
   ]
  },
  {
   "cell_type": "markdown",
   "id": "291aba22",
   "metadata": {},
   "source": [
    "\n",
    "---\n",
    "\n",
    "### Exercise 24:\n",
    "Create a list of the first 5 letters of the alphabet using the `chr()` function.\n"
   ]
  },
  {
   "cell_type": "code",
   "execution_count": null,
   "id": "ad91182e",
   "metadata": {},
   "outputs": [],
   "source": [
    "# Exercise 24"
   ]
  },
  {
   "cell_type": "markdown",
   "id": "b26fbe9e",
   "metadata": {},
   "source": [
    "\n",
    "---\n",
    "\n",
    "### Exercise 25:\n",
    "Use the `zip()` function to combine two lists `[1, 2, 3]` and `[\"a\", \"b\", \"c\"]` into a list of tuples.\n"
   ]
  },
  {
   "cell_type": "code",
   "execution_count": 59,
   "id": "acbd5a20",
   "metadata": {},
   "outputs": [
    {
     "name": "stdout",
     "output_type": "stream",
     "text": [
      "[(1, 'a'), (2, 'b'), (3, 'c')]\n"
     ]
    }
   ],
   "source": [
    "# Exercise 25\n",
    "list1 = [1, 2, 3]\n",
    "list2 = [\"a\", \"b\", \"c\"]\n",
    "\n",
    "zipped = list(zip(list1, list2))\n",
    "print(zipped)"
   ]
  },
  {
   "cell_type": "markdown",
   "id": "fb1b544b",
   "metadata": {},
   "source": [
    "\n",
    "---\n",
    "\n",
    "### Exercise 26:\n",
    "Find the index of the value `50` in the list `[10, 20, 30, 40, 50]`.\n"
   ]
  },
  {
   "cell_type": "code",
   "execution_count": 60,
   "id": "4be341e2",
   "metadata": {},
   "outputs": [
    {
     "name": "stdout",
     "output_type": "stream",
     "text": [
      "4\n"
     ]
    }
   ],
   "source": [
    "# Exercise 26\n",
    "numbers = [10, 20, 30, 40, 50]\n",
    "index_50 = numbers.index(50)\n",
    "print(index_50)"
   ]
  },
  {
   "cell_type": "markdown",
   "id": "cc1f1bbc",
   "metadata": {},
   "source": [
    "\n",
    "---\n",
    "\n",
    "### Exercise 27:\n",
    "Sort the list `names = [\"Alice\", \"Bob\", \"Charlie\", \"David\"]` in alphabetical order.\n"
   ]
  },
  {
   "cell_type": "code",
   "execution_count": 62,
   "id": "5da06905",
   "metadata": {},
   "outputs": [
    {
     "name": "stdout",
     "output_type": "stream",
     "text": [
      "['Alice', 'Bob', 'Charlie', 'David']\n"
     ]
    }
   ],
   "source": [
    "# Exercise 27\n",
    "names = [\"David\", \"Charlie\", \"Bob\", \"Alice\"]\n",
    "sorted_names = sorted(names)\n",
    "print(sorted_names)"
   ]
  },
  {
   "cell_type": "markdown",
   "id": "cac11304",
   "metadata": {},
   "source": [
    "\n",
    "---\n",
    "\n",
    "### Exercise 28:\n",
    "Write a Python function that takes a list of integers as input and returns the largest number.\n"
   ]
  },
  {
   "cell_type": "code",
   "execution_count": 119,
   "id": "1bfc6919",
   "metadata": {},
   "outputs": [
    {
     "name": "stdout",
     "output_type": "stream",
     "text": [
      "60\n"
     ]
    }
   ],
   "source": [
    "# Exercise 28\n",
    "def The_largest(Number):\n",
    "    return max(Number)\n",
    "My_list = [20, 10, 3, 60, 5,]\n",
    "maximun = The_largest(My_list)\n",
    "print(maximun)"
   ]
  },
  {
   "cell_type": "markdown",
   "id": "d90195b7",
   "metadata": {},
   "source": [
    "\n",
    "---\n",
    "\n",
    "### Exercise 29:\n",
    "Use the `count()` method to count how many times `\"apple\"` appears in the list `fruits = [\"apple\", \"banana\", \"apple\", \"orange\"]`.\n"
   ]
  },
  {
   "cell_type": "code",
   "execution_count": 65,
   "id": "8a8448c7",
   "metadata": {},
   "outputs": [
    {
     "name": "stdout",
     "output_type": "stream",
     "text": [
      "2\n"
     ]
    }
   ],
   "source": [
    "# Exercise 29\n",
    "Fruits = [\"Apple\", \"Banana\", \"Apple\", \"Orange\"]\n",
    "Apple_count = Fruits.count(\"Apple\")\n",
    "print(Apple_count)"
   ]
  },
  {
   "cell_type": "markdown",
   "id": "45c41ffe",
   "metadata": {},
   "source": [
    "\n",
    "---\n",
    "\n",
    "### Exercise 30:\n",
    "Create a dictionary `person` where keys are `\"name\"`, `\"age\"`, and `\"city\"`, and values are `\"Alice\"`, `25`, and `\"New York\"` respectively. Then access the value of the `\"city\"` key.\n"
   ]
  },
  {
   "cell_type": "code",
   "execution_count": 66,
   "id": "01c8b6e2",
   "metadata": {},
   "outputs": [
    {
     "name": "stdout",
     "output_type": "stream",
     "text": [
      "New York\n"
     ]
    }
   ],
   "source": [
    "# Exercise 30\n",
    "person = {\n",
    "    \"name\": \"Alice\",\n",
    "    \"age\": 25,\n",
    "    \"city\": \"New York\"\n",
    "}\n",
    "city_value = person[\"city\"]\n",
    "print(city_value)"
   ]
  },
  {
   "cell_type": "markdown",
   "id": "0b95c68b",
   "metadata": {},
   "source": [
    "\n",
    "---\n",
    "\n",
    "### Exercise 31:\n",
    "Write a Python function that takes a list as input and returns a new list with all duplicates removed.\n"
   ]
  },
  {
   "cell_type": "code",
   "execution_count": 67,
   "id": "5fc377d7",
   "metadata": {},
   "outputs": [
    {
     "name": "stdout",
     "output_type": "stream",
     "text": [
      "[1, 2, 3, 4, 5, 9, 20]\n"
     ]
    }
   ],
   "source": [
    "# Exercise 31\n",
    "def remove_duplicates(lst):\n",
    "    return list(set(lst))\n",
    "my_list = [1, 2, 2, 3, 4, 4, 5, 9, 9, 20, 20]\n",
    "unique_list = remove_duplicates(my_list)\n",
    "print(unique_list)"
   ]
  },
  {
   "cell_type": "markdown",
   "id": "8ee587cd",
   "metadata": {},
   "source": [
    "\n",
    "---\n",
    "\n",
    "### Exercise 32:\n",
    "Write a Python function that takes two lists and returns their intersection.\n"
   ]
  },
  {
   "cell_type": "code",
   "execution_count": 69,
   "id": "dd7c0e7a",
   "metadata": {},
   "outputs": [
    {
     "name": "stdout",
     "output_type": "stream",
     "text": [
      "[4, 5]\n"
     ]
    }
   ],
   "source": [
    "# Exercise 32\n",
    "def intersection(list1, list2):\n",
    "    return list(set(list1) & set(list2))\n",
    "a = [1, 2, 3, 4, 5]\n",
    "b = [4, 5, 6, 7, 8]\n",
    "result = intersection(a, b)\n",
    "print(result)"
   ]
  },
  {
   "cell_type": "markdown",
   "id": "57d89740",
   "metadata": {},
   "source": [
    "\n",
    "---\n",
    "\n",
    "### Exercise 33:\n",
    "Create a generator that yields the squares of numbers from 1 to 10.\n"
   ]
  },
  {
   "cell_type": "code",
   "execution_count": 86,
   "id": "b83f66a7",
   "metadata": {},
   "outputs": [
    {
     "name": "stdout",
     "output_type": "stream",
     "text": [
      "1\n",
      "4\n",
      "9\n",
      "16\n",
      "25\n",
      "36\n",
      "49\n",
      "64\n",
      "81\n",
      "100\n"
     ]
    }
   ],
   "source": [
    "# Exercise 33\n",
    "Squares = (x**2 for x in range(1, 11))\n",
    "for Square in Squares:\n",
    "    print(Square)"
   ]
  },
  {
   "cell_type": "markdown",
   "id": "662d4f36",
   "metadata": {},
   "source": [
    "\n",
    "---\n",
    "\n",
    "### Exercise 34:\n",
    "Write a Python function that takes a dictionary as input and returns the sum of all its values.\n"
   ]
  },
  {
   "cell_type": "code",
   "execution_count": 71,
   "id": "7c119210",
   "metadata": {},
   "outputs": [
    {
     "name": "stdout",
     "output_type": "stream",
     "text": [
      "60\n"
     ]
    }
   ],
   "source": [
    "# Exercise 34\n",
    "def sum_dict_values(d):\n",
    "    return sum(d.values())\n",
    "my_dict = {\"a\": 10, \"b\": 20, \"c\": 30}\n",
    "total = sum_dict_values(my_dict)\n",
    "print(total)"
   ]
  },
  {
   "cell_type": "markdown",
   "id": "6e6330bd",
   "metadata": {},
   "source": [
    "\n",
    "---\n",
    "\n",
    "### Exercise 35:\n",
    "Use the `sorted()` function to sort the list `[3, 1, 4, 1, 5, 9]` in ascending order.\n"
   ]
  },
  {
   "cell_type": "code",
   "execution_count": 72,
   "id": "cc89b4b3",
   "metadata": {},
   "outputs": [
    {
     "name": "stdout",
     "output_type": "stream",
     "text": [
      "[1, 1, 3, 4, 5, 9]\n"
     ]
    }
   ],
   "source": [
    "# Exercise 35\n",
    "numbers = [3, 1, 4, 1, 5, 9]\n",
    "sorted_numbers = sorted(numbers)\n",
    "print(sorted_numbers)"
   ]
  },
  {
   "cell_type": "markdown",
   "id": "a0faab20",
   "metadata": {},
   "source": [
    "\n",
    "---\n",
    "\n",
    "### Exercise 36:\n",
    "Write a Python function that takes a list of strings as input and returns the longest string.\n"
   ]
  },
  {
   "cell_type": "code",
   "execution_count": 73,
   "id": "f9f10963",
   "metadata": {},
   "outputs": [
    {
     "name": "stdout",
     "output_type": "stream",
     "text": [
      "Watermelon\n"
     ]
    }
   ],
   "source": [
    "# Exercise 36\n",
    "def find_longest_string(strings):\n",
    "    return max(strings, key=len)\n",
    "words = [\"Apple\", \"Canana\", \"Cherry\", \"Watermelon\"]\n",
    "longest = find_longest_string(words)\n",
    "print(longest)"
   ]
  },
  {
   "cell_type": "markdown",
   "id": "b607894e",
   "metadata": {},
   "source": [
    "\n",
    "---\n",
    "\n",
    "### Exercise 37:\n",
    "Check if all the elements in the list `[1, 2, 3, 4, 5]` are greater than 0 using the `all()` function.\n"
   ]
  },
  {
   "cell_type": "code",
   "execution_count": 74,
   "id": "2c70c929",
   "metadata": {},
   "outputs": [
    {
     "name": "stdout",
     "output_type": "stream",
     "text": [
      "True\n"
     ]
    }
   ],
   "source": [
    "# Exercise 37\n",
    "numbers = [1, 2, 3, 4, 5]\n",
    "result = all(x > 0 for x in numbers)\n",
    "print(result)"
   ]
  },
  {
   "cell_type": "markdown",
   "id": "c7a96b9d",
   "metadata": {},
   "source": [
    "\n",
    "---\n",
    "\n",
    "### Exercise 38:\n",
    "Create a list of tuples where each tuple contains a number and its square for numbers from 1 to 5.\n"
   ]
  },
  {
   "cell_type": "code",
   "execution_count": 75,
   "id": "5957f979",
   "metadata": {},
   "outputs": [
    {
     "name": "stdout",
     "output_type": "stream",
     "text": [
      "[(1, 1), (2, 4), (3, 9), (4, 16), (5, 25)]\n"
     ]
    }
   ],
   "source": [
    "# Exercise 38\n",
    "squares = [(x, x**2) for x in range(1, 6)]\n",
    "print(squares)"
   ]
  },
  {
   "cell_type": "markdown",
   "id": "81c8b43e",
   "metadata": {},
   "source": [
    "\n",
    "---\n",
    "\n",
    "### Exercise 39:\n",
    "Write a Python function that takes a list of tuples and returns a list of the second elements from each tuple.\n"
   ]
  },
  {
   "cell_type": "code",
   "execution_count": null,
   "id": "524043c8",
   "metadata": {},
   "outputs": [],
   "source": [
    "# Exercise 39\n",
    "def get_second_elements(tuples_list):\n",
    "    return [t[1] for t in tuples_list]\n",
    "\n",
    "# Example usage\n",
    "my_tuples = [(1, 'a'), (2, 'b'), (3, 'c')]\n",
    "second_elements = get_second_elements(my_tuples)\n",
    "print(second_elements)"
   ]
  },
  {
   "cell_type": "markdown",
   "id": "48bc26d7",
   "metadata": {},
   "source": [
    "\n",
    "---\n",
    "\n",
    "### Exercise 40:\n",
    "Write a Python function that flattens a list of lists into a single list.\n"
   ]
  },
  {
   "cell_type": "code",
   "execution_count": 87,
   "id": "b944b52c",
   "metadata": {},
   "outputs": [
    {
     "name": "stdout",
     "output_type": "stream",
     "text": [
      "[1, 2, 3, 4, 5, 6]\n"
     ]
    }
   ],
   "source": [
    "# Exercise 40\n",
    "def flatten_list(nested_list):\n",
    "    return [item for sublist in nested_list for item in sublist]\n",
    "nested = [[1, 2], [3, 4], [5, 6]]\n",
    "flattened = flatten_list(nested)\n",
    "print(flattened)"
   ]
  },
  {
   "cell_type": "markdown",
   "id": "89e77dfb",
   "metadata": {},
   "source": [
    "\n",
    "---\n",
    "\n",
    "### Exercise 41:\n",
    "Use the `enumerate()` function to iterate through the list `[\"apple\", \"banana\", \"cherry\"]` and print the index and value.\n"
   ]
  },
  {
   "cell_type": "code",
   "execution_count": 89,
   "id": "287d36e1",
   "metadata": {},
   "outputs": [
    {
     "name": "stdout",
     "output_type": "stream",
     "text": [
      "0: Apple\n",
      "1: Banana\n",
      "2: Cherry\n"
     ]
    }
   ],
   "source": [
    "# Exercise 41\n",
    "fruits = [\"Apple\", \"Banana\", \"Cherry\"]\n",
    "\n",
    "for index, value in enumerate(fruits):\n",
    "    print(f\"{index}: {value}\")"
   ]
  },
  {
   "cell_type": "markdown",
   "id": "ce43eb37",
   "metadata": {},
   "source": [
    "\n",
    "---\n",
    "\n",
    "### Exercise 42:\n",
    "Write a Python program that checks if a tuple is empty.\n"
   ]
  },
  {
   "cell_type": "code",
   "execution_count": 90,
   "id": "dffe61c2",
   "metadata": {},
   "outputs": [
    {
     "name": "stdout",
     "output_type": "stream",
     "text": [
      "The tuple is empty.\n"
     ]
    }
   ],
   "source": [
    "# Exercise 42\n",
    "def is_tuple_empty(t):\n",
    "    return len(t) == 0\n",
    "my_tuple = ()\n",
    "if is_tuple_empty(my_tuple):\n",
    "    print(\"The tuple is empty.\")\n",
    "else:\n",
    "    print(\"The tuple is not empty.\")\n"
   ]
  },
  {
   "cell_type": "markdown",
   "id": "b77d431a",
   "metadata": {},
   "source": [
    "\n",
    "---\n",
    "\n",
    "### Exercise 43:\n",
    "Create a list of even numbers between 1 and 20 using the `range()` function.\n"
   ]
  },
  {
   "cell_type": "code",
   "execution_count": 91,
   "id": "e7668e50",
   "metadata": {},
   "outputs": [
    {
     "name": "stdout",
     "output_type": "stream",
     "text": [
      "[2, 4, 6, 8, 10, 12, 14, 16, 18, 20]\n"
     ]
    }
   ],
   "source": [
    "# Exercise 43\n",
    "even_numbers = list(range(2, 21, 2))\n",
    "print(even_numbers)"
   ]
  },
  {
   "cell_type": "markdown",
   "id": "acdaed92",
   "metadata": {},
   "source": [
    "\n",
    "---\n",
    "\n",
    "### Exercise 44:\n",
    "Write a Python function that takes a list of numbers as input and returns the list in reverse order.\n"
   ]
  },
  {
   "cell_type": "code",
   "execution_count": 92,
   "id": "d67bdd24",
   "metadata": {},
   "outputs": [
    {
     "name": "stdout",
     "output_type": "stream",
     "text": [
      "[5, 4, 3, 2, 1]\n"
     ]
    }
   ],
   "source": [
    "# Exercise 44\n",
    "def reverse_list(numbers):\n",
    "    return numbers[::-1]\n",
    "my_list = [1, 2, 3, 4, 5]\n",
    "reversed_list = reverse_list(my_list)\n",
    "print(reversed_list)"
   ]
  },
  {
   "cell_type": "markdown",
   "id": "5354b3c4",
   "metadata": {},
   "source": [
    "\n",
    "---\n",
    "\n",
    "### Exercise 45:\n",
    "Create a dictionary comprehension that maps numbers from 1 to 5 to their cubes.\n"
   ]
  },
  {
   "cell_type": "code",
   "execution_count": 93,
   "id": "231f0012",
   "metadata": {},
   "outputs": [
    {
     "name": "stdout",
     "output_type": "stream",
     "text": [
      "{1: 1, 2: 8, 3: 27, 4: 64, 5: 125}\n"
     ]
    }
   ],
   "source": [
    "# Exercise 45\n",
    "Cubes = {x: x**3 for x in range(1, 6)}\n",
    "print(Cubes)"
   ]
  },
  {
   "cell_type": "markdown",
   "id": "faabb654",
   "metadata": {},
   "source": [
    "\n",
    "---\n",
    "\n",
    "### Exercise 46:\n",
    "Write a Python program that creates a new list containing only the unique elements of the list `[1, 2, 2, 3, 4, 4, 5]`.\n"
   ]
  },
  {
   "cell_type": "code",
   "execution_count": 94,
   "id": "3b769de9",
   "metadata": {},
   "outputs": [
    {
     "name": "stdout",
     "output_type": "stream",
     "text": [
      "[1, 2, 3, 4, 5]\n"
     ]
    }
   ],
   "source": [
    "# Exercise 46\n",
    "original_list = [1, 2, 2, 3, 4, 4, 5]\n",
    "unique_list = list(set(original_list))\n",
    "print(unique_list)"
   ]
  },
  {
   "cell_type": "markdown",
   "id": "dbe53215",
   "metadata": {},
   "source": [
    "\n",
    "---\n",
    "\n",
    "### Exercise 47:\n",
    "Write a Python function that takes a list of dictionaries and returns a list of the values for a given key.\n"
   ]
  },
  {
   "cell_type": "code",
   "execution_count": 95,
   "id": "f560389e",
   "metadata": {},
   "outputs": [
    {
     "name": "stdout",
     "output_type": "stream",
     "text": [
      "[25, 30]\n"
     ]
    }
   ],
   "source": [
    "# Exercise 47\n",
    "def get_values(dict_list, key):\n",
    "    return [d.get(key) for d in dict_list if key in d]\n",
    "dicts = [\n",
    "    {\"name\": \"Alice\", \"age\": 25},\n",
    "    {\"name\": \"Bob\", \"age\": 30},\n",
    "    {\"name\": \"Charlie\", \"city\": \"New York\"}\n",
    "]\n",
    "\n",
    "ages = get_values(dicts, \"age\")\n",
    "print(ages)"
   ]
  },
  {
   "cell_type": "markdown",
   "id": "297c79ff",
   "metadata": {},
   "source": [
    "\n",
    "---\n",
    "\n",
    "### Exercise 48:\n",
    "Write a Python function that uses a generator to yield the Fibonacci sequence up to `n` terms.\n"
   ]
  },
  {
   "cell_type": "code",
   "execution_count": 96,
   "id": "63380ce6",
   "metadata": {},
   "outputs": [
    {
     "name": "stdout",
     "output_type": "stream",
     "text": [
      "0\n",
      "1\n",
      "1\n",
      "2\n",
      "3\n",
      "5\n",
      "8\n",
      "13\n",
      "21\n",
      "34\n"
     ]
    }
   ],
   "source": [
    "# Exercise 48\n",
    "def fibonacci(n):\n",
    "    a, b = 0, 1\n",
    "    count = 0\n",
    "    while count < n:\n",
    "        yield a\n",
    "        a, b = b, a + b\n",
    "        count += 1\n",
    "for num in fibonacci(10):\n",
    "    print(num)"
   ]
  },
  {
   "cell_type": "markdown",
   "id": "45f7536e",
   "metadata": {},
   "source": [
    "\n",
    "---\n",
    "\n",
    "### Exercise 49:\n",
    "Write a Python function that takes a string and returns a list of all unique characters in the string.\n"
   ]
  },
  {
   "cell_type": "code",
   "execution_count": 98,
   "id": "bab510f2",
   "metadata": {},
   "outputs": [
    {
     "name": "stdout",
     "output_type": "stream",
     "text": [
      "['D', 'U', 'S', 'A', 'B', 'E', 'M', 'R', 'I', 'Y']\n"
     ]
    }
   ],
   "source": [
    "# Exercise 49\n",
    "def unique_chars(s):\n",
    "    unique = []\n",
    "    for char in s:\n",
    "        if char not in unique:\n",
    "            unique.append(char)\n",
    "    return unique\n",
    "text = \"DUSABEMARIYA\"\n",
    "print(unique_chars(text))"
   ]
  },
  {
   "cell_type": "markdown",
   "id": "79cfed08",
   "metadata": {},
   "source": [
    "\n",
    "---\n",
    "\n",
    "### Exercise 50:\n",
    "Write a Python function that merges two sorted lists into a single sorted list.\n"
   ]
  },
  {
   "cell_type": "code",
   "execution_count": 99,
   "id": "7fcb6676",
   "metadata": {},
   "outputs": [
    {
     "name": "stdout",
     "output_type": "stream",
     "text": [
      "[1, 2, 3, 4, 5, 6, 7, 8]\n"
     ]
    }
   ],
   "source": [
    "# Exercise 50\n",
    "def merge_sorted_lists(list1, list2):\n",
    "    merged = []\n",
    "    i, j = 0, 0\n",
    "    while i < len(list1) and j < len(list2):\n",
    "        if list1[i] < list2[j]:\n",
    "            merged.append(list1[i])\n",
    "            i += 1\n",
    "        else:\n",
    "            merged.append(list2[j])\n",
    "            j += 1\n",
    "    merged.extend(list1[i:])\n",
    "    merged.extend(list2[j:])\n",
    "    \n",
    "    return merged\n",
    "a = [1, 3, 5, 7]\n",
    "b = [2, 4, 6, 8]\n",
    "print(merge_sorted_lists(a, b))\n"
   ]
  },
  {
   "cell_type": "markdown",
   "id": "4359c140",
   "metadata": {},
   "source": [
    "\n",
    "---\n",
    "\n",
    "### Exercise 51:\n",
    "Use the\n",
    "\n",
    " `filter()` function to filter out odd numbers from the list `[1, 2, 3, 4, 5, 6]`.\n"
   ]
  },
  {
   "cell_type": "code",
   "execution_count": 100,
   "id": "3ec07449",
   "metadata": {},
   "outputs": [
    {
     "name": "stdout",
     "output_type": "stream",
     "text": [
      "[2, 4, 6]\n"
     ]
    }
   ],
   "source": [
    "# Exercise 51\n",
    "numbers = [1, 2, 3, 4, 5, 6]\n",
    "even_numbers = list(filter(lambda x: x % 2 == 0, numbers))\n",
    "print(even_numbers)"
   ]
  },
  {
   "cell_type": "markdown",
   "id": "311d2578",
   "metadata": {},
   "source": [
    "\n",
    "---\n",
    "\n",
    "### Exercise 52:\n",
    "Write a Python program that converts a list of tuples `[(1, 2), (3, 4), (5, 6)]` into a dictionary.\n"
   ]
  },
  {
   "cell_type": "code",
   "execution_count": 178,
   "id": "abb42173",
   "metadata": {},
   "outputs": [
    {
     "name": "stdout",
     "output_type": "stream",
     "text": [
      "Dictionary: {1: 2, 3: 4, 5: 6}\n"
     ]
    }
   ],
   "source": [
    "# Exercise 52\n",
    "# List of tuples\n",
    "tuple_list = [(1, 2), (3, 4), (5, 6)]\n",
    "\n",
    "# Convert to dictionary\n",
    "converted_dict = dict(tuple_list)\n",
    "print(\"Dictionary:\", converted_dict)"
   ]
  },
  {
   "cell_type": "markdown",
   "id": "85fd7247",
   "metadata": {},
   "source": [
    "\n",
    "---\n",
    "\n",
    "### Exercise 53:\n",
    "Write a Python function that takes two sets and returns their symmetric difference.\n"
   ]
  },
  {
   "cell_type": "code",
   "execution_count": 120,
   "id": "256f45dc",
   "metadata": {},
   "outputs": [
    {
     "name": "stdout",
     "output_type": "stream",
     "text": [
      "{1, 2, 4, 5}\n"
     ]
    }
   ],
   "source": [
    "# Exercise 53\n",
    "def symmetric_difference(set1, set2):\n",
    "    return set1.symmetric_difference(set2)\n",
    "a = {1, 2, 3}\n",
    "b = {3, 4, 5}\n",
    "print(symmetric_difference(a, b))"
   ]
  },
  {
   "cell_type": "markdown",
   "id": "3583669c",
   "metadata": {},
   "source": [
    "\n",
    "---\n",
    "\n",
    "### Exercise 54:\n",
    "Write a Python program that finds the common elements in three lists `list1`, `list2`, and `list3`.\n"
   ]
  },
  {
   "cell_type": "code",
   "execution_count": 121,
   "id": "d7d8ee5e",
   "metadata": {},
   "outputs": [
    {
     "name": "stdout",
     "output_type": "stream",
     "text": [
      "[2, 3]\n"
     ]
    }
   ],
   "source": [
    "# Exercise 54\n",
    "List1 = [1, 2, 3, 4]\n",
    "List2 = [2, 3, 5, 6]\n",
    "List3 = [0, 2, 3, 7]\n",
    "\n",
    "common_elements = list(set(List1) & set(List2) & set(List3))\n",
    "print(common_elements)"
   ]
  },
  {
   "cell_type": "markdown",
   "id": "9a25e857",
   "metadata": {},
   "source": [
    "\n",
    "---\n",
    "\n",
    "### Exercise 55:\n",
    "Write a Python function that returns the factorial of a number using recursion.\n"
   ]
  },
  {
   "cell_type": "code",
   "execution_count": 122,
   "id": "520711b0-b20b-497a-89e9-ce9813b77a97",
   "metadata": {},
   "outputs": [
    {
     "name": "stdout",
     "output_type": "stream",
     "text": [
      "120\n"
     ]
    }
   ],
   "source": [
    "# Exercise 55\n",
    "def factorial(n):\n",
    "    if n == 0 or n == 1:\n",
    "        return 1\n",
    "    return n * factorial(n - 1)\n",
    "\n",
    "# Example usage:\n",
    "print(factorial(5))"
   ]
  },
  {
   "cell_type": "markdown",
   "id": "b54aac43",
   "metadata": {},
   "source": [
    "\n",
    "---\n",
    "\n",
    "### Exercise 56:\n",
    "Write a Python program that removes all empty strings from the list `[\"apple\", \"\", \"banana\", \"\", \"cherry\"]`.\n"
   ]
  },
  {
   "cell_type": "code",
   "execution_count": 124,
   "id": "42be2194-4b43-47e7-8038-2b4856c98e96",
   "metadata": {},
   "outputs": [
    {
     "name": "stdout",
     "output_type": "stream",
     "text": [
      "['apple', 'banana', 'cherry']\n"
     ]
    }
   ],
   "source": [
    "# Exercise 56\n",
    "Fruits = [\"apple\", \"\", \"banana\", \"\", \"cherry\"]\n",
    "Filtered_fruits = [fruit for fruit in Fruits if fruit != \"\"]\n",
    "print(Filtered_fruits)"
   ]
  },
  {
   "cell_type": "markdown",
   "id": "a698981c",
   "metadata": {},
   "source": [
    "\n",
    "---\n",
    "\n",
    "### Exercise 57:\n",
    "Write a Python function that takes a dictionary and returns a new dictionary with the keys and values swapped.\n"
   ]
  },
  {
   "cell_type": "code",
   "execution_count": 125,
   "id": "ab632d15",
   "metadata": {},
   "outputs": [
    {
     "name": "stdout",
     "output_type": "stream",
     "text": [
      "{1: 'a', 2: 'b', 3: 'c'}\n"
     ]
    }
   ],
   "source": [
    "# Exercise 57\n",
    "def swap_keys_values(d):\n",
    "    return {value: key for key, value in d.items()}\n",
    "original = {'a': 1, 'b': 2, 'c': 3}\n",
    "swapped = swap_keys_values(original)\n",
    "print(swapped) "
   ]
  },
  {
   "cell_type": "markdown",
   "id": "dfdc2034",
   "metadata": {},
   "source": [
    "\n",
    "---\n",
    "\n",
    "### Exercise 58:\n",
    "Write a Python function that takes a list of integers and returns a new list with only the even numbers.\n"
   ]
  },
  {
   "cell_type": "code",
   "execution_count": 126,
   "id": "db0feb48",
   "metadata": {},
   "outputs": [
    {
     "name": "stdout",
     "output_type": "stream",
     "text": [
      "[2, 4, 6]\n"
     ]
    }
   ],
   "source": [
    "# Exercise 58\n",
    "def get_even_numbers(numbers):\n",
    "    return [num for num in numbers if num % 2 == 0]\n",
    "nums = [1, 2, 3, 4, 5, 6]\n",
    "evens = get_even_numbers(nums)\n",
    "print(evens) "
   ]
  },
  {
   "cell_type": "markdown",
   "id": "5c14b9e2",
   "metadata": {},
   "source": [
    "\n",
    "---\n",
    "\n",
    "### Exercise 59:\n",
    "Write a Python function that takes a list of tuples and returns a list of the first elements of each tuple.\n"
   ]
  },
  {
   "cell_type": "code",
   "execution_count": 127,
   "id": "e481b81a",
   "metadata": {},
   "outputs": [
    {
     "name": "stdout",
     "output_type": "stream",
     "text": [
      "[1, 2, 3]\n"
     ]
    }
   ],
   "source": [
    "# Exercise 59\n",
    "def first_elements(tuples):\n",
    "    return [t[0] for t in tuples]\n",
    "pairs = [(1, 'a'), (2, 'b'), (3, 'c')]\n",
    "firsts = first_elements(pairs)\n",
    "print(firsts)"
   ]
  },
  {
   "cell_type": "markdown",
   "id": "5ffc4a73",
   "metadata": {},
   "source": [
    "\n",
    "---\n",
    "\n",
    "### Exercise 60:\n",
    "Write a Python program that removes duplicates from a list without changing the order of elements.\n"
   ]
  },
  {
   "cell_type": "code",
   "execution_count": 128,
   "id": "69b5483c",
   "metadata": {},
   "outputs": [
    {
     "name": "stdout",
     "output_type": "stream",
     "text": [
      "[1, 2, 3, 4, 5]\n"
     ]
    }
   ],
   "source": [
    "# Exercise 60\n",
    "def remove_duplicates(lst):\n",
    "    seen = set()\n",
    "    result = []\n",
    "    for item in lst:\n",
    "        if item not in seen:\n",
    "            seen.add(item)\n",
    "            result.append(item)\n",
    "    return result\n",
    "items = [1, 2, 2, 3, 1, 4, 5, 3]\n",
    "unique_items = remove_duplicates(items)\n",
    "print(unique_items)"
   ]
  },
  {
   "cell_type": "markdown",
   "id": "1b9b50b4",
   "metadata": {},
   "source": [
    "\n",
    "---\n",
    "\n",
    "### Exercise 61:\n",
    "Use the `map()` function to convert a list of strings to a list of their lengths.\n"
   ]
  },
  {
   "cell_type": "code",
   "execution_count": 129,
   "id": "4a4781f3",
   "metadata": {},
   "outputs": [
    {
     "name": "stdout",
     "output_type": "stream",
     "text": [
      "[5, 6, 6]\n"
     ]
    }
   ],
   "source": [
    "# Exercise 61\n",
    "Words = [\"apple\", \"banana\", \"cherry\"]\n",
    "lengths = list(map(len, Words))\n",
    "print(lengths)"
   ]
  },
  {
   "cell_type": "markdown",
   "id": "320f3aca",
   "metadata": {},
   "source": [
    "\n",
    "---\n",
    "\n",
    "### Exercise 62:\n",
    "Write a Python program that calculates the average of a list of numbers.\n"
   ]
  },
  {
   "cell_type": "code",
   "execution_count": 130,
   "id": "0ddf6294",
   "metadata": {},
   "outputs": [
    {
     "name": "stdout",
     "output_type": "stream",
     "text": [
      "25.0\n"
     ]
    }
   ],
   "source": [
    "# Exercise 62\n",
    "def calculate_average(numbers):\n",
    "    return sum(numbers) / len(numbers) if numbers else 0\n",
    "nums = [10, 20, 30, 40]\n",
    "average = calculate_average(nums)\n",
    "print(average)"
   ]
  },
  {
   "cell_type": "markdown",
   "id": "ada7c412",
   "metadata": {},
   "source": [
    "\n",
    "---\n",
    "\n",
    "### Exercise 63:\n",
    "Write a Python function that generates a list of the first `n` Fibonacci numbers.\n"
   ]
  },
  {
   "cell_type": "code",
   "execution_count": 131,
   "id": "5c1281c7",
   "metadata": {},
   "outputs": [
    {
     "name": "stdout",
     "output_type": "stream",
     "text": [
      "[0, 1, 1, 2, 3, 5, 8]\n"
     ]
    }
   ],
   "source": [
    "# Exercise 63\n",
    "def fibonacci(n):\n",
    "    fib = []\n",
    "    a, b = 0, 1\n",
    "    for _ in range(n):\n",
    "        fib.append(a)\n",
    "        a, b = b, a + b\n",
    "    return fib\n",
    "print(fibonacci(7))"
   ]
  },
  {
   "cell_type": "markdown",
   "id": "6a67ece7",
   "metadata": {},
   "source": [
    "\n",
    "---\n",
    "\n",
    "### Exercise 64:\n",
    "Write a Python program that counts how many times each element appears in the list `[\"apple\", \"banana\", \"apple\", \"cherry\"]`.\n"
   ]
  },
  {
   "cell_type": "code",
   "execution_count": 132,
   "id": "57213561",
   "metadata": {},
   "outputs": [
    {
     "name": "stdout",
     "output_type": "stream",
     "text": [
      "{'apple': 2, 'banana': 1, 'cherry': 1}\n"
     ]
    }
   ],
   "source": [
    "# Exercise 64\n",
    "from collections import Counter\n",
    "fruits = [\"apple\", \"banana\", \"apple\", \"cherry\"]\n",
    "counts = Counter(fruits)\n",
    "print(dict(counts))"
   ]
  },
  {
   "cell_type": "markdown",
   "id": "aa829fa6",
   "metadata": {},
   "source": [
    "\n",
    "---\n",
    "\n",
    "### Exercise 65:\n",
    "Write a Python program that removes all occurrences of a specific value from a list.\n"
   ]
  },
  {
   "cell_type": "code",
   "execution_count": 133,
   "id": "16b868ee",
   "metadata": {},
   "outputs": [
    {
     "name": "stdout",
     "output_type": "stream",
     "text": [
      "[1, 3, 4, 5]\n"
     ]
    }
   ],
   "source": [
    "# Exercise 65\n",
    "def remove_value(lst, value):\n",
    "    return [item for item in lst if item != value]\n",
    "numbers = [1, 2, 3, 2, 4, 2, 5]\n",
    "filtered = remove_value(numbers, 2)\n",
    "print(filtered)"
   ]
  },
  {
   "cell_type": "markdown",
   "id": "d67afd7d",
   "metadata": {},
   "source": [
    "\n",
    "---\n",
    "\n",
    "### Exercise 66:\n",
    "Write a Python function that takes a list of strings and returns a list of the strings that start with a vowel.\n"
   ]
  },
  {
   "cell_type": "code",
   "execution_count": 136,
   "id": "51721e69",
   "metadata": {},
   "outputs": [
    {
     "name": "stdout",
     "output_type": "stream",
     "text": [
      "['Apple', 'Orange', 'Umbrella']\n"
     ]
    }
   ],
   "source": [
    "# Exercise 66\n",
    "def strings_starting_with_vowel(strings):\n",
    "    vowels = 'aeiouAEIOU'\n",
    "    return [s for s in strings if s and s[0] in vowels]\n",
    "words = [\"Apple\", \"Banana\", \"Orange\", \"Grape\", \"Umbrella\"]\n",
    "starts_with_vowel = strings_starting_with_vowel(words)\n",
    "print(starts_with_vowel) "
   ]
  },
  {
   "cell_type": "markdown",
   "id": "25cef748",
   "metadata": {},
   "source": [
    "\n",
    "---\n",
    "\n",
    "### Exercise 67:\n",
    "Write a Python program that finds the intersection of two sets `set1` and `set2`.\n"
   ]
  },
  {
   "cell_type": "code",
   "execution_count": 137,
   "id": "e72a1ab5",
   "metadata": {},
   "outputs": [
    {
     "name": "stdout",
     "output_type": "stream",
     "text": [
      "{3, 4}\n"
     ]
    }
   ],
   "source": [
    "# Exercise 67\n",
    "def set_intersection(set1, set2):\n",
    "    return set1 & set2  # or set1.intersection(set2)\n",
    "a = {1, 2, 3, 4}\n",
    "b = {3, 4, 5, 6}\n",
    "common = set_intersection(a, b)\n",
    "print(common)"
   ]
  },
  {
   "cell_type": "markdown",
   "id": "7f72b8f0",
   "metadata": {},
   "source": [
    "\n",
    "---\n",
    "\n",
    "### Exercise 68:\n",
    "Write a Python function that flattens a nested list.\n"
   ]
  },
  {
   "cell_type": "code",
   "execution_count": 138,
   "id": "3f11ec5b",
   "metadata": {},
   "outputs": [
    {
     "name": "stdout",
     "output_type": "stream",
     "text": [
      "[1, 2, 3, 4, 5, 6]\n"
     ]
    }
   ],
   "source": [
    "# Exercise 68\n",
    "def flatten_list(nested):\n",
    "    flat = []\n",
    "    for item in nested:\n",
    "        if isinstance(item, list):\n",
    "            flat.extend(flatten_list(item))\n",
    "        else:\n",
    "            flat.append(item)\n",
    "    return flat\n",
    "nested_list = [1, [2, [3, 4], 5], 6]\n",
    "flattened = flatten_list(nested_list)\n",
    "print(flattened) "
   ]
  },
  {
   "cell_type": "markdown",
   "id": "6f048ddb",
   "metadata": {},
   "source": [
    "\n",
    "---\n",
    "\n",
    "### Exercise 69:\n",
    "Write a Python program that checks if all the elements in a list are unique.\n"
   ]
  },
  {
   "cell_type": "code",
   "execution_count": 139,
   "id": "3ed01a59",
   "metadata": {},
   "outputs": [
    {
     "name": "stdout",
     "output_type": "stream",
     "text": [
      "[1, 2, 3, 4, 5, 6]\n"
     ]
    }
   ],
   "source": [
    "# Exercise 69\n",
    "def flatten_list(nested):\n",
    "    flat = []\n",
    "    for item in nested:\n",
    "        if isinstance(item, list):\n",
    "            flat.extend(flatten_list(item))\n",
    "        else:\n",
    "            flat.append(item)\n",
    "    return flat\n",
    "nested_list = [1, [2, [3, 4], 5], 6]\n",
    "flattened = flatten_list(nested_list)\n",
    "print(flattened) "
   ]
  },
  {
   "cell_type": "markdown",
   "id": "39f80d26",
   "metadata": {},
   "source": [
    "\n",
    "---\n",
    "\n",
    "### Exercise 70:\n",
    "Use the `reduce()` function from the `functools` module to multiply all elements in a list.\n"
   ]
  },
  {
   "cell_type": "code",
   "execution_count": 140,
   "id": "c9392f51",
   "metadata": {},
   "outputs": [
    {
     "name": "stdout",
     "output_type": "stream",
     "text": [
      "24\n"
     ]
    }
   ],
   "source": [
    "# Exercise 70\n",
    "from functools import reduce\n",
    "import operator\n",
    "\n",
    "def multiply_list(lst):\n",
    "    return reduce(operator.mul, lst, 1)\n",
    "\n",
    "# Example:\n",
    "numbers = [1, 2, 3, 4]\n",
    "print(multiply_list(numbers))"
   ]
  },
  {
   "cell_type": "markdown",
   "id": "405c9fac",
   "metadata": {},
   "source": [
    "\n",
    "---\n",
    "\n",
    "### Exercise 71:\n",
    "Write a Python function that takes a list of strings and returns a dictionary where keys are strings and values are their lengths.\n"
   ]
  },
  {
   "cell_type": "code",
   "execution_count": 142,
   "id": "5a22c6ba",
   "metadata": {},
   "outputs": [
    {
     "name": "stdout",
     "output_type": "stream",
     "text": [
      "{'Apple': 5, 'Banana': 6, 'Kiwi': 4}\n"
     ]
    }
   ],
   "source": [
    "# Exercise 71\n",
    "def strings_to_length_dict(strings):\n",
    "    return {s: len(s) for s in strings}\n",
    "words = [\"Apple\", \"Banana\", \"Kiwi\"]\n",
    "length_dict = strings_to_length_dict(words)\n",
    "print(length_dict) "
   ]
  },
  {
   "cell_type": "markdown",
   "id": "8447d495",
   "metadata": {},
   "source": [
    "\n",
    "---\n",
    "\n",
    "### Exercise 72:\n",
    "Write a Python program that counts the number of vowels in a string.\n"
   ]
  },
  {
   "cell_type": "code",
   "execution_count": 143,
   "id": "a97366b2",
   "metadata": {},
   "outputs": [
    {
     "name": "stdout",
     "output_type": "stream",
     "text": [
      "7\n"
     ]
    }
   ],
   "source": [
    "# Exercise 72\n",
    "def count_vowels(text):\n",
    "    vowels = 'aeiouAEIOU'\n",
    "    return sum(1 for char in text if char in vowels)\n",
    "\n",
    "# Example:\n",
    "sentence = \"Hello, how are you?\"\n",
    "print(count_vowels(sentence))"
   ]
  },
  {
   "cell_type": "markdown",
   "id": "a2daf99e",
   "metadata": {},
   "source": [
    "\n",
    "---\n",
    "\n",
    "### Exercise 73:\n",
    "Create a list of tuples where each tuple contains a number from 1 to 5 and its factorial.\n"
   ]
  },
  {
   "cell_type": "code",
   "execution_count": 144,
   "id": "26a95d77",
   "metadata": {},
   "outputs": [
    {
     "name": "stdout",
     "output_type": "stream",
     "text": [
      "[(1, 1), (2, 2), (3, 6), (4, 24), (5, 120)]\n"
     ]
    }
   ],
   "source": [
    "# Exercise 73\n",
    "import math\n",
    "\n",
    "factorials = [(i, math.factorial(i)) for i in range(1, 6)]\n",
    "print(factorials) "
   ]
  },
  {
   "cell_type": "markdown",
   "id": "574c7b40",
   "metadata": {},
   "source": [
    "\n",
    "---\n",
    "\n",
    "### Exercise 74:\n",
    "Write a Python program that converts a list of dictionaries into a single dictionary by merging them.\n"
   ]
  },
  {
   "cell_type": "code",
   "execution_count": 145,
   "id": "fe108bc9",
   "metadata": {},
   "outputs": [
    {
     "name": "stdout",
     "output_type": "stream",
     "text": [
      "{'a': 1, 'b': 2, 'c': 3}\n"
     ]
    }
   ],
   "source": [
    "# Exercise 74\n",
    "dicts = [{'a': 1}, {'b': 2}, {'c': 3}]\n",
    "merged = {}\n",
    "for d in dicts:\n",
    "    merged.update(d)\n",
    "\n",
    "print(merged)"
   ]
  },
  {
   "cell_type": "markdown",
   "id": "36381b03",
   "metadata": {},
   "source": [
    "\n",
    "---\n",
    "\n",
    "### Exercise 75:\n",
    "Write a Python function that checks if a set is a subset of another set.\n"
   ]
  },
  {
   "cell_type": "code",
   "execution_count": 147,
   "id": "a8ce9282",
   "metadata": {},
   "outputs": [
    {
     "name": "stdout",
     "output_type": "stream",
     "text": [
      "True\n"
     ]
    }
   ],
   "source": [
    "# Exercise 75\n",
    "def is_subset(set1, set2):\n",
    "    return set1.issubset(set2)\n",
    "\n",
    "# Example:\n",
    "a = {1, 2}\n",
    "b = {1, 2, 3, 4}\n",
    "print(is_subset(a, b))"
   ]
  },
  {
   "cell_type": "markdown",
   "id": "5fa98235",
   "metadata": {},
   "source": [
    "\n",
    "---\n",
    "\n",
    "### Exercise 76:\n",
    "Write a Python program that sorts a list of tuples based on the second element in each tuple.\n"
   ]
  },
  {
   "cell_type": "code",
   "execution_count": 149,
   "id": "547434ea",
   "metadata": {},
   "outputs": [
    {
     "name": "stdout",
     "output_type": "stream",
     "text": [
      "[(2, 1), (4, 2), (1, 3)]\n"
     ]
    }
   ],
   "source": [
    "# Exercise 76\n",
    "data = [(1, 3), (2, 1), (4, 2)]\n",
    "sorted_data = sorted(data, key=lambda x: x[1])\n",
    "print(sorted_data)"
   ]
  },
  {
   "cell_type": "markdown",
   "id": "3713ff96",
   "metadata": {},
   "source": [
    "\n",
    "---\n",
    "\n",
    "### Exercise 77:\n",
    "Write a Python function that takes a list of integers and returns a new list with only the positive integers.\n"
   ]
  },
  {
   "cell_type": "code",
   "execution_count": 150,
   "id": "6f109433",
   "metadata": {},
   "outputs": [
    {
     "name": "stdout",
     "output_type": "stream",
     "text": [
      "[3, 5]\n"
     ]
    }
   ],
   "source": [
    "# Exercise 77\n",
    "def filter_positive_integers(numbers):\n",
    "    return [num for num in numbers if num > 0]\n",
    "nums = [-2, 0, 3, -1, 5]\n",
    "print(filter_positive_integers(nums))"
   ]
  },
  {
   "cell_type": "markdown",
   "id": "fd1b38b2",
   "metadata": {},
   "source": [
    "\n",
    "---\n",
    "\n",
    "### Exercise 78:\n",
    "Write a Python function that takes two sets and returns their union.\n"
   ]
  },
  {
   "cell_type": "code",
   "execution_count": 155,
   "id": "9ebbf168",
   "metadata": {},
   "outputs": [
    {
     "name": "stdout",
     "output_type": "stream",
     "text": [
      "{1, 2, 3, 4, 5}\n"
     ]
    }
   ],
   "source": [
    "# Exercise 78\n",
    "def union_of_sets(set1, set2):\n",
    "    return set1.union(set2)\n",
    "a = {1, 2, 3}\n",
    "b = {3, 4, 5}\n",
    "print(union_of_sets(a, b))"
   ]
  },
  {
   "cell_type": "markdown",
   "id": "3810cede",
   "metadata": {},
   "source": [
    "\n",
    "---\n",
    "\n",
    "### Exercise 79:\n",
    "Write a Python function that takes a list of numbers and returns the product of all the numbers.\n"
   ]
  },
  {
   "cell_type": "code",
   "execution_count": 156,
   "id": "6051255e",
   "metadata": {},
   "outputs": [
    {
     "name": "stdout",
     "output_type": "stream",
     "text": [
      "24\n"
     ]
    }
   ],
   "source": [
    "# Exercise 79\n",
    "from functools import reduce\n",
    "import operator\n",
    "\n",
    "def product_of_list(numbers):\n",
    "    return reduce(operator.mul, numbers, 1)\n",
    "nums = [2, 3, 4]\n",
    "print(product_of_list(nums))"
   ]
  },
  {
   "cell_type": "markdown",
   "id": "9e0df32b",
   "metadata": {},
   "source": [
    "\n",
    "---\n",
    "\n",
    "### Exercise 80:\n",
    "Write a Python program that converts a list of characters into a string.\n"
   ]
  },
  {
   "cell_type": "code",
   "execution_count": 157,
   "id": "379112dd",
   "metadata": {},
   "outputs": [
    {
     "name": "stdout",
     "output_type": "stream",
     "text": [
      "Hello\n"
     ]
    }
   ],
   "source": [
    "# Exercise 80\n",
    "def chars_to_string(chars):\n",
    "    return ''.join(chars)\n",
    "characters = ['H', 'e', 'l', 'l', 'o']\n",
    "print(chars_to_string(characters))"
   ]
  },
  {
   "cell_type": "markdown",
   "id": "146b572c",
   "metadata": {},
   "source": [
    "\n",
    "---\n",
    "\n",
    "### Exercise 81:\n",
    "Write a Python program that finds the second largest number in a list of integers.\n"
   ]
  },
  {
   "cell_type": "code",
   "execution_count": 158,
   "id": "676e61dd",
   "metadata": {},
   "outputs": [
    {
     "name": "stdout",
     "output_type": "stream",
     "text": [
      "30\n"
     ]
    }
   ],
   "source": [
    "# Exercise 81\n",
    "def second_largest(numbers):\n",
    "    unique_nums = list(set(numbers))\n",
    "    if len(unique_nums) < 2:\n",
    "        return None  # Not enough unique numbers\n",
    "    unique_nums.sort(reverse=True)\n",
    "    return unique_nums[1]\n",
    "nums = [10, 20, 20, 30, 40]\n",
    "print(second_largest(nums))\n"
   ]
  },
  {
   "cell_type": "markdown",
   "id": "08bf9c38",
   "metadata": {},
   "source": [
    "\n",
    "---\n",
    "\n",
    "### Exercise 82:\n",
    "Write a Python function that takes a dictionary and returns a list of its keys in sorted order.\n"
   ]
  },
  {
   "cell_type": "code",
   "execution_count": 160,
   "id": "07840783",
   "metadata": {},
   "outputs": [
    {
     "name": "stdout",
     "output_type": "stream",
     "text": [
      "['Apple', 'Banana', 'Cherry']\n"
     ]
    }
   ],
   "source": [
    "# Exercise 82\n",
    "def sorted_keys(d):\n",
    "    return sorted(d.keys())\n",
    "data = {'Banana': 3, 'Apple': 4, 'Cherry': 2}\n",
    "print(sorted_keys(data))"
   ]
  },
  {
   "cell_type": "markdown",
   "id": "63dcfc04",
   "metadata": {},
   "source": [
    "\n",
    "---\n",
    "\n",
    "### Exercise 83:\n",
    "Write a Python program that finds the most common element in a list.\n"
   ]
  },
  {
   "cell_type": "code",
   "execution_count": 161,
   "id": "2abbdaa6",
   "metadata": {},
   "outputs": [
    {
     "name": "stdout",
     "output_type": "stream",
     "text": [
      "3\n"
     ]
    }
   ],
   "source": [
    "# Exercise 83\n",
    "from collections import Counter\n",
    "\n",
    "def most_common_element(lst):\n",
    "    count = Counter(lst)\n",
    "    return count.most_common(1)[0][0] if count else None\n",
    "\n",
    "# Example:\n",
    "items = [1, 3, 2, 3, 4, 3, 2]\n",
    "print(most_common_element(items))"
   ]
  },
  {
   "cell_type": "markdown",
   "id": "3ac8727c",
   "metadata": {},
   "source": [
    "\n",
    "---\n",
    "\n",
    "### Exercise 84:\n",
    "Write a Python function that takes a list of tuples and returns a list of the tuples sorted by the first element.\n"
   ]
  },
  {
   "cell_type": "code",
   "execution_count": 162,
   "id": "a2f3af06",
   "metadata": {},
   "outputs": [
    {
     "name": "stdout",
     "output_type": "stream",
     "text": [
      "[(1, 'a'), (2, 'b'), (3, 'c')]\n"
     ]
    }
   ],
   "source": [
    "# Exercise 84\n",
    "def sort_by_first_element(tuples):\n",
    "    return sorted(tuples, key=lambda x: x[0])\n",
    "pairs = [(3, 'c'), (1, 'a'), (2, 'b')]\n",
    "print(sort_by_first_element(pairs))"
   ]
  },
  {
   "cell_type": "markdown",
   "id": "fe10fcd0",
   "metadata": {},
   "source": [
    "\n",
    "---\n",
    "\n",
    "### Exercise 85:\n",
    "Write a Python program that removes duplicates from a list of dictionaries.\n"
   ]
  },
  {
   "cell_type": "code",
   "execution_count": 163,
   "id": "5da29451",
   "metadata": {},
   "outputs": [
    {
     "name": "stdout",
     "output_type": "stream",
     "text": [
      "[{'a': 1, 'b': 2}, {'a': 2}]\n"
     ]
    }
   ],
   "source": [
    "# Exercise 85\n",
    "def remove_duplicate_dicts(dict_list):\n",
    "    seen = set()\n",
    "    unique = []\n",
    "    for d in dict_list:\n",
    "        tup = tuple(sorted(d.items()))\n",
    "        if tup not in seen:\n",
    "            seen.add(tup)\n",
    "            unique.append(d)\n",
    "    return unique\n",
    "dicts = [{'a': 1, 'b': 2}, {'a': 1, 'b': 2}, {'a': 2}]\n",
    "print(remove_duplicate_dicts(dicts))  \n",
    "# Output: [{'a': 1, 'b': 2}, {'a': 2}]"
   ]
  },
  {
   "cell_type": "markdown",
   "id": "76e005e6",
   "metadata": {},
   "source": [
    "\n",
    "---\n",
    "\n",
    "### Exercise 86:\n",
    "Write a Python function that takes a list of numbers and returns the minimum and maximum numbers in the list.\n"
   ]
  },
  {
   "cell_type": "code",
   "execution_count": 167,
   "id": "2573ccd9",
   "metadata": {},
   "outputs": [
    {
     "name": "stdout",
     "output_type": "stream",
     "text": [
      "(1, 9)\n"
     ]
    }
   ],
   "source": [
    "# Exercise 86\n",
    "def find_min_max(numbers):\n",
    "    if not numbers:\n",
    "        return None, None\n",
    "    return min(numbers), max(numbers)\n",
    "print(find_min_max([5, 2, 9, 1, 7])) "
   ]
  },
  {
   "cell_type": "markdown",
   "id": "c13d74a1",
   "metadata": {},
   "source": [
    "\n",
    "---\n",
    "\n",
    "### Exercise 87:\n",
    "Write a Python program that creates a list of tuples from two lists.\n"
   ]
  },
  {
   "cell_type": "code",
   "execution_count": 168,
   "id": "e1e91424",
   "metadata": {},
   "outputs": [
    {
     "name": "stdout",
     "output_type": "stream",
     "text": [
      "[(1, 'a'), (2, 'b'), (3, 'c')]\n"
     ]
    }
   ],
   "source": [
    "# Exercise 87\n",
    "def create_tuples(list1, list2):\n",
    "    return list(zip(list1, list2))\n",
    "list1 = [1, 2, 3]\n",
    "list2 = ['a', 'b', 'c']\n",
    "print(create_tuples(list1, list2))  # Output: [(1, 'a'), (2, 'b'), (3, 'c')]"
   ]
  },
  {
   "cell_type": "markdown",
   "id": "f0f3f4ad",
   "metadata": {},
   "source": [
    "\n",
    "---\n",
    "\n",
    "### Exercise 88:\n",
    "Write a Python function that takes a list of strings and returns a list of the strings in reverse order.\n"
   ]
  },
  {
   "cell_type": "code",
   "execution_count": 170,
   "id": "25b9437c",
   "metadata": {},
   "outputs": [
    {
     "name": "stdout",
     "output_type": "stream",
     "text": [
      "['Cherry', 'Banana', 'Apple']\n"
     ]
    }
   ],
   "source": [
    "# Exercise 88\n",
    "def reverse_strings(strings):\n",
    "    return strings[::-1]\n",
    "print(reverse_strings([\"Apple\", \"Banana\", \"Cherry\"]))"
   ]
  },
  {
   "cell_type": "markdown",
   "id": "43dc3593",
   "metadata": {},
   "source": [
    "\n",
    "---\n",
    "\n",
    "### Exercise 89:\n",
    "Write a Python function that takes a list of integers and returns the sum of all odd numbers.\n"
   ]
  },
  {
   "cell_type": "code",
   "execution_count": 171,
   "id": "d44a17e4",
   "metadata": {},
   "outputs": [
    {
     "name": "stdout",
     "output_type": "stream",
     "text": [
      "9\n"
     ]
    }
   ],
   "source": [
    "# Exercise 89\n",
    "def sum_of_odds(numbers):\n",
    "    return sum(num for num in numbers if num % 2 != 0)\n",
    "print(sum_of_odds([1, 2, 3, 4, 5])) "
   ]
  },
  {
   "cell_type": "markdown",
   "id": "b494aae8",
   "metadata": {},
   "source": [
    "\n",
    "---\n",
    "\n",
    "### Exercise 90:\n",
    "Write a Python program that checks if a string is a palindrome.\n"
   ]
  },
  {
   "cell_type": "code",
   "execution_count": 176,
   "id": "73fdee3b",
   "metadata": {},
   "outputs": [
    {
     "name": "stdin",
     "output_type": "stream",
     "text": [
      "Enter a string:  solange\n"
     ]
    },
    {
     "name": "stdout",
     "output_type": "stream",
     "text": [
      "The string is not a palindrome.\n"
     ]
    }
   ],
   "source": [
    "# Exercise 90\n",
    "def is_palindrome(s):\n",
    "    # Remove spaces and convert to lowercase\n",
    "    s = s.replace(\" \", \"\").lower()\n",
    "    return s == s[::-1]\n",
    "string = input(\"Enter a string: \")\n",
    "if is_palindrome(string):\n",
    "    print(\"The string is a palindrome.\")\n",
    "else:\n",
    "    print(\"The string is not a palindrome.\")"
   ]
  },
  {
   "cell_type": "markdown",
   "id": "632ba2b9",
   "metadata": {},
   "source": [
    "\n",
    "---\n",
    "\n",
    "### Exercise 91:\n",
    "Write a Python program that finds the median of a list of numbers.\n"
   ]
  },
  {
   "cell_type": "code",
   "execution_count": 177,
   "id": "e01eb242",
   "metadata": {},
   "outputs": [
    {
     "name": "stdout",
     "output_type": "stream",
     "text": [
      "Median: 7\n"
     ]
    }
   ],
   "source": [
    "# Exercise 91\n",
    "def find_median(numbers):\n",
    "    sorted_nums = sorted(numbers)\n",
    "    n = len(sorted_nums)\n",
    "    \n",
    "    if n % 2 == 1:\n",
    "        return sorted_nums[n // 2]\n",
    "    else:\n",
    "        # Even number of elements\n",
    "        mid1 = sorted_nums[n // 2 - 1]\n",
    "        mid2 = sorted_nums[n // 2]\n",
    "        return (mid1 + mid2) / 2\n",
    "num_list = [12, 3, 5, 7, 13]\n",
    "median = find_median(num_list)\n",
    "print(\"Median:\", median)"
   ]
  },
  {
   "cell_type": "markdown",
   "id": "cc98919a",
   "metadata": {},
   "source": [
    "\n",
    "---\n",
    "\n",
    "### Exercise 92:\n",
    "Write a Python function that takes a list of dictionaries and returns a dictionary with the total value for each key.\n"
   ]
  },
  {
   "cell_type": "code",
   "execution_count": 2,
   "id": "4b823f16",
   "metadata": {},
   "outputs": [
    {
     "name": "stdout",
     "output_type": "stream",
     "text": [
      "{'a': 4, 'b': 7, 'c': 7}\n"
     ]
    }
   ],
   "source": [
    "# Exercise 92\n",
    "def sum_dicts(dict_list):\n",
    "    result = {}\n",
    "    for d in dict_list:\n",
    "        for key, value in d.items():\n",
    "            result[key] = result.get(key, 0) + value\n",
    "    return result\n",
    "\n",
    "dicts = [\n",
    "    {\"a\": 1, \"b\": 2},\n",
    "    {\"a\": 3, \"b\": 4, \"c\": 5},\n",
    "    {\"b\": 1, \"c\": 2}\n",
    "]\n",
    "\n",
    "print(sum_dicts(dicts))"
   ]
  },
  {
   "cell_type": "markdown",
   "id": "2a7b4a1f",
   "metadata": {},
   "source": [
    "\n",
    "---\n",
    "\n",
    "### Exercise 93:\n",
    "Write a Python program that calculates the mode of a list of numbers.\n"
   ]
  },
  {
   "cell_type": "code",
   "execution_count": 173,
   "id": "42035756",
   "metadata": {},
   "outputs": [
    {
     "name": "stdout",
     "output_type": "stream",
     "text": [
      "2\n",
      "[1, 2]\n"
     ]
    }
   ],
   "source": [
    "# Exercise 93\n",
    "from collections import Counter\n",
    "\n",
    "def find_mode(numbers):\n",
    "    if not numbers:\n",
    "        return None\n",
    "    counter = Counter(numbers)\n",
    "    max_freq = max(counter.values())\n",
    "    modes = [num for num, freq in counter.items() if freq == max_freq]\n",
    "    return modes if len(modes) > 1 else modes[0]\n",
    "print(find_mode([1, 2, 2, 3, 4]))   \n",
    "print(find_mode([1, 1, 2, 2]))      "
   ]
  },
  {
   "cell_type": "markdown",
   "id": "b37470a9",
   "metadata": {},
   "source": [
    "\n",
    "---\n",
    "\n",
    "### Exercise 94:\n",
    "Write a Python function that takes a list of numbers and returns the sum of the squares of all the numbers.\n"
   ]
  },
  {
   "cell_type": "code",
   "execution_count": 174,
   "id": "6ce9e87b",
   "metadata": {},
   "outputs": [
    {
     "name": "stdout",
     "output_type": "stream",
     "text": [
      "14\n"
     ]
    }
   ],
   "source": [
    "# Exercise 94\n",
    "def sum_of_squares(numbers):\n",
    "    return sum(x**2 for x in numbers)\n",
    "print(sum_of_squares([1, 2, 3]))  # Output: 14"
   ]
  },
  {
   "cell_type": "markdown",
   "id": "cd40161b",
   "metadata": {},
   "source": [
    "\n",
    "---\n",
    "\n",
    "### Exercise 95:\n",
    "Write a Python program that creates a list of tuples, where each tuple contains a number and its cube for numbers from 1 to 5.\n"
   ]
  },
  {
   "cell_type": "code",
   "execution_count": 175,
   "id": "6d8fe1a0",
   "metadata": {},
   "outputs": [
    {
     "name": "stdout",
     "output_type": "stream",
     "text": [
      "[(1, 1), (2, 8), (3, 27), (4, 64), (5, 125)]\n"
     ]
    }
   ],
   "source": [
    "# Exercise 95\n",
    "def number_cubes():\n",
    "    return [(x, x**3) for x in range(1, 6)]\n",
    "print(number_cubes())  "
   ]
  },
  {
   "cell_type": "markdown",
   "id": "ae965a3c",
   "metadata": {},
   "source": [
    "\n",
    "---\n",
    "\n",
    "### Exercise 96:\n",
    "Write a Python function that returns a list of all prime numbers up to `n`.\n"
   ]
  },
  {
   "cell_type": "code",
   "execution_count": 165,
   "id": "922ee043",
   "metadata": {},
   "outputs": [
    {
     "name": "stdout",
     "output_type": "stream",
     "text": [
      "['Apple', 'Banana', 'Cherry']\n"
     ]
    }
   ],
   "source": [
    "# Exercise 96\n",
    "def sorted_dict_keys(d):\n",
    "    return sorted(d.keys())\n",
    "my_dict = {'Banana': 3, 'Apple': 5, 'Cherry': 2}\n",
    "print(sorted_dict_keys(my_dict))"
   ]
  },
  {
   "cell_type": "markdown",
   "id": "d5568b95",
   "metadata": {},
   "source": [
    "\n",
    "---\n",
    "\n",
    "### Exercise 97:\n",
    "Write a Python program that finds the common keys between two dictionaries.\n"
   ]
  },
  {
   "cell_type": "code",
   "execution_count": 166,
   "id": "7dc99fcf",
   "metadata": {},
   "outputs": [
    {
     "name": "stdout",
     "output_type": "stream",
     "text": [
      "['z', 'y']\n"
     ]
    }
   ],
   "source": [
    "# Exercise 97\n",
    "def common_keys(dict1, dict2):\n",
    "    return list(set(dict1.keys()) & set(dict2.keys()))\n",
    "a = {'x': 1, 'y': 2, 'z': 3}\n",
    "b = {'y': 9, 'z': 8, 'w': 7}\n",
    "print(common_keys(a, b))  # Output: ['y', 'z']"
   ]
  },
  {
   "cell_type": "markdown",
   "id": "bc63aa23",
   "metadata": {},
   "source": [
    "\n",
    "---\n",
    "\n",
    "### Exercise 98:\n",
    "Write a Python function that takes a list of strings and returns a list of the strings that contain more than 5 characters.\n"
   ]
  },
  {
   "cell_type": "code",
   "execution_count": 151,
   "id": "5d279573",
   "metadata": {},
   "outputs": [
    {
     "name": "stdout",
     "output_type": "stream",
     "text": [
      "[3, 5]\n"
     ]
    }
   ],
   "source": [
    "# Exercise 98\n",
    "def filter_positive_integers(numbers):\n",
    "    return [num for num in numbers if num > 0]\n",
    "\n",
    "# Example:\n",
    "nums = [-2, 0, 3, -1, 5]\n",
    "print(filter_positive_integers(nums))"
   ]
  },
  {
   "cell_type": "markdown",
   "id": "d7b1bc80",
   "metadata": {},
   "source": [
    "\n",
    "---\n",
    "\n",
    "### Exercise 99:\n",
    "Write a Python program that converts a list of strings into a list of tuples, where each tuple contains the string and its length.\n"
   ]
  },
  {
   "cell_type": "code",
   "execution_count": 153,
   "id": "872e6d36",
   "metadata": {},
   "outputs": [
    {
     "name": "stdout",
     "output_type": "stream",
     "text": [
      "[('Apple', 5), ('Banana', 6), ('Kiwi', 4)]\n"
     ]
    }
   ],
   "source": [
    "# Exercise 99\n",
    "def strings_with_lengths(strings):\n",
    "    return [(s, len(s)) for s in strings]\n",
    "words = [\"Apple\", \"Banana\", \"Kiwi\"]\n",
    "print(strings_with_lengths(words))  "
   ]
  },
  {
   "cell_type": "markdown",
   "id": "277dc676",
   "metadata": {},
   "source": [
    "\n",
    "---\n",
    "\n",
    "### Exercise 100:\n",
    "Write a Python function that takes a list of dictionaries and returns a new dictionary by summing the values of each key across all dictionaries.\n"
   ]
  },
  {
   "cell_type": "code",
   "execution_count": 179,
   "id": "7667d86f",
   "metadata": {},
   "outputs": [
    {
     "name": "stdout",
     "output_type": "stream",
     "text": [
      "{'a': 4, 'b': 6, 'c': 5}\n"
     ]
    }
   ],
   "source": [
    "# Exercise 100\n",
    "from collections import defaultdict\n",
    "\n",
    "def sum_dict_values(dicts):\n",
    "    result = defaultdict(int)\n",
    "    for d in dicts:\n",
    "        for key, value in d.items():\n",
    "            result[key] += value\n",
    "    return dict(result)\n",
    "dict_list = [{'a': 1, 'b': 2}, {'a': 3, 'b': 4}, {'c': 5}]\n",
    "print(sum_dict_values(dict_list))"
   ]
  },
  {
   "cell_type": "code",
   "execution_count": null,
   "id": "6a107c1d-4199-49ba-81a9-e433d8c5452c",
   "metadata": {},
   "outputs": [],
   "source": []
  }
 ],
 "metadata": {
  "kernelspec": {
   "display_name": "Python 3 (ipykernel)",
   "language": "python",
   "name": "python3"
  },
  "language_info": {
   "codemirror_mode": {
    "name": "ipython",
    "version": 3
   },
   "file_extension": ".py",
   "mimetype": "text/x-python",
   "name": "python",
   "nbconvert_exporter": "python",
   "pygments_lexer": "ipython3",
   "version": "3.12.7"
  }
 },
 "nbformat": 4,
 "nbformat_minor": 5
}
